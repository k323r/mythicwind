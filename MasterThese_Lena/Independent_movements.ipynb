{
 "cells": [
  {
   "cell_type": "code",
   "execution_count": 1,
   "id": "e7c61063",
   "metadata": {},
   "outputs": [],
   "source": [
    "# IMPORTS\n",
    "\n",
    "import pandas as pd\n",
    "import numpy as np\n",
    "import matplotlib.pyplot as plt\n",
    "import scipy.stats as stats\n",
    "import math \n",
    "import pylab \n",
    "\n",
    "from matplotlib.dates import DateFormatter\n",
    "from glob import glob\n",
    "from os import path\n",
    "from collections import defaultdict\n",
    "#from virocon import (\n",
    "    #GlobalHierarchicalModel,\n",
    "    #ExponentiatedWeibullDistribution,\n",
    "    #WeibullDistribution,\n",
    "    #DependenceFunction,\n",
    "    #WidthOfIntervalSlicer,\n",
    "    #plot_marginal_quantiles,\n",
    "    #plot_dependence_functions,\n",
    "#)\n",
    "\n",
    "import sys\n",
    "sys.path.insert(0, path.abspath(path.join(path.curdir, '../src')))\n",
    "\n",
    "%matplotlib notebook"
   ]
  },
  {
   "cell_type": "markdown",
   "id": "09a92b84",
   "metadata": {},
   "source": [
    "# Load all needed data"
   ]
  },
  {
   "cell_type": "markdown",
   "id": "13306d6e",
   "metadata": {},
   "source": [
    "## Wind"
   ]
  },
  {
   "cell_type": "code",
   "execution_count": 2,
   "id": "fb4279f1",
   "metadata": {},
   "outputs": [
    {
     "name": "stdout",
     "output_type": "stream",
     "text": [
      "<class 'pandas._libs.tslibs.timestamps.Timestamp'>\n",
      "2019-12-25 23:59:00+00:00\n"
     ]
    }
   ],
   "source": [
    "# WIND DATA\n",
    "\n",
    "#wind_data = pd.read_csv('/Volumes/MASTERTHESE/MasterThese/wind_data_resampled1s_UTC.csv')\n",
    "wind_data = pd.read_csv('/Volumes/MASTERTHESE/MasterThese/wind_data_resampled1min_UTC.csv')\n",
    "wind_data.set_index('datetime', inplace=True)\n",
    "#wind_data.index= wind_data.index.tz_convert('UTC')\n",
    "wind_data.index= pd.DatetimeIndex(wind_data.index)\n",
    "print(type(wind_data.index[-1]))\n",
    "print(wind_data.index[-1])"
   ]
  },
  {
   "cell_type": "markdown",
   "id": "bc34df66",
   "metadata": {},
   "source": [
    "## Waves"
   ]
  },
  {
   "cell_type": "code",
   "execution_count": 3,
   "id": "dd8b8e67",
   "metadata": {},
   "outputs": [
    {
     "name": "stderr",
     "output_type": "stream",
     "text": [
      "/Applications/anaconda3/envs/env_masterthese/lib/python3.8/site-packages/IPython/core/interactiveshell.py:3165: DtypeWarning: Columns (3) have mixed types.Specify dtype option on import or set low_memory=False.\n",
      "  has_raised = await self.run_ast_nodes(code_ast.body, cell_name,\n"
     ]
    },
    {
     "name": "stdout",
     "output_type": "stream",
     "text": [
      "<class 'pandas._libs.tslibs.timestamps.Timestamp'>\n",
      "2019-12-25 23:30:00+00:00\n",
      "                            Zeitpunkt gerundet                      Date/Time  \\\n",
      "time                                                                            \n",
      "2019-08-03 00:00:00+00:00  2019-08-03 00:00:00  2019-08-03T00:05:00.000+02:00   \n",
      "2019-08-03 00:01:00+00:00  2019-08-03 00:00:00  2019-08-03T00:05:00.000+02:00   \n",
      "2019-08-03 00:02:00+00:00  2019-08-03 00:00:00  2019-08-03T00:05:00.000+02:00   \n",
      "2019-08-03 00:03:00+00:00  2019-08-03 00:00:00  2019-08-03T00:05:00.000+02:00   \n",
      "2019-08-03 00:04:00+00:00  2019-08-03 00:00:00  2019-08-03T00:05:00.000+02:00   \n",
      "...                                        ...                            ...   \n",
      "2019-12-25 23:26:00+00:00  2019-12-25 23:00:00  2019-12-25T23:04:59,999+01:00   \n",
      "2019-12-25 23:27:00+00:00  2019-12-25 23:00:00  2019-12-25T23:04:59,999+01:00   \n",
      "2019-12-25 23:28:00+00:00  2019-12-25 23:00:00  2019-12-25T23:04:59,999+01:00   \n",
      "2019-12-25 23:29:00+00:00  2019-12-25 23:00:00  2019-12-25T23:04:59,999+01:00   \n",
      "2019-12-25 23:30:00+00:00  2019-12-25 23:30:00  2019-12-25T23:34:59,999+01:00   \n",
      "\n",
      "                             Tp   Dirp  Sprp     Tz   Hm0    TI    T1    Tc  \\\n",
      "time                                                                          \n",
      "2019-08-03 00:00:00+00:00     <  336.1  42.6  3.738  0.93  4.52  3.91  3.05   \n",
      "2019-08-03 00:01:00+00:00     <  336.1  42.6  3.738  0.93  4.52  3.91  3.05   \n",
      "2019-08-03 00:02:00+00:00     <  336.1  42.6  3.738  0.93  4.52  3.91  3.05   \n",
      "2019-08-03 00:03:00+00:00     <  336.1  42.6  3.738  0.93  4.52  3.91  3.05   \n",
      "2019-08-03 00:04:00+00:00     <  336.1  42.6  3.738  0.93  4.52  3.91  3.05   \n",
      "...                         ...    ...   ...    ...   ...   ...   ...   ...   \n",
      "2019-12-25 23:26:00+00:00  5.88  271.4  27.1  4.396  1.17  5.63  4.72  3.21   \n",
      "2019-12-25 23:27:00+00:00  5.88  271.4  27.1  4.396  1.17  5.63  4.72  3.21   \n",
      "2019-12-25 23:28:00+00:00  5.88  271.4  27.1  4.396  1.17  5.63  4.72  3.21   \n",
      "2019-12-25 23:29:00+00:00  5.88  271.4  27.1  4.396  1.17  5.63  4.72  3.21   \n",
      "2019-12-25 23:30:00+00:00  6.25  278.4  28.2  4.255  1.09  5.62  4.62  3.11   \n",
      "\n",
      "                           ...  Hmax  Tmax  H(1/10)  T(1/10)  H(1/3)  T(1/3)  \\\n",
      "time                       ...                                                 \n",
      "2019-08-03 00:00:00+00:00  ...  1.42  4.58   1.0601     4.37  0.8561    4.49   \n",
      "2019-08-03 00:01:00+00:00  ...  1.42  4.58   1.0601     4.37  0.8561    4.49   \n",
      "2019-08-03 00:02:00+00:00  ...  1.42  4.58   1.0601     4.37  0.8561    4.49   \n",
      "2019-08-03 00:03:00+00:00  ...  1.42  4.58   1.0601     4.37  0.8561    4.49   \n",
      "2019-08-03 00:04:00+00:00  ...  1.42  4.58   1.0601     4.37  0.8561    4.49   \n",
      "...                        ...   ...   ...      ...      ...     ...     ...   \n",
      "2019-12-25 23:26:00+00:00  ...  1.53  5.34   1.1892     5.44  0.9857    5.30   \n",
      "2019-12-25 23:27:00+00:00  ...  1.53  5.34   1.1892     5.44  0.9857    5.30   \n",
      "2019-12-25 23:28:00+00:00  ...  1.53  5.34   1.1892     5.44  0.9857    5.30   \n",
      "2019-12-25 23:29:00+00:00  ...  1.53  5.34   1.1892     5.44  0.9857    5.30   \n",
      "2019-12-25 23:30:00+00:00  ...  1.81  5.46   1.2700     5.41  0.9935    5.42   \n",
      "\n",
      "                             Hav   Tav      Eps  #Waves  \n",
      "time                                                     \n",
      "2019-08-03 00:00:00+00:00  54.54  3.83  525.000     469  \n",
      "2019-08-03 00:01:00+00:00  54.54  3.83  525.000     469  \n",
      "2019-08-03 00:02:00+00:00  54.54  3.83  525.000     469  \n",
      "2019-08-03 00:03:00+00:00  54.54  3.83  525.000     469  \n",
      "2019-08-03 00:04:00+00:00  54.54  3.83  525.000     469  \n",
      "...                          ...   ...      ...     ...  \n",
      "2019-12-25 23:26:00+00:00  62.31  4.31    0.627     416  \n",
      "2019-12-25 23:27:00+00:00  62.31  4.31    0.627     416  \n",
      "2019-12-25 23:28:00+00:00  62.31  4.31    0.627     416  \n",
      "2019-12-25 23:29:00+00:00  62.31  4.31    0.627     416  \n",
      "2019-12-25 23:30:00+00:00  63.82  4.39    0.629     409  \n",
      "\n",
      "[208771 rows x 32 columns]\n"
     ]
    }
   ],
   "source": [
    "# WAVE DATA\n",
    "\n",
    "#wave_data = pd.read_csv('/Volumes/MASTERTHESE/MasterThese/wave_data_resampled1s_UTC.csv')\n",
    "wave_data = pd.read_csv('/Volumes/MASTERTHESE/MasterThese/wave_data_resampled1min_UTC.csv')\n",
    "wave_data.set_index('time', inplace=True)\n",
    "wave_data.index= pd.DatetimeIndex(wave_data.index)\n",
    "print(type(wave_data.index[-1]))\n",
    "print(wave_data.index[-1])\n",
    "print(wave_data)"
   ]
  },
  {
   "cell_type": "markdown",
   "id": "c6667df9",
   "metadata": {},
   "source": [
    "## Blade landings"
   ]
  },
  {
   "cell_type": "code",
   "execution_count": 4,
   "id": "050e8619",
   "metadata": {},
   "outputs": [],
   "source": [
    "# BLADE LANDINGS BAS\n",
    "\n",
    "blade_landings= pd.read_csv('/Volumes/MASTERTHESE/MasterThese/blade_landing_helihoist_sbitroot.txt')\n",
    "\n",
    "# make epoch index of dataframe and convert epoch into readable dates\n",
    "blade_landings.epoch_land= blade_landings.epoch_land.apply(lambda x: pd.to_datetime(x, unit= 's', utc=True))\n",
    "\n",
    "# convert blade landings of turbine 8 into readable dates\n",
    "#blade_landing1= pd.to_datetime(1.571127e+09, unit='s', utc=True)\n",
    "#blade_landing2= pd.to_datetime(1.571154e+09, unit='s', utc=True)\n",
    "#blade_landing3= pd.to_datetime(1.571188e+09, unit='s', utc=True)\n",
    "#landings = (blade_landing1, blade_landing2, blade_landing3)\n",
    "\n",
    "landings_tb4 = (pd.to_datetime(blade_landings.epoch_land[0]))\n",
    "landings_tb5 = (pd.to_datetime(blade_landings.epoch_land[1]), pd.to_datetime(blade_landings.epoch_land[2]), pd.to_datetime(blade_landings.epoch_land[3]))\n",
    "landings_tb6 = (pd.to_datetime(blade_landings.epoch_land[4]), pd.to_datetime(blade_landings.epoch_land[5]))\n",
    "landings_tb7 = (pd.to_datetime(blade_landings.epoch_land[6]), pd.to_datetime(blade_landings.epoch_land[7]), pd.to_datetime(blade_landings.epoch_land[8]))\n",
    "landings_tb8 = (pd.to_datetime(blade_landings.epoch_land[9]), pd.to_datetime(blade_landings.epoch_land[10]), pd.to_datetime(blade_landings.epoch_land[11]))\n",
    "landings_tb10 = (pd.to_datetime(blade_landings.epoch_land[12]))\n",
    "landings_tb11 = (pd.to_datetime(blade_landings.epoch_land[13]), pd.to_datetime(blade_landings.epoch_land[14]))\n",
    "landings_tb12 = (pd.to_datetime(blade_landings.epoch_land[15]), pd.to_datetime(blade_landings.epoch_land[16]))\n",
    "landings_tb13 = (pd.to_datetime(blade_landings.epoch_land[17]), pd.to_datetime(blade_landings.epoch_land[18]))\n",
    "landings_tb14 = (pd.to_datetime(blade_landings.epoch_land[19]), pd.to_datetime(blade_landings.epoch_land[20]), pd.to_datetime(blade_landings.epoch_land[21]))"
   ]
  },
  {
   "cell_type": "markdown",
   "id": "32e392e9",
   "metadata": {},
   "source": [
    "## GPS Data"
   ]
  },
  {
   "cell_type": "code",
   "execution_count": 5,
   "id": "b6c51ed7",
   "metadata": {},
   "outputs": [],
   "source": [
    "# READ CSV files of GPS Data: turbine 4\n",
    "\n",
    "# sbitroot\n",
    "gps_sbitroot_tb4= pd.read_csv('/Volumes/MASTERTHESE/MasterThese/GPS/turbine-04_sbitroot_tom_gps.csv')\n",
    "gps_sbitroot_tb4.epoch= pd.to_datetime(gps_sbitroot_tb4.epoch, unit= 's', utc=True)\n",
    "gps_sbitroot_tb4.set_index('epoch', inplace=True)\n",
    "\n",
    "# sbittip\n",
    "gps_sbittip_tb4= pd.read_csv('/Volumes/MASTERTHESE/MasterThese/GPS/turbine-04_sbittip_tom_gps.csv')\n",
    "gps_sbittip_tb4.epoch= pd.to_datetime(gps_sbittip_tb4.epoch, unit= 's', utc=True)\n",
    "gps_sbittip_tb4.set_index('epoch', inplace=True)\n",
    "\n",
    "# helihoist\n",
    "gps_helih_tb4= pd.read_csv('/Volumes/MASTERTHESE/MasterThese/GPS/turbine-04_helihoist-1_tom_gps.csv')\n",
    "gps_helih_tb4.epoch= pd.to_datetime(gps_helih_tb4.epoch, unit= 's', utc=True)\n",
    "gps_helih_tb4.set_index('epoch', inplace=True)"
   ]
  },
  {
   "cell_type": "code",
   "execution_count": 6,
   "id": "4f798743",
   "metadata": {},
   "outputs": [],
   "source": [
    "# READ CSV files of GPS Data: turbine 5\n",
    "\n",
    "# sbitroot\n",
    "gps_sbitroot_tb5= pd.read_csv('/Volumes/MASTERTHESE//MasterThese/GPS/turbine-05_sbitroot_tom_gps.csv')\n",
    "gps_sbitroot_tb5.epoch= pd.to_datetime(gps_sbitroot_tb5.epoch, unit= 's', utc=True)\n",
    "gps_sbitroot_tb5.set_index('epoch', inplace=True)\n",
    "\n",
    "# sbittip\n",
    "gps_sbittip_tb5= pd.read_csv('/Volumes/MASTERTHESE/MasterThese/GPS/turbine-05_sbittip_tom_gps.csv')\n",
    "gps_sbittip_tb5.epoch= pd.to_datetime(gps_sbittip_tb5.epoch, unit= 's', utc=True)\n",
    "gps_sbittip_tb5.set_index('epoch', inplace=True)\n",
    "\n",
    "# helihoist\n",
    "gps_helih_tb5= pd.read_csv('/Volumes/MASTERTHESE/MasterThese/GPS/turbine-05_helihoist-1_tom_gps.csv')\n",
    "gps_helih_tb5.epoch= pd.to_datetime(gps_helih_tb5.epoch, unit= 's', utc=True)\n",
    "gps_helih_tb5.set_index('epoch', inplace=True)"
   ]
  },
  {
   "cell_type": "code",
   "execution_count": 7,
   "id": "41b3e616",
   "metadata": {},
   "outputs": [],
   "source": [
    "# READ CSV files of GPS Data: turbine 6\n",
    "\n",
    "# sbitroot\n",
    "gps_sbitroot_tb6= pd.read_csv('/Volumes/MASTERTHESE/MasterThese/GPS/turbine-06_sbitroot_tom_gps.csv')\n",
    "gps_sbitroot_tb6.epoch= pd.to_datetime(gps_sbitroot_tb6.epoch, unit= 's', utc=True)\n",
    "gps_sbitroot_tb6.set_index('epoch', inplace=True)\n",
    "\n",
    "# sbittip\n",
    "gps_sbittip_tb6= pd.read_csv('/Volumes/MASTERTHESE/MasterThese/GPS/turbine-06_sbittip_tom_gps.csv')\n",
    "gps_sbittip_tb6.epoch= pd.to_datetime(gps_sbittip_tb6.epoch, unit= 's', utc=True)\n",
    "gps_sbittip_tb6.set_index('epoch', inplace=True)\n",
    "\n",
    "# helihoist\n",
    "gps_helih_tb6= pd.read_csv('/Volumes/MASTERTHESE/MasterThese/GPS/turbine-06_helihoist-1_tom_gps.csv')\n",
    "gps_helih_tb6.epoch= pd.to_datetime(gps_helih_tb6.epoch, unit= 's', utc=True)\n",
    "gps_helih_tb6.set_index('epoch', inplace=True)"
   ]
  },
  {
   "cell_type": "code",
   "execution_count": 8,
   "id": "c8e1ac5c",
   "metadata": {},
   "outputs": [],
   "source": [
    "# READ CSV files of GPS Data: turbine 7\n",
    "\n",
    "# sbitroot\n",
    "gps_sbitroot_tb7= pd.read_csv('/Volumes/MASTERTHESE/MasterThese/GPS/turbine-07_sbitroot_tom_gps.csv')\n",
    "gps_sbitroot_tb7.epoch= pd.to_datetime(gps_sbitroot_tb7.epoch, unit= 's', utc=True)\n",
    "gps_sbitroot_tb7.set_index('epoch', inplace=True)\n",
    "\n",
    "# sbittip\n",
    "gps_sbittip_tb7= pd.read_csv('/Volumes/MASTERTHESE/MasterThese/GPS/turbine-07_sbittip_tom_gps.csv')\n",
    "gps_sbittip_tb7.epoch= pd.to_datetime(gps_sbittip_tb7.epoch, unit= 's', utc=True)\n",
    "gps_sbittip_tb7.set_index('epoch', inplace=True)\n",
    "\n",
    "# helihoist\n",
    "gps_helih_tb7= pd.read_csv('/Volumes/MASTERTHESE/MasterThese/GPS/turbine-07_helihoist-1_tom_gps.csv')\n",
    "gps_helih_tb7.epoch= pd.to_datetime(gps_helih_tb7.epoch, unit= 's', utc=True)\n",
    "gps_helih_tb7.set_index('epoch', inplace=True)"
   ]
  },
  {
   "cell_type": "code",
   "execution_count": 9,
   "id": "25e505ca",
   "metadata": {},
   "outputs": [],
   "source": [
    "# READ CSV files of GPS Data: turbine 8\n",
    "\n",
    "# sbitroot\n",
    "gps_sbitroot_tb8= pd.read_csv('/Volumes/MASTERTHESE/MasterThese/GPS/turbine-08_sbitroot_tom_gps.csv')\n",
    "gps_sbitroot_tb8.epoch= pd.to_datetime(gps_sbitroot_tb8.epoch, unit= 's', utc=True)\n",
    "gps_sbitroot_tb8.set_index('epoch', inplace=True)\n",
    "\n",
    "# sbittip\n",
    "gps_sbittip_tb8= pd.read_csv('/Volumes/MASTERTHESE/MasterThese/GPS/turbine-08_sbittip_tom_gps.csv')\n",
    "gps_sbittip_tb8.epoch= pd.to_datetime(gps_sbittip_tb8.epoch, unit= 's', utc=True)\n",
    "gps_sbittip_tb8.set_index('epoch', inplace=True)\n",
    "\n",
    "# helihoist\n",
    "gps_helih_tb8= pd.read_csv('/Volumes/MASTERTHESE/MasterThese/GPS/turbine-08_helihoist-1_tom_gps.csv')\n",
    "gps_helih_tb8.epoch= pd.to_datetime(gps_helih_tb8.epoch, unit= 's', utc=True)\n",
    "gps_helih_tb8.set_index('epoch', inplace=True)"
   ]
  },
  {
   "cell_type": "code",
   "execution_count": 10,
   "id": "363d22b8",
   "metadata": {},
   "outputs": [],
   "source": [
    "# READ CSV files of GPS Data: turbine 10\n",
    "\n",
    "# sbitroot\n",
    "gps_sbitroot_tb10= pd.read_csv('/Volumes/MASTERTHESE/MasterThese/GPS/turbine-10_sbitroot_tom_gps.csv')\n",
    "gps_sbitroot_tb10.epoch= pd.to_datetime(gps_sbitroot_tb10.epoch, unit= 's', utc=True)\n",
    "gps_sbitroot_tb10.set_index('epoch', inplace=True)\n",
    "\n",
    "# sbittip\n",
    "gps_sbittip_tb10= pd.read_csv('/Volumes/MASTERTHESE/MasterThese/GPS/turbine-10_sbittip_tom_gps.csv')\n",
    "gps_sbittip_tb10.epoch= pd.to_datetime(gps_sbittip_tb10.epoch, unit= 's', utc=True)\n",
    "gps_sbittip_tb10.set_index('epoch', inplace=True)\n",
    "\n",
    "# helihoist\n",
    "gps_helih_tb10= pd.read_csv('/Volumes/MASTERTHESE/MasterThese/GPS/turbine-10_helihoist-1_tom_gps.csv')\n",
    "gps_helih_tb10.epoch= pd.to_datetime(gps_helih_tb10.epoch, unit= 's', utc=True)\n",
    "gps_helih_tb10.set_index('epoch', inplace=True)"
   ]
  },
  {
   "cell_type": "code",
   "execution_count": 11,
   "id": "9e2918e8",
   "metadata": {},
   "outputs": [],
   "source": [
    "# READ CSV files of GPS Data: turbine 11\n",
    "\n",
    "# sbitroot\n",
    "gps_sbitroot_tb11= pd.read_csv('/Volumes/MASTERTHESE/MasterThese/GPS/turbine-11_sbitroot_tom_gps.csv')\n",
    "gps_sbitroot_tb11.epoch= pd.to_datetime(gps_sbitroot_tb11.epoch, unit= 's', utc=True)\n",
    "gps_sbitroot_tb11.set_index('epoch', inplace=True)\n",
    "\n",
    "# sbittip\n",
    "gps_sbittip_tb11= pd.read_csv('/Volumes/MASTERTHESE/MasterThese/GPS/turbine-11_sbittip_tom_gps.csv')\n",
    "gps_sbittip_tb11.epoch= pd.to_datetime(gps_sbittip_tb11.epoch, unit= 's', utc=True)\n",
    "gps_sbittip_tb11.set_index('epoch', inplace=True)\n",
    "\n",
    "# helihoist\n",
    "gps_helih_tb11= pd.read_csv('/Volumes/MASTERTHESE/MasterThese/GPS/turbine-11_helihoist-1_tom_gps.csv')\n",
    "gps_helih_tb11.epoch= pd.to_datetime(gps_helih_tb11.epoch, unit= 's', utc=True)\n",
    "gps_helih_tb11.set_index('epoch', inplace=True)"
   ]
  },
  {
   "cell_type": "code",
   "execution_count": 12,
   "id": "2b9edd63",
   "metadata": {},
   "outputs": [],
   "source": [
    "# READ CSV files of GPS Data: turbine 12\n",
    "\n",
    "# sbitroot\n",
    "gps_sbitroot_tb12= pd.read_csv('/Volumes/MASTERTHESE/MasterThese/GPS/turbine-12_sbitroot_tom_gps.csv')\n",
    "gps_sbitroot_tb12.epoch= pd.to_datetime(gps_sbitroot_tb12.epoch, unit= 's', utc=True)\n",
    "gps_sbitroot_tb12.set_index('epoch', inplace=True)\n",
    "\n",
    "# sbittip\n",
    "gps_sbittip_tb12= pd.read_csv('/Volumes/MASTERTHESE/MasterThese/GPS/turbine-12_sbittip_tom_gps.csv')\n",
    "gps_sbittip_tb12.epoch= pd.to_datetime(gps_sbittip_tb12.epoch, unit= 's', utc=True)\n",
    "gps_sbittip_tb12.set_index('epoch', inplace=True)\n",
    "\n",
    "# helihoist\n",
    "gps_helih_tb12= pd.read_csv('/Volumes/MASTERTHESE/MasterThese/GPS/turbine-12_helihoist-1_tom_gps.csv')\n",
    "gps_helih_tb12.epoch= pd.to_datetime(gps_helih_tb12.epoch, unit= 's', utc=True)\n",
    "gps_helih_tb12.set_index('epoch', inplace=True)"
   ]
  },
  {
   "cell_type": "code",
   "execution_count": 13,
   "id": "259f4419",
   "metadata": {},
   "outputs": [],
   "source": [
    "# READ CSV files of GPS Data: turbine 13\n",
    "\n",
    "# sbitroot\n",
    "gps_sbitroot_tb13= pd.read_csv('/Volumes/MASTERTHESE/MasterThese/GPS/turbine-13_sbitroot_tom_gps.csv')\n",
    "gps_sbitroot_tb13.epoch= pd.to_datetime(gps_sbitroot_tb13.epoch, unit= 's', utc=True)\n",
    "gps_sbitroot_tb13.set_index('epoch', inplace=True)\n",
    "\n",
    "# sbittip\n",
    "gps_sbittip_tb13= pd.read_csv('/Volumes/MASTERTHESE/MasterThese/GPS/turbine-13_sbittip_tom_gps.csv')\n",
    "gps_sbittip_tb13.epoch= pd.to_datetime(gps_sbittip_tb13.epoch, unit= 's', utc=True)\n",
    "gps_sbittip_tb13.set_index('epoch', inplace=True)\n",
    "\n",
    "# helihoist\n",
    "gps_helih_tb13= pd.read_csv('/Volumes/MASTERTHESE/MasterThese/GPS/turbine-13_helihoist-1_tom_gps.csv')\n",
    "gps_helih_tb13.epoch= pd.to_datetime(gps_helih_tb13.epoch, unit= 's', utc=True)\n",
    "gps_helih_tb13.set_index('epoch', inplace=True)"
   ]
  },
  {
   "cell_type": "code",
   "execution_count": 14,
   "id": "e479dffc",
   "metadata": {},
   "outputs": [],
   "source": [
    "# READ CSV files of GPS Data: turbine 14\n",
    "\n",
    "# sbitroot\n",
    "gps_sbitroot_tb14= pd.read_csv('/Volumes/MASTERTHESE/MasterThese/GPS/turbine-14_sbitroot_tom_gps.csv')\n",
    "gps_sbitroot_tb14.epoch= pd.to_datetime(gps_sbitroot_tb14.epoch, unit= 's', utc=True)\n",
    "gps_sbitroot_tb14.set_index('epoch', inplace=True)\n",
    "\n",
    "# sbittip\n",
    "gps_sbittip_tb14= pd.read_csv('/Volumes/MASTERTHESE/MasterThese/GPS/turbine-14_sbittip_tom_gps.csv')\n",
    "gps_sbittip_tb14.epoch= pd.to_datetime(gps_sbittip_tb14.epoch, unit= 's', utc=True)\n",
    "gps_sbittip_tb14.set_index('epoch', inplace=True)\n",
    "\n",
    "# helihoist\n",
    "gps_helih_tb14= pd.read_csv('/Volumes/MASTERTHESE/MasterThese/GPS/turbine-14_helihoist-1_tom_gps.csv')\n",
    "gps_helih_tb14.epoch= pd.to_datetime(gps_helih_tb14.epoch, unit= 's', utc=True)\n",
    "gps_helih_tb14.set_index('epoch', inplace=True)"
   ]
  },
  {
   "cell_type": "code",
   "execution_count": 15,
   "id": "877f532a",
   "metadata": {},
   "outputs": [],
   "source": [
    "# READ CSV files of GPS Data: turbine 16\n",
    "\n",
    "# sbitroot\n",
    "gps_sbitroot_tb16= pd.read_csv('/Volumes/MASTERTHESE/MasterThese/GPS/turbine-16_sbitroot_tom_gps.csv')\n",
    "gps_sbitroot_tb16.epoch= pd.to_datetime(gps_sbitroot_tb16.epoch, unit= 's', utc=True)\n",
    "gps_sbitroot_tb16.set_index('epoch', inplace=True)\n",
    "\n",
    "# sbittip\n",
    "gps_sbittip_tb16= pd.read_csv('/Volumes/MASTERTHESE/MasterThese/GPS/turbine-16_sbittip_tom_gps.csv')\n",
    "gps_sbittip_tb16.epoch= pd.to_datetime(gps_sbittip_tb16.epoch, unit= 's', utc=True)\n",
    "gps_sbittip_tb16.set_index('epoch', inplace=True)\n",
    "\n",
    "# helihoist\n",
    "gps_helih_tb16= pd.read_csv('/Volumes/MASTERTHESE/MasterThese/GPS/turbine-16_helihoist-1_tom_gps.csv')\n",
    "gps_helih_tb16.epoch= pd.to_datetime(gps_helih_tb16.epoch, unit= 's', utc=True)\n",
    "gps_helih_tb16.set_index('epoch', inplace=True)"
   ]
  },
  {
   "cell_type": "markdown",
   "id": "adfef94f",
   "metadata": {},
   "source": [
    "## Oscillation data"
   ]
  },
  {
   "cell_type": "code",
   "execution_count": 16,
   "id": "b11dc8ff",
   "metadata": {},
   "outputs": [],
   "source": [
    "def concat_data(path):\n",
    "    # concatenate files\n",
    "    # indicate the correct path\n",
    "    # files to concatenate must be in the same directory\n",
    "    \n",
    "    files = glob(path + \"/*.csv\")\n",
    "\n",
    "    data = []\n",
    "\n",
    "    for filename in files:\n",
    "        df = pd.read_csv(filename, index_col=None, header=0)\n",
    "        data.append(df)\n",
    "\n",
    "    frame = pd.concat(data, axis=0, ignore_index=True)\n",
    "\n",
    "    frame.epoch= pd.to_datetime(frame.epoch, unit= 's', utc=True)\n",
    "    frame.set_index('epoch', inplace=True)\n",
    "    frame = frame.sort_index()\n",
    "    \n",
    "\n",
    "    return frame"
   ]
  },
  {
   "cell_type": "code",
   "execution_count": 17,
   "id": "8cc61eb1",
   "metadata": {},
   "outputs": [],
   "source": [
    "# TB 4\n",
    "\n",
    "path_tb4_hh = r'/Volumes/MASTERTHESE/MasterThese/turbines/tb4/Blade_Landings/Helihoist'\n",
    "hh_frame_tb4 = concat_data(path_tb4_hh)\n",
    "\n",
    "path_tb4_sbitroot = r'/Volumes/MASTERTHESE/MasterThese/turbines/tb4/Blade_Landings/sbitroot'\n",
    "sbitroot_frame_tb4 = concat_data(path_tb4_sbitroot)"
   ]
  },
  {
   "cell_type": "code",
   "execution_count": 18,
   "id": "cc1a0441",
   "metadata": {},
   "outputs": [],
   "source": [
    "# TB 5\n",
    "\n",
    "path_tb5_hh = r'/Volumes/MASTERTHESE/MasterThese/turbines/tb5/Blade_Landings/Helihoist'\n",
    "hh_frame_tb5 = concat_data(path_tb5_hh)\n",
    "\n",
    "path_tb5_sbitroot = r'/Volumes/MASTERTHESE/MasterThese/turbines/tb5/Blade_Landings/sbitroot'\n",
    "sbitroot_frame_tb5 = concat_data(path_tb5_sbitroot)"
   ]
  },
  {
   "cell_type": "code",
   "execution_count": 19,
   "id": "8a3dbc87",
   "metadata": {},
   "outputs": [],
   "source": [
    "# TB 6\n",
    "\n",
    "path_tb6_hh = r'/Volumes/MASTERTHESE/MasterThese/turbines/tb6/Blade_Landings/Helihoist'\n",
    "hh_frame_tb6 = concat_data(path_tb6_hh)\n",
    "\n",
    "path_tb6_sbitroot = r'/Volumes/MASTERTHESE/MasterThese/turbines/tb6/Blade_Landings/sbitroot'\n",
    "sbitroot_frame_tb6 = concat_data(path_tb6_sbitroot)"
   ]
  },
  {
   "cell_type": "code",
   "execution_count": 20,
   "id": "57139bdc",
   "metadata": {},
   "outputs": [],
   "source": [
    "# TB 7\n",
    "\n",
    "path_tb7_hh = r'/Volumes/MASTERTHESE/MasterThese/turbines/tb7/Blade_Landings/Helihoist'\n",
    "hh_frame_tb7 = concat_data(path_tb7_hh)\n",
    "\n",
    "path_tb7_sbitroot = r'/Volumes/MASTERTHESE/MasterThese/turbines/tb7/Blade_Landings/sbitroot'\n",
    "sbitroot_frame_tb7 = concat_data(path_tb7_sbitroot)"
   ]
  },
  {
   "cell_type": "code",
   "execution_count": 21,
   "id": "a1bbfd94",
   "metadata": {},
   "outputs": [],
   "source": [
    "# TB 8 \n",
    "\n",
    "path_tb8_hh = r'/Volumes/MASTERTHESE/MasterThese/turbines/tb8/Blade_Landings/Helihoist'\n",
    "hh_frame_tb8 = concat_data(path_tb8_hh)\n",
    "\n",
    "path_tb8_sbitroot = r'/Volumes/MASTERTHESE/MasterThese/turbines/tb8/Blade_Landings/sbitroot'\n",
    "sbitroot_frame_tb8 = concat_data(path_tb8_sbitroot)"
   ]
  },
  {
   "cell_type": "code",
   "execution_count": 22,
   "id": "c38652cc",
   "metadata": {},
   "outputs": [],
   "source": [
    "# TB 10\n",
    "\n",
    "path_tb10_hh = r'/Volumes/MASTERTHESE/MasterThese/turbines/tb10/Blade_Landings/Helihoist'\n",
    "hh_frame_tb10 = concat_data(path_tb10_hh)\n",
    "\n",
    "path_tb10_sbitroot = r'/Volumes/MASTERTHESE/MasterThese/turbines/tb10/Blade_Landings/sbitroot'\n",
    "sbitroot_frame_tb10 = concat_data(path_tb10_sbitroot)"
   ]
  },
  {
   "cell_type": "code",
   "execution_count": 23,
   "id": "ef1fdd8e",
   "metadata": {},
   "outputs": [],
   "source": [
    "# TB 11\n",
    "\n",
    "path_tb11_hh = r'/Volumes/MASTERTHESE/MasterThese/turbines/tb11/Blade_Landings/Helihoist'\n",
    "hh_frame_tb11 = concat_data(path_tb11_hh)\n",
    "\n",
    "path_tb11_sbitroot = r'/Volumes/MASTERTHESE/MasterThese/turbines/tb11/Blade_Landings/sbitroot'\n",
    "sbitroot_frame_tb11 = concat_data(path_tb11_sbitroot)"
   ]
  },
  {
   "cell_type": "code",
   "execution_count": 24,
   "id": "63cc477e",
   "metadata": {},
   "outputs": [],
   "source": [
    "# TB 12\n",
    "\n",
    "path_tb12_hh = r'/Volumes/MASTERTHESE/MasterThese/turbines/tb12/Blade_Landings/Helihoist'\n",
    "hh_frame_tb12 = concat_data(path_tb12_hh)\n",
    "\n",
    "path_tb12_sbitroot = r'/Volumes/MASTERTHESE/MasterThese/turbines/tb12/Blade_Landings/sbitroot'\n",
    "sbitroot_frame_tb12 = concat_data(path_tb12_sbitroot)"
   ]
  },
  {
   "cell_type": "code",
   "execution_count": 25,
   "id": "30a909e4",
   "metadata": {},
   "outputs": [],
   "source": [
    "# TB 13\n",
    "\n",
    "path_tb13_hh = r'/Volumes/MASTERTHESE/MasterThese/turbines/tb13/Blade_Landings/Helihoist'\n",
    "hh_frame_tb13 = concat_data(path_tb13_hh)\n",
    "\n",
    "path_tb13_sbitroot = r'/Volumes/MASTERTHESE/MasterThese/turbines/tb13/Blade_Landings/sbitroot'\n",
    "sbitroot_frame_tb13 = concat_data(path_tb13_sbitroot)"
   ]
  },
  {
   "cell_type": "code",
   "execution_count": 26,
   "id": "56e268e9",
   "metadata": {},
   "outputs": [],
   "source": [
    "# TB 14\n",
    "\n",
    "path_tb14_hh = r'/Volumes/MASTERTHESE/MasterThese/turbines/tb14/Blade_Landings/Helihoist'\n",
    "hh_frame_tb14 = concat_data(path_tb14_hh)\n",
    "\n",
    "path_tb14_sbitroot = r'/Volumes/MASTERTHESE/MasterThese/turbines/tb14/Blade_Landings/sbitroot'\n",
    "sbitroot_frame_tb14 = concat_data(path_tb14_sbitroot)"
   ]
  },
  {
   "cell_type": "code",
   "execution_count": 27,
   "id": "7a513900",
   "metadata": {},
   "outputs": [],
   "source": [
    "# TB 16\n",
    "\n",
    "path_tb16_hh = r'/Volumes/MASTERTHESE/MasterThese/turbines/tb16/Blade_Landings/Helihoist'\n",
    "hh_frame_tb16 = concat_data(path_tb16_hh)\n",
    "\n",
    "path_tb16_sbitroot = r'/Volumes/MASTERTHESE/MasterThese/turbines/tb16/Blade_Landings/sbitroot'\n",
    "sbitroot_frame_tb16 = concat_data(path_tb16_sbitroot)"
   ]
  },
  {
   "cell_type": "markdown",
   "id": "ff5a7709",
   "metadata": {},
   "source": [
    "# Functions"
   ]
  },
  {
   "cell_type": "code",
   "execution_count": 28,
   "id": "705e6e59",
   "metadata": {},
   "outputs": [],
   "source": [
    "def find_installationperiod(data_hh, data_sbitroot, data_sbittip):\n",
    "    # Yield indices of installtion period.\n",
    "    # Use altitude of dataset\n",
    "    \n",
    "    hub_height = 90 # hub height = 90m\n",
    "\n",
    "    # smoothing the time series: cut the outliers and find the 20min mean value\n",
    "    hh, sr, st = (data_hh.resample('1s').mean().rolling('20min').mean(), data_sbitroot.resample('1s').mean().rolling('20min').mean(), data_sbittip.resample('1s').mean().rolling('20min').mean())\n",
    "\n",
    "    hh_sbi = hh[(hh > hub_height) & (sr > hub_height) & (st > hub_height)]\n",
    "    sr_sbi = sr[(hh > hub_height) & (sr > hub_height) & (st > hub_height)]\n",
    "    st_sbi = st[(hh > hub_height) & (sr > hub_height) & (st > hub_height)]\n",
    "\n",
    "    # determine start and end period of single blade installations\n",
    "    inst_period = sr_sbi[sr_sbi.index.to_series().diff() > pd.to_timedelta(60, unit='s')].index.to_list()\n",
    "    inst_period.insert(0, sr_sbi.index[0])\n",
    "    inst_period.insert(len(inst_period), sr_sbi.index[-1])\n",
    "    sbi_indices = list()\n",
    "\n",
    "    for i in range(len(inst_period) - 1):\n",
    "        sbi_indices.append((inst_period[i], hh_sbi[inst_period[i]:inst_period[i+1]].index[-2]))\n",
    "    \n",
    "    return sbi_indices"
   ]
  },
  {
   "cell_type": "code",
   "execution_count": 29,
   "id": "ce98743f",
   "metadata": {},
   "outputs": [],
   "source": [
    "def divide_chunks(lst, n):\n",
    "    #Yield successive n-sized chunks from lst.\n",
    "    for i in range(0, len(lst), n):\n",
    "        yield lst[i:i + n]"
   ]
  },
  {
   "cell_type": "code",
   "execution_count": 30,
   "id": "5a76b57c",
   "metadata": {},
   "outputs": [],
   "source": [
    "def find_impacts(acc_data, acc_data_check, acc_threshold, acc_threshold_check, time_limit, min_impact_time):\n",
    "    # acc_data = acceleration data\n",
    "    # acc_data_check = acceleration data to validate if it is really an impact\n",
    "    # acc_threshold = acceleration threshold above which an acceleration is declared as an impact\n",
    "    # acc_threshold_check = acceleration threshold above which an acceleration is declared as an impact (validation data)\n",
    "    # time_limit = min. time between two impacts to avoid correlation\n",
    "    # min_impact_time = min. impact duration\n",
    "    \n",
    "    \n",
    "    # find start values of impact event\n",
    "\n",
    "    sbitroot_ind = acc_data[(abs(acc_data) > acc_threshold) & (abs(acc_data_check) > acc_threshold_check)]\n",
    "\n",
    "    # find the indices where the difference is bigger than the time limit (avoid correlation)\n",
    "\n",
    "    deltaT_startImpact = sbitroot_ind[sbitroot_ind.index.to_series().diff() > time_limit].index.to_list()\n",
    "\n",
    "    # find the points in time where the threshold is exceeded (start of the impact event)\n",
    "    # add the start of the first impact event\n",
    "    deltaT_startImpact.insert(0, sbitroot_ind.index[0])\n",
    "    \n",
    "    # find end values of impact event\n",
    "\n",
    "    sbitroot_ind_inverse = sbitroot_ind.sort_index(ascending=False)\n",
    "\n",
    "    # find the indices where the difference is bigger than the time limit (avoid correlation)\n",
    "\n",
    "    deltaT_endImpact = sbitroot_ind_inverse[sbitroot_ind_inverse.index.to_series().diff() < -time_limit].index.to_list()\n",
    "\n",
    "    # find the points in time where the threshold is exceeded (start of the impact event)\n",
    "    # add the end of the last impact event\n",
    "    deltaT_endImpact.insert(0, sbitroot_ind_inverse.index[0])\n",
    "    deltaT_endImpact.sort(reverse=False)\n",
    "    \n",
    "    \n",
    "    \n",
    "    impact_times = list()\n",
    "    for i in range(len(deltaT_endImpact)):\n",
    "        if (deltaT_endImpact[i]- deltaT_startImpact[i]) > min_impact_time:\n",
    "            # filter out measurement errors\n",
    "            impact_times.append((deltaT_startImpact[i], deltaT_endImpact[i]))\n",
    "\n",
    "    return impact_times"
   ]
  },
  {
   "cell_type": "code",
   "execution_count": 31,
   "id": "e61d9367",
   "metadata": {},
   "outputs": [],
   "source": [
    "def find_indep_oscillations(sbi_indices, impact_times, wind_data_index, data):\n",
    "    # sbi_indices = single blade installation times indices \n",
    "    # impact_times = impact indices\n",
    "    # wind_data_index = index of wind data\n",
    "    # data = the dataset where to find independent time periods\n",
    "    \n",
    "    # Find start values of sbi and impacts\n",
    "\n",
    "    sbi_indices_start = [i[0] for i in sbi_indices]\n",
    "    impact_times_start = [i[0] for i in impact_times]\n",
    "\n",
    "    # Remove all impact starts after the end of the environmental data set, so that the deflection data set is of \n",
    "    #equal length to wind dataset. \n",
    "\n",
    "    impact_times_start= [x for x in impact_times_start if x < wind_data_index[-1]]\n",
    "\n",
    "\n",
    "    # if the last first impact of the installation attempt gets cut off due to the shorter environmental data set, \n",
    "    # then add the last Datetime of environmental data in impacts (treated as impact event)\n",
    "\n",
    "    if impact_times_start[-1]< sbi_indices_start[-1]:\n",
    "        impact_times_start.append(wind_data_index[-1])\n",
    "    \n",
    "    # identify period from start sbi-period to first impact = INDEPENDENT OSCILLATION\n",
    "    # write first impacts after start of blade installation into list\n",
    "    # to identify independent oscillations, timestamp of impact needs to be bigger than timestamp of sbi-period\n",
    "    # timestamp of impact needs to be the first impact after sbi-period\n",
    "\n",
    "    # indices of first impacts\n",
    "    first_impacts = []\n",
    "    # timestamp of first impacts\n",
    "    first_impacts_start = []\n",
    "\n",
    "    for i in range (len(sbi_indices_start)):\n",
    "        first_impacts.append(next(x for x, val in enumerate(impact_times_start)\n",
    "                                      if val > sbi_indices_start[i] ))\n",
    "\n",
    "\n",
    "    for i in range(len(sbi_indices_start)):\n",
    "        first_impacts_start.append(impact_times_start[first_impacts[i]])\n",
    "    \n",
    "    independent_osc = []\n",
    "    for i in range (len(sbi_indices_start)):\n",
    "            independent_osc.append(data[sbi_indices_start[i]:impact_times_start[first_impacts[i]]])\n",
    "    \n",
    "    \n",
    "    \n",
    "    return independent_osc, sbi_indices_start, first_impacts_start"
   ]
  },
  {
   "cell_type": "code",
   "execution_count": 32,
   "id": "fcf00de9",
   "metadata": {},
   "outputs": [],
   "source": [
    "def block_maxima(data, sbi_indices_start, first_impacts_start):\n",
    "    \n",
    "    # calculate number of chunks for each independent interval \n",
    "    # number of chunks is the length of the independent interval divided by the time interval\n",
    "    # therfore, the start value minus the end value of the independent interval is the time difference \n",
    "\n",
    "    time_interval = pd.to_timedelta(60, unit='s')\n",
    "\n",
    "    indep_duration = []\n",
    "    for i in range(len(sbi_indices_start)):\n",
    "        indep_duration.append(first_impacts_start[i] - sbi_indices_start[i])\n",
    "\n",
    "    num_chunks = []\n",
    "    for i in range(len(sbi_indices_start)):\n",
    "        num_chunks.append(indep_duration[i]/time_interval)\n",
    "    \n",
    "    \n",
    "    # Determine the chunk size in each independent time interval \n",
    "\n",
    "    chunk_size_deflection = []\n",
    "    for i in range(len(sbi_indices_start)):\n",
    "        chunk_size_deflection.append(len(data[i])/ num_chunks[i])\n",
    "        chunk_size_deflection[i] = math.floor(chunk_size_deflection[i])\n",
    "\n",
    "    chunk_size_deflection = min(chunk_size_deflection) \n",
    "    \n",
    "    # Create list with chunks of independent intervals \n",
    "    # Independent oscillations are split up into chunks\n",
    "    # indep_blocks[i][j], here i indicates the installation attempt j indicates the blocks in each installation attempt\n",
    "\n",
    "    indep_blocks = []\n",
    "    for i in range(len(sbi_indices_start)):\n",
    "        indep_blocks.append(list(divide_chunks(data[i], chunk_size_deflection)))\n",
    "        \n",
    "    # Determine block maxima, blocks that does not contain full 60 sec of data are filtered out. \n",
    "\n",
    "    block_maxima = []\n",
    "\n",
    "    for i in range(len(sbi_indices_start)):\n",
    "        for j in range(len(indep_blocks[i])):\n",
    "            if len(indep_blocks[i][j]) == len(indep_blocks[0][0]): \n",
    "                block_maxima.append((indep_blocks[i][j].idxmax(), max(indep_blocks[i][j]) ))\n",
    "    \n",
    "    \n",
    "    maxima_values = []\n",
    "    for i in range (len(block_maxima)):\n",
    "        maxima_values.append(block_maxima[i][1])\n",
    "    \n",
    "    return maxima_values"
   ]
  },
  {
   "cell_type": "code",
   "execution_count": 33,
   "id": "3d8b7d65",
   "metadata": {},
   "outputs": [],
   "source": [
    "def block_mean(data, sbi_indices_start, first_impacts_start):\n",
    "    # Determine the chunk size in each independent time interval \n",
    "\n",
    "    \n",
    "    time_interval = pd.to_timedelta(60, unit='s')\n",
    "\n",
    "    indep_duration = []\n",
    "    for i in range(len(sbi_indices_start)):\n",
    "        indep_duration.append(first_impacts_start[i] - sbi_indices_start[i])\n",
    "\n",
    "    num_chunks = []\n",
    "    for i in range(len(sbi_indices_start)):\n",
    "        num_chunks.append(indep_duration[i]/time_interval)\n",
    "    \n",
    "    chunk_size_wind = []\n",
    "    for i in range(len(sbi_indices_start)):\n",
    "        chunk_size_wind.append(len(data[i])/ num_chunks[i])\n",
    "        chunk_size_wind[i] = math.floor(chunk_size_wind[i])\n",
    "        #chunk_size_wind[i] = math.ceil(chunk_size_wind[i])\n",
    "\n",
    "    chunk_size_wind = min(chunk_size_wind) \n",
    "    \n",
    "    # Create list with chunks of independent intervals \n",
    "    # Independent oscillations are split up into chunks\n",
    "    # indep_blocks[i][j], here i indicates the installation attempt j indicates the blocks in each installation attempt\n",
    "\n",
    "    indep_blocks_wind = []\n",
    "    for i in range(len(sbi_indices_start)):\n",
    "        indep_blocks_wind.append(list(divide_chunks(data[i], chunk_size_wind)))\n",
    "        \n",
    "        \n",
    "    # Determine block mean, blocks that does not contain full 60 sec of data are filtered out. \n",
    "\n",
    "    block_mean = []\n",
    "\n",
    "    for i in range(len(sbi_indices_start)):\n",
    "        for j in range(len(indep_blocks_wind[i])):\n",
    "            if len(indep_blocks_wind[i][j]) == len(indep_blocks_wind[0][0]): \n",
    "                block_mean.append((indep_blocks_wind[i][j].mean() ))\n",
    "\n",
    "    return block_mean"
   ]
  },
  {
   "cell_type": "markdown",
   "id": "c2f43e9a",
   "metadata": {},
   "source": [
    "# Installtion periods"
   ]
  },
  {
   "cell_type": "code",
   "execution_count": 34,
   "id": "34dacc93",
   "metadata": {},
   "outputs": [],
   "source": [
    "sbi_indices_tb4= find_installationperiod(gps_helih_tb4.altitude, gps_sbitroot_tb4.altitude, gps_sbittip_tb4.altitude)\n",
    "sbi_indices_tb5= find_installationperiod(gps_helih_tb5.altitude, gps_sbitroot_tb5.altitude, gps_sbittip_tb5.altitude)\n",
    "sbi_indices_tb6= find_installationperiod(gps_helih_tb6.altitude, gps_sbitroot_tb6.altitude, gps_sbittip_tb6.altitude)\n",
    "#sbi_indices_tb7= find_installationperiod(gps_helih_tb7.altitude, gps_sbitroot_tb7.altitude, gps_sbittip_tb7.altitude)\n",
    "sbi_indices_tb8= find_installationperiod(gps_helih_tb8.altitude, gps_sbitroot_tb8.altitude, gps_sbittip_tb8.altitude)\n",
    "sbi_indices_tb10= find_installationperiod(gps_helih_tb10.altitude, gps_sbitroot_tb10.altitude, gps_sbittip_tb10.altitude)\n",
    "sbi_indices_tb11= find_installationperiod(gps_helih_tb11.altitude, gps_sbitroot_tb11.altitude, gps_sbittip_tb11.altitude)\n",
    "sbi_indices_tb12= find_installationperiod(gps_helih_tb12.altitude, gps_sbitroot_tb12.altitude, gps_sbittip_tb12.altitude)\n",
    "#sbi_indices_tb13= find_installationperiod(gps_helih_tb13.altitude, gps_sbitroot_tb13.altitude, gps_sbittip_tb13.altitude)\n",
    "sbi_indices_tb14= find_installationperiod(gps_helih_tb14.altitude, gps_sbitroot_tb14.altitude, gps_sbittip_tb14.altitude)\n",
    "#sbi_indices_tb16= find_installationperiod(gps_helih_tb16.altitude, gps_sbitroot_tb16.altitude, gps_sbittip_tb16.altitude)"
   ]
  },
  {
   "cell_type": "markdown",
   "id": "6bddbc6a",
   "metadata": {},
   "source": [
    "# IMPACTS"
   ]
  },
  {
   "cell_type": "markdown",
   "id": "7b2277d2",
   "metadata": {},
   "source": [
    "## Filter outliers from accelerations X and Z"
   ]
  },
  {
   "cell_type": "code",
   "execution_count": 35,
   "id": "fa8baaaa",
   "metadata": {},
   "outputs": [],
   "source": [
    "# TB 4\n",
    "\n",
    "# SBIT root \n",
    "median_x_tb4 = sbitroot_frame_tb4.loc[sbitroot_frame_tb4['acc_x']< abs(10), 'acc_x'].median()\n",
    "median_z_tb4 = sbitroot_frame_tb4.loc[sbitroot_frame_tb4['acc_z']< abs(10), 'acc_z'].median()\n",
    "\n",
    "sbitroot_frame_tb4['acc_x'] = np.where(sbitroot_frame_tb4[\"acc_x\"] > abs(10), median_x_tb4,sbitroot_frame_tb4['acc_x'])\n",
    "sbitroot_frame_tb4['acc_z'] = np.where(sbitroot_frame_tb4[\"acc_z\"] > abs(10), median_z_tb4,sbitroot_frame_tb4['acc_z'])\n",
    "\n",
    "hh_frame_tb4['acc_x'] = np.where(hh_frame_tb4[\"acc_x\"] > abs(10), median_x_tb4, hh_frame_tb4['acc_x'])\n",
    "hh_frame_tb4['acc_z'] = np.where(hh_frame_tb4[\"acc_z\"] > abs(10), median_z_tb4, hh_frame_tb4['acc_z'])"
   ]
  },
  {
   "cell_type": "code",
   "execution_count": 36,
   "id": "23f7ce46",
   "metadata": {},
   "outputs": [],
   "source": [
    "# TB 5\n",
    "\n",
    "# SBIT root \n",
    "median_x_tb5 = sbitroot_frame_tb5.loc[sbitroot_frame_tb5['acc_x']< abs(10), 'acc_x'].median()\n",
    "median_z_tb5 = sbitroot_frame_tb5.loc[sbitroot_frame_tb5['acc_z']< abs(10), 'acc_z'].median()\n",
    "\n",
    "sbitroot_frame_tb5['acc_x'] = np.where(sbitroot_frame_tb5[\"acc_x\"] > abs(10), median_x_tb5,sbitroot_frame_tb5['acc_x'])\n",
    "sbitroot_frame_tb5['acc_z'] = np.where(sbitroot_frame_tb5[\"acc_z\"] > abs(10), median_z_tb5,sbitroot_frame_tb5['acc_z'])\n",
    "\n",
    "hh_frame_tb5['acc_x'] = np.where(hh_frame_tb5[\"acc_x\"] > abs(10), median_x_tb5, hh_frame_tb5['acc_x'])\n",
    "hh_frame_tb5['acc_z'] = np.where(hh_frame_tb5[\"acc_z\"] > abs(10), median_z_tb5, hh_frame_tb5['acc_z'])"
   ]
  },
  {
   "cell_type": "code",
   "execution_count": 37,
   "id": "c7a22d48",
   "metadata": {},
   "outputs": [],
   "source": [
    "# TB 6\n",
    "\n",
    "# SBIT root \n",
    "median_x_tb6 = sbitroot_frame_tb6.loc[sbitroot_frame_tb6['acc_x']< abs(10), 'acc_x'].median()\n",
    "median_z_tb6 = sbitroot_frame_tb6.loc[sbitroot_frame_tb6['acc_z']< abs(10), 'acc_z'].median()\n",
    "\n",
    "sbitroot_frame_tb6['acc_x'] = np.where(sbitroot_frame_tb6[\"acc_x\"] > abs(10), median_x_tb6,sbitroot_frame_tb6['acc_x'])\n",
    "sbitroot_frame_tb6['acc_z'] = np.where(sbitroot_frame_tb6[\"acc_z\"] > abs(10), median_z_tb6,sbitroot_frame_tb6['acc_z'])\n",
    "\n",
    "hh_frame_tb6['acc_x'] = np.where(hh_frame_tb6[\"acc_x\"] > abs(10), median_x_tb6, hh_frame_tb6['acc_x'])\n",
    "hh_frame_tb6['acc_z'] = np.where(hh_frame_tb6[\"acc_z\"] > abs(10), median_z_tb6, hh_frame_tb6['acc_z'])"
   ]
  },
  {
   "cell_type": "code",
   "execution_count": 38,
   "id": "fef04ae9",
   "metadata": {},
   "outputs": [],
   "source": [
    "# TB 7\n",
    "\n",
    "# SBIT root \n",
    "median_x_tb7 = sbitroot_frame_tb7.loc[sbitroot_frame_tb7['acc_x']< abs(10), 'acc_x'].median()\n",
    "median_z_tb7 = sbitroot_frame_tb7.loc[sbitroot_frame_tb7['acc_z']< abs(10), 'acc_z'].median()\n",
    "\n",
    "sbitroot_frame_tb7['acc_x'] = np.where(sbitroot_frame_tb7[\"acc_x\"] > abs(10), median_x_tb7,sbitroot_frame_tb7['acc_x'])\n",
    "sbitroot_frame_tb7['acc_z'] = np.where(sbitroot_frame_tb7[\"acc_z\"] > abs(10), median_z_tb7,sbitroot_frame_tb7['acc_z'])\n",
    "\n",
    "hh_frame_tb7['acc_x'] = np.where(hh_frame_tb7[\"acc_x\"] > abs(10), median_x_tb7, hh_frame_tb7['acc_x'])\n",
    "hh_frame_tb7['acc_z'] = np.where(hh_frame_tb7[\"acc_z\"] > abs(10), median_z_tb7, hh_frame_tb7['acc_z'])"
   ]
  },
  {
   "cell_type": "code",
   "execution_count": 39,
   "id": "6787b787",
   "metadata": {},
   "outputs": [],
   "source": [
    "# TB 8\n",
    "\n",
    "# SBIT root \n",
    "median_x = sbitroot_frame_tb8.loc[sbitroot_frame_tb8['acc_x']< abs(10), 'acc_x'].median()\n",
    "median_z = sbitroot_frame_tb8.loc[sbitroot_frame_tb8['acc_z']< abs(10), 'acc_z'].median()\n",
    "\n",
    "sbitroot_frame_tb8['acc_x'] = np.where(sbitroot_frame_tb8[\"acc_x\"] > abs(10), median_x,sbitroot_frame_tb8['acc_x'])\n",
    "sbitroot_frame_tb8['acc_z'] = np.where(sbitroot_frame_tb8[\"acc_z\"] > abs(10), median_z,sbitroot_frame_tb8['acc_z'])\n",
    "\n",
    "hh_frame_tb8['acc_x'] = np.where(hh_frame_tb8[\"acc_x\"] > abs(10), median_x, hh_frame_tb8['acc_x'])\n",
    "hh_frame_tb8['acc_z'] = np.where(hh_frame_tb8[\"acc_z\"] > abs(10), median_z, hh_frame_tb8['acc_z'])"
   ]
  },
  {
   "cell_type": "code",
   "execution_count": 40,
   "id": "c495a6a6",
   "metadata": {},
   "outputs": [],
   "source": [
    "# TB 10\n",
    "\n",
    "# SBIT root \n",
    "median_x_tb10 = sbitroot_frame_tb10.loc[sbitroot_frame_tb10['acc_x']< abs(10), 'acc_x'].median()\n",
    "median_z_tb10 = sbitroot_frame_tb10.loc[sbitroot_frame_tb10['acc_z']< abs(10), 'acc_z'].median()\n",
    "\n",
    "sbitroot_frame_tb10['acc_x'] = np.where(sbitroot_frame_tb10[\"acc_x\"] > abs(10), median_x_tb10,sbitroot_frame_tb10['acc_x'])\n",
    "sbitroot_frame_tb10['acc_z'] = np.where(sbitroot_frame_tb10[\"acc_z\"] > abs(10), median_z_tb10,sbitroot_frame_tb10['acc_z'])\n",
    "\n",
    "hh_frame_tb10['acc_x'] = np.where(hh_frame_tb10[\"acc_x\"] > abs(10), median_x_tb10, hh_frame_tb10['acc_x'])\n",
    "hh_frame_tb10['acc_z'] = np.where(hh_frame_tb10[\"acc_z\"] > abs(10), median_z_tb10, hh_frame_tb10['acc_z'])"
   ]
  },
  {
   "cell_type": "code",
   "execution_count": 41,
   "id": "6fdc0138",
   "metadata": {},
   "outputs": [],
   "source": [
    "# TB 11\n",
    "\n",
    "# SBIT root \n",
    "median_x_tb11 = sbitroot_frame_tb11.loc[sbitroot_frame_tb11['acc_x']< abs(10), 'acc_x'].median()\n",
    "median_z_tb11 = sbitroot_frame_tb11.loc[sbitroot_frame_tb11['acc_z']< abs(10), 'acc_z'].median()\n",
    "\n",
    "sbitroot_frame_tb11['acc_x'] = np.where(sbitroot_frame_tb11[\"acc_x\"] > abs(10), median_x_tb11,sbitroot_frame_tb11['acc_x'])\n",
    "sbitroot_frame_tb11['acc_z'] = np.where(sbitroot_frame_tb11[\"acc_z\"] > abs(10), median_z_tb11,sbitroot_frame_tb11['acc_z'])\n",
    "\n",
    "hh_frame_tb11['acc_x'] = np.where(hh_frame_tb11[\"acc_x\"] > abs(10), median_x_tb11, hh_frame_tb11['acc_x'])\n",
    "hh_frame_tb11['acc_z'] = np.where(hh_frame_tb11[\"acc_z\"] > abs(10), median_z_tb11, hh_frame_tb11['acc_z'])"
   ]
  },
  {
   "cell_type": "code",
   "execution_count": 42,
   "id": "65c41287",
   "metadata": {},
   "outputs": [],
   "source": [
    "# TB 12\n",
    "\n",
    "# SBIT root \n",
    "median_x_tb12 = sbitroot_frame_tb12.loc[sbitroot_frame_tb12['acc_x']< abs(10), 'acc_x'].median()\n",
    "median_z_tb12 = sbitroot_frame_tb12.loc[sbitroot_frame_tb12['acc_z']< abs(10), 'acc_z'].median()\n",
    "\n",
    "sbitroot_frame_tb12['acc_x'] = np.where(sbitroot_frame_tb12[\"acc_x\"] > abs(10), median_x_tb12,sbitroot_frame_tb12['acc_x'])\n",
    "sbitroot_frame_tb12['acc_z'] = np.where(sbitroot_frame_tb12[\"acc_z\"] > abs(10), median_z_tb12,sbitroot_frame_tb12['acc_z'])\n",
    "\n",
    "hh_frame_tb12['acc_x'] = np.where(hh_frame_tb12[\"acc_x\"] > abs(10), median_x_tb12, hh_frame_tb12['acc_x'])\n",
    "hh_frame_tb12['acc_z'] = np.where(hh_frame_tb12[\"acc_z\"] > abs(10), median_z_tb12, hh_frame_tb12['acc_z'])"
   ]
  },
  {
   "cell_type": "code",
   "execution_count": 43,
   "id": "fc58faab",
   "metadata": {},
   "outputs": [],
   "source": [
    "# TB 13\n",
    "\n",
    "# SBIT root \n",
    "median_x_tb13 = sbitroot_frame_tb13.loc[sbitroot_frame_tb13['acc_x']< abs(10), 'acc_x'].median()\n",
    "median_z_tb13 = sbitroot_frame_tb13.loc[sbitroot_frame_tb13['acc_z']< abs(10), 'acc_z'].median()\n",
    "\n",
    "sbitroot_frame_tb13['acc_x'] = np.where(sbitroot_frame_tb13[\"acc_x\"] > abs(10), median_x_tb13,sbitroot_frame_tb13['acc_x'])\n",
    "sbitroot_frame_tb13['acc_z'] = np.where(sbitroot_frame_tb13[\"acc_z\"] > abs(10), median_z_tb13,sbitroot_frame_tb13['acc_z'])\n",
    "\n",
    "hh_frame_tb13['acc_x'] = np.where(hh_frame_tb13[\"acc_x\"] > abs(10), median_x_tb13, hh_frame_tb13['acc_x'])\n",
    "hh_frame_tb13['acc_z'] = np.where(hh_frame_tb13[\"acc_z\"] > abs(10), median_z_tb13, hh_frame_tb13['acc_z'])"
   ]
  },
  {
   "cell_type": "code",
   "execution_count": 44,
   "id": "fcbe655e",
   "metadata": {},
   "outputs": [],
   "source": [
    "# TB 14\n",
    "\n",
    "# SBIT root \n",
    "median_x_tb14 = sbitroot_frame_tb14.loc[sbitroot_frame_tb14['acc_x']< abs(10), 'acc_x'].median()\n",
    "median_z_tb14 = sbitroot_frame_tb14.loc[sbitroot_frame_tb14['acc_z']< abs(10), 'acc_z'].median()\n",
    "\n",
    "sbitroot_frame_tb14['acc_x'] = np.where(sbitroot_frame_tb14[\"acc_x\"] > abs(10), median_x_tb14,sbitroot_frame_tb14['acc_x'])\n",
    "sbitroot_frame_tb14['acc_z'] = np.where(sbitroot_frame_tb14[\"acc_z\"] > abs(10), median_z_tb14,sbitroot_frame_tb14['acc_z'])\n",
    "\n",
    "hh_frame_tb14['acc_x'] = np.where(hh_frame_tb14[\"acc_x\"] > abs(10), median_x_tb14, hh_frame_tb14['acc_x'])\n",
    "hh_frame_tb14['acc_z'] = np.where(hh_frame_tb14[\"acc_z\"] > abs(10), median_z_tb14, hh_frame_tb14['acc_z'])"
   ]
  },
  {
   "cell_type": "code",
   "execution_count": 45,
   "id": "6d4dd09e",
   "metadata": {},
   "outputs": [],
   "source": [
    "# TB 16\n",
    "\n",
    "# SBIT root \n",
    "median_x_tb16 = sbitroot_frame_tb16.loc[sbitroot_frame_tb16['acc_x']< abs(10), 'acc_x'].median()\n",
    "median_z_tb16 = sbitroot_frame_tb16.loc[sbitroot_frame_tb16['acc_z']< abs(10), 'acc_z'].median()\n",
    "\n",
    "sbitroot_frame_tb16['acc_x'] = np.where(sbitroot_frame_tb16[\"acc_x\"] > abs(10), median_x_tb16,sbitroot_frame_tb16['acc_x'])\n",
    "sbitroot_frame_tb16['acc_z'] = np.where(sbitroot_frame_tb16[\"acc_z\"] > abs(10), median_z_tb16,sbitroot_frame_tb16['acc_z'])\n",
    "\n",
    "hh_frame_tb16['acc_x'] = np.where(hh_frame_tb16[\"acc_x\"] > abs(10), median_x_tb16, hh_frame_tb16['acc_x'])\n",
    "hh_frame_tb16['acc_z'] = np.where(hh_frame_tb16[\"acc_z\"] > abs(10), median_z_tb16, hh_frame_tb16['acc_z'])"
   ]
  },
  {
   "cell_type": "markdown",
   "id": "9a0141cd",
   "metadata": {},
   "source": [
    "## Determine installation period (blade at HH)"
   ]
  },
  {
   "cell_type": "code",
   "execution_count": 46,
   "id": "003514ed",
   "metadata": {},
   "outputs": [],
   "source": [
    "# TB 4\n",
    "\n",
    "sbitroot_installation_tb4 = pd.DataFrame()\n",
    "hh_installation_tb4= pd.DataFrame()\n",
    "\n",
    "for start, end in sbi_indices_tb4:\n",
    "    sbitroot_installation_tb4 = sbitroot_installation_tb4.append(sbitroot_frame_tb4[start:end])\n",
    "    hh_installation_tb4 = hh_installation_tb4.append(hh_frame_tb4[start:end])"
   ]
  },
  {
   "cell_type": "code",
   "execution_count": 47,
   "id": "f932238c",
   "metadata": {},
   "outputs": [],
   "source": [
    "# TB 5\n",
    "\n",
    "sbitroot_installation_tb5 = pd.DataFrame()\n",
    "hh_installation_tb5= pd.DataFrame()\n",
    "\n",
    "for start, end in sbi_indices_tb5:\n",
    "    sbitroot_installation_tb5 = sbitroot_installation_tb5.append(sbitroot_frame_tb5[start:end])\n",
    "    hh_installation_tb5 = hh_installation_tb5.append(hh_frame_tb5[start:end])"
   ]
  },
  {
   "cell_type": "code",
   "execution_count": 48,
   "id": "2ef4614c",
   "metadata": {},
   "outputs": [],
   "source": [
    "# TB 6\n",
    "\n",
    "sbitroot_installation_tb6 = pd.DataFrame()\n",
    "hh_installation_tb6= pd.DataFrame()\n",
    "\n",
    "for start, end in sbi_indices_tb6:\n",
    "    sbitroot_installation_tb6 = sbitroot_installation_tb6.append(sbitroot_frame_tb6[start:end])\n",
    "    hh_installation_tb6 = hh_installation_tb6.append(hh_frame_tb6[start:end])"
   ]
  },
  {
   "cell_type": "code",
   "execution_count": 49,
   "id": "a20b20eb",
   "metadata": {},
   "outputs": [],
   "source": [
    "# TB 7\n",
    "\n",
    "#sbitroot_installation_tb7 = pd.DataFrame()\n",
    "\n",
    "#for start, end in sbi_indices_tb7:\n",
    "    #sbitroot_installation_tb7 = sbitroot_installation_tb7.append(sbitroot_frame_tb7[start:end])"
   ]
  },
  {
   "cell_type": "code",
   "execution_count": 50,
   "id": "9c6932d7",
   "metadata": {},
   "outputs": [],
   "source": [
    "# TB 8\n",
    "\n",
    "sbitroot_installation_tb8 = pd.DataFrame()\n",
    "hh_installation_tb8= pd.DataFrame()\n",
    "\n",
    "for start, end in sbi_indices_tb8:\n",
    "    sbitroot_installation_tb8 = sbitroot_installation_tb8.append(sbitroot_frame_tb8[start:end])\n",
    "    hh_installation_tb8 = hh_installation_tb8.append(hh_frame_tb8[start:end])"
   ]
  },
  {
   "cell_type": "code",
   "execution_count": 51,
   "id": "be53e1cf",
   "metadata": {},
   "outputs": [],
   "source": [
    "# TB 10\n",
    "\n",
    "sbitroot_installation_tb10 = pd.DataFrame()\n",
    "hh_installation_tb10= pd.DataFrame()\n",
    "\n",
    "for start, end in sbi_indices_tb10:\n",
    "    sbitroot_installation_tb10 = sbitroot_installation_tb10.append(sbitroot_frame_tb10[start:end])\n",
    "    hh_installation_tb10 = hh_installation_tb10.append(hh_frame_tb10[start:end])"
   ]
  },
  {
   "cell_type": "code",
   "execution_count": 52,
   "id": "76ac0231",
   "metadata": {},
   "outputs": [],
   "source": [
    "# TB 11\n",
    "\n",
    "sbitroot_installation_tb11 = pd.DataFrame()\n",
    "hh_installation_tb11= pd.DataFrame()\n",
    "\n",
    "for start, end in sbi_indices_tb11:\n",
    "    sbitroot_installation_tb11 = sbitroot_installation_tb11.append(sbitroot_frame_tb11[start:end])\n",
    "    hh_installation_tb11 = hh_installation_tb11.append(hh_frame_tb11[start:end])"
   ]
  },
  {
   "cell_type": "code",
   "execution_count": 53,
   "id": "4d176c99",
   "metadata": {},
   "outputs": [],
   "source": [
    "# TB 12\n",
    "\n",
    "sbitroot_installation_tb12 = pd.DataFrame()\n",
    "hh_installation_tb12= pd.DataFrame()\n",
    "\n",
    "for start, end in sbi_indices_tb12:\n",
    "    sbitroot_installation_tb12 = sbitroot_installation_tb12.append(sbitroot_frame_tb12[start:end])\n",
    "    hh_installation_tb12 = hh_installation_tb12.append(hh_frame_tb12[start:end])"
   ]
  },
  {
   "cell_type": "code",
   "execution_count": 54,
   "id": "8d61807d",
   "metadata": {},
   "outputs": [],
   "source": [
    "# TB 13\n",
    "\n",
    "#sbitroot_installation_tb13 = pd.DataFrame()\n",
    "\n",
    "\n",
    "#for start, end in sbi_indices_tb13:\n",
    "    #sbitroot_installation_tb13 = sbitroot_installation_tb13.append(sbitroot_frame_tb13[start:end])"
   ]
  },
  {
   "cell_type": "code",
   "execution_count": 55,
   "id": "e0d045cf",
   "metadata": {},
   "outputs": [],
   "source": [
    "# TB 14\n",
    "\n",
    "sbitroot_installation_tb14 = pd.DataFrame()\n",
    "hh_installation_tb14= pd.DataFrame()\n",
    "\n",
    "for start, end in sbi_indices_tb14:\n",
    "    sbitroot_installation_tb14 = sbitroot_installation_tb14.append(sbitroot_frame_tb14[start:end])\n",
    "    hh_installation_tb14 = hh_installation_tb14.append(hh_frame_tb14[start:end])"
   ]
  },
  {
   "cell_type": "code",
   "execution_count": 56,
   "id": "13f6498b",
   "metadata": {},
   "outputs": [],
   "source": [
    "# TB 16\n",
    "\n",
    "#sbitroot_installation_tb16 = pd.DataFrame()\n",
    "\n",
    "#for start, end in sbi_indices_tb16:\n",
    "    #sbitroot_installation_tb16 = sbitroot_installation_tb16.append(sbitroot_frame_tb16[start:end])"
   ]
  },
  {
   "cell_type": "markdown",
   "id": "4d673ba5",
   "metadata": {},
   "source": [
    "## Impact thresholds"
   ]
  },
  {
   "cell_type": "code",
   "execution_count": 57,
   "id": "70db79b3",
   "metadata": {},
   "outputs": [],
   "source": [
    "# Find independent oscillation periods\n",
    "\n",
    "acc_threshold_x = 0.5 #acceleration threshold (m/s^2)\n",
    "acc_threshold_z = 0.5\n",
    "acc_threshold_y = 0.3\n",
    "\n",
    "limit = pd.to_timedelta(60, unit='s') #time limit to avoid correlation\n",
    "min_impact_time = pd.to_timedelta(10, unit='s') # minimum time of impact event, erasing measurment errors"
   ]
  },
  {
   "cell_type": "markdown",
   "id": "81c4c4ec",
   "metadata": {},
   "source": [
    "## List of analysed turbines"
   ]
  },
  {
   "cell_type": "code",
   "execution_count": 58,
   "id": "43a26e6b",
   "metadata": {},
   "outputs": [
    {
     "name": "stdout",
     "output_type": "stream",
     "text": [
      "[4, 5, 6, 8, 10, 11, 12, 14]\n"
     ]
    }
   ],
   "source": [
    "list_of_turbines= [4,5,6,8,10,11,12,14]\n",
    "print(list_of_turbines)"
   ]
  },
  {
   "cell_type": "markdown",
   "id": "37784098",
   "metadata": {},
   "source": [
    "## Impacts in X Direction"
   ]
  },
  {
   "cell_type": "code",
   "execution_count": 59,
   "id": "5f127f7b",
   "metadata": {},
   "outputs": [],
   "source": [
    "impact_times_tb4_x= find_impacts(sbitroot_installation_tb4.acc_x, sbitroot_installation_tb4.acc_y, acc_threshold_x, acc_threshold_y, limit, min_impact_time)"
   ]
  },
  {
   "cell_type": "code",
   "execution_count": 60,
   "id": "6f294033",
   "metadata": {},
   "outputs": [],
   "source": [
    "impact_times_tb5_x= find_impacts(sbitroot_installation_tb5.acc_x, sbitroot_installation_tb5.acc_y, acc_threshold_x, acc_threshold_y, limit, min_impact_time)"
   ]
  },
  {
   "cell_type": "code",
   "execution_count": 61,
   "id": "99deca91",
   "metadata": {},
   "outputs": [],
   "source": [
    "impact_times_tb6_x= find_impacts(sbitroot_installation_tb6.acc_x, sbitroot_installation_tb6.acc_y, acc_threshold_x, acc_threshold_y, limit, min_impact_time)"
   ]
  },
  {
   "cell_type": "code",
   "execution_count": 62,
   "id": "666ffb76",
   "metadata": {},
   "outputs": [],
   "source": [
    "impact_times_tb8_x= find_impacts(sbitroot_installation_tb8.acc_x, sbitroot_installation_tb8.acc_y, acc_threshold_x, acc_threshold_y, limit, min_impact_time)"
   ]
  },
  {
   "cell_type": "code",
   "execution_count": 63,
   "id": "bb56dccf",
   "metadata": {},
   "outputs": [],
   "source": [
    "impact_times_tb10_x= find_impacts(sbitroot_installation_tb10.acc_x, sbitroot_installation_tb10.acc_y, acc_threshold_x, acc_threshold_y, limit, min_impact_time)"
   ]
  },
  {
   "cell_type": "code",
   "execution_count": 64,
   "id": "b8505428",
   "metadata": {},
   "outputs": [],
   "source": [
    "impact_times_tb11_x= find_impacts(sbitroot_installation_tb11.acc_x, sbitroot_installation_tb11.acc_y, acc_threshold_x, acc_threshold_y, limit, min_impact_time)"
   ]
  },
  {
   "cell_type": "code",
   "execution_count": 65,
   "id": "d0770520",
   "metadata": {},
   "outputs": [],
   "source": [
    "impact_times_tb12_x= find_impacts(sbitroot_installation_tb12.acc_x, sbitroot_installation_tb12.acc_y, acc_threshold_x, acc_threshold_y, limit, min_impact_time)"
   ]
  },
  {
   "cell_type": "code",
   "execution_count": 66,
   "id": "22e02089",
   "metadata": {},
   "outputs": [],
   "source": [
    "impact_times_tb14_x= find_impacts(sbitroot_installation_tb14.acc_x, sbitroot_installation_tb14.acc_y, acc_threshold_x, acc_threshold_y, limit, min_impact_time)"
   ]
  },
  {
   "cell_type": "markdown",
   "id": "ec12d5a0",
   "metadata": {},
   "source": [
    "## Impacts in Z Direction"
   ]
  },
  {
   "cell_type": "code",
   "execution_count": 67,
   "id": "432a9e45",
   "metadata": {},
   "outputs": [],
   "source": [
    "impact_times_tb4_z= find_impacts(sbitroot_installation_tb4.acc_z, sbitroot_installation_tb4.acc_y, acc_threshold_z, acc_threshold_y, limit, min_impact_time)"
   ]
  },
  {
   "cell_type": "code",
   "execution_count": 68,
   "id": "8a51c35c",
   "metadata": {},
   "outputs": [],
   "source": [
    "impact_times_tb5_z= find_impacts(sbitroot_installation_tb5.acc_z, sbitroot_installation_tb5.acc_y, acc_threshold_z, acc_threshold_y, limit, min_impact_time)"
   ]
  },
  {
   "cell_type": "code",
   "execution_count": 69,
   "id": "2f5d77e5",
   "metadata": {},
   "outputs": [],
   "source": [
    "impact_times_tb6_z= find_impacts(sbitroot_installation_tb6.acc_z, sbitroot_installation_tb6.acc_y, acc_threshold_z, acc_threshold_y, limit, min_impact_time)"
   ]
  },
  {
   "cell_type": "code",
   "execution_count": 70,
   "id": "8ceb050d",
   "metadata": {},
   "outputs": [],
   "source": [
    "impact_times_tb8_z= find_impacts(sbitroot_installation_tb8.acc_z, sbitroot_installation_tb8.acc_y, acc_threshold_z, acc_threshold_y, limit, min_impact_time)"
   ]
  },
  {
   "cell_type": "code",
   "execution_count": 71,
   "id": "ba4f103a",
   "metadata": {},
   "outputs": [],
   "source": [
    "impact_times_tb10_z= find_impacts(sbitroot_installation_tb10.acc_z, sbitroot_installation_tb10.acc_y, acc_threshold_z, acc_threshold_y, limit, min_impact_time)"
   ]
  },
  {
   "cell_type": "code",
   "execution_count": 72,
   "id": "b5d79dae",
   "metadata": {},
   "outputs": [],
   "source": [
    "impact_times_tb11_z= find_impacts(sbitroot_installation_tb11.acc_z, sbitroot_installation_tb11.acc_y, acc_threshold_z, acc_threshold_y, limit, min_impact_time)"
   ]
  },
  {
   "cell_type": "code",
   "execution_count": 73,
   "id": "e42de026",
   "metadata": {},
   "outputs": [],
   "source": [
    "impact_times_tb12_z= find_impacts(sbitroot_installation_tb12.acc_z, sbitroot_installation_tb12.acc_y, acc_threshold_z, acc_threshold_y, limit, min_impact_time)"
   ]
  },
  {
   "cell_type": "code",
   "execution_count": 74,
   "id": "885e7f54",
   "metadata": {},
   "outputs": [],
   "source": [
    "impact_times_tb14_z= find_impacts(sbitroot_installation_tb14.acc_z, sbitroot_installation_tb14.acc_y, acc_threshold_z, acc_threshold_y, limit, min_impact_time)"
   ]
  },
  {
   "cell_type": "markdown",
   "id": "648407ba",
   "metadata": {},
   "source": [
    "## Impacts combined X and Z"
   ]
  },
  {
   "cell_type": "code",
   "execution_count": 75,
   "id": "b2f368d4",
   "metadata": {},
   "outputs": [],
   "source": [
    "impact_times_tb4 = impact_times_tb4_z + impact_times_tb4_x\n",
    "impact_times_tb4.sort()"
   ]
  },
  {
   "cell_type": "code",
   "execution_count": 76,
   "id": "ef5133f2",
   "metadata": {},
   "outputs": [],
   "source": [
    "impact_times_tb5 = impact_times_tb5_z + impact_times_tb5_x\n",
    "impact_times_tb5.sort()"
   ]
  },
  {
   "cell_type": "code",
   "execution_count": 77,
   "id": "21f789eb",
   "metadata": {},
   "outputs": [],
   "source": [
    "impact_times_tb6 = impact_times_tb6_z + impact_times_tb6_x\n",
    "impact_times_tb6.sort()"
   ]
  },
  {
   "cell_type": "code",
   "execution_count": 78,
   "id": "147d4860",
   "metadata": {},
   "outputs": [],
   "source": [
    "impact_times_tb8 = impact_times_tb8_z + impact_times_tb8_x\n",
    "impact_times_tb8.sort()"
   ]
  },
  {
   "cell_type": "code",
   "execution_count": 79,
   "id": "b0d59681",
   "metadata": {},
   "outputs": [],
   "source": [
    "impact_times_tb10 = impact_times_tb10_z + impact_times_tb10_x\n",
    "impact_times_tb10.sort()"
   ]
  },
  {
   "cell_type": "code",
   "execution_count": 80,
   "id": "f67db1fd",
   "metadata": {},
   "outputs": [],
   "source": [
    "impact_times_tb11 = impact_times_tb11_z + impact_times_tb11_x\n",
    "impact_times_tb11.sort()"
   ]
  },
  {
   "cell_type": "code",
   "execution_count": 81,
   "id": "1d068027",
   "metadata": {},
   "outputs": [],
   "source": [
    "impact_times_tb12 = impact_times_tb12_z + impact_times_tb12_x\n",
    "impact_times_tb12.sort()"
   ]
  },
  {
   "cell_type": "code",
   "execution_count": 82,
   "id": "b9b2f037",
   "metadata": {},
   "outputs": [],
   "source": [
    "impact_times_tb14 = impact_times_tb14_z + impact_times_tb14_x\n",
    "impact_times_tb14.sort()"
   ]
  },
  {
   "cell_type": "markdown",
   "id": "9a6243f7",
   "metadata": {},
   "source": [
    "# INDEPENDENT deflection SBIT"
   ]
  },
  {
   "cell_type": "code",
   "execution_count": 83,
   "id": "add3d729",
   "metadata": {},
   "outputs": [],
   "source": [
    "indep_deflection_tb4, sbi_start_tb4, impact_start_tb4= find_indep_oscillations(sbi_indices_tb4, impact_times_tb4, wind_data.index, sbitroot_installation_tb4.deflection )"
   ]
  },
  {
   "cell_type": "code",
   "execution_count": 84,
   "id": "6ce8be0e",
   "metadata": {},
   "outputs": [],
   "source": [
    "indep_deflection_tb5, sbi_start_tb5, impact_start_tb5= find_indep_oscillations(sbi_indices_tb5, impact_times_tb5, wind_data.index, sbitroot_installation_tb5.deflection )"
   ]
  },
  {
   "cell_type": "code",
   "execution_count": 85,
   "id": "df7fb9d0",
   "metadata": {},
   "outputs": [],
   "source": [
    "indep_deflection_tb6, sbi_start_tb6, impact_start_tb6= find_indep_oscillations(sbi_indices_tb6, impact_times_tb6, wind_data.index, sbitroot_installation_tb6.deflection )"
   ]
  },
  {
   "cell_type": "code",
   "execution_count": 86,
   "id": "e7a945c4",
   "metadata": {},
   "outputs": [],
   "source": [
    "indep_deflection_tb8, sbi_start_tb8, impact_start_tb8= find_indep_oscillations(sbi_indices_tb8, impact_times_tb8, wind_data.index, sbitroot_installation_tb8.deflection )"
   ]
  },
  {
   "cell_type": "code",
   "execution_count": 87,
   "id": "d9687a05",
   "metadata": {},
   "outputs": [],
   "source": [
    "indep_deflection_tb10, sbi_start_tb10, impact_start_tb10= find_indep_oscillations(sbi_indices_tb10, impact_times_tb10, wind_data.index, sbitroot_installation_tb10.deflection )"
   ]
  },
  {
   "cell_type": "code",
   "execution_count": 88,
   "id": "a3266119",
   "metadata": {},
   "outputs": [],
   "source": [
    "indep_deflection_tb11, sbi_start_tb11, impact_start_tb11= find_indep_oscillations(sbi_indices_tb11, impact_times_tb11, wind_data.index, sbitroot_installation_tb11.deflection )"
   ]
  },
  {
   "cell_type": "code",
   "execution_count": 89,
   "id": "14284e34",
   "metadata": {},
   "outputs": [],
   "source": [
    "indep_deflection_tb12, sbi_start_tb12, impact_start_tb12= find_indep_oscillations(sbi_indices_tb12, impact_times_tb12, wind_data.index, sbitroot_installation_tb12.deflection )"
   ]
  },
  {
   "cell_type": "code",
   "execution_count": 90,
   "id": "4f037366",
   "metadata": {},
   "outputs": [],
   "source": [
    "indep_deflection_tb14, sbi_start_tb14, impact_start_tb14= find_indep_oscillations(sbi_indices_tb14, impact_times_tb14, wind_data.index, sbitroot_installation_tb14.deflection )"
   ]
  },
  {
   "cell_type": "markdown",
   "id": "27d91e7d",
   "metadata": {},
   "source": [
    "# INDEPENDENT deflection TOWER"
   ]
  },
  {
   "cell_type": "code",
   "execution_count": 91,
   "id": "39251937",
   "metadata": {},
   "outputs": [],
   "source": [
    "indep_def_tower_tb4, sbi_start_tb4, impact_start_tb4= find_indep_oscillations(sbi_indices_tb4, impact_times_tb4, wind_data.index, hh_installation_tb4.deflection )"
   ]
  },
  {
   "cell_type": "code",
   "execution_count": 92,
   "id": "5d03571f",
   "metadata": {},
   "outputs": [],
   "source": [
    "indep_def_tower_tb5, sbi_start_tb5, impact_start_tb5= find_indep_oscillations(sbi_indices_tb5, impact_times_tb5, wind_data.index, hh_installation_tb5.deflection )"
   ]
  },
  {
   "cell_type": "code",
   "execution_count": 93,
   "id": "02b9f647",
   "metadata": {},
   "outputs": [],
   "source": [
    "indep_def_tower_tb6, sbi_start_tb6, impact_start_tb6= find_indep_oscillations(sbi_indices_tb6, impact_times_tb6, wind_data.index, hh_installation_tb6.deflection )"
   ]
  },
  {
   "cell_type": "code",
   "execution_count": 94,
   "id": "f8655e40",
   "metadata": {},
   "outputs": [],
   "source": [
    "indep_def_tower_tb8, sbi_start_tb8, impact_start_tb8= find_indep_oscillations(sbi_indices_tb8, impact_times_tb8, wind_data.index, hh_installation_tb8.deflection )"
   ]
  },
  {
   "cell_type": "code",
   "execution_count": 95,
   "id": "85a44e4b",
   "metadata": {},
   "outputs": [],
   "source": [
    "indep_def_tower_tb10, sbi_start_tb10, impact_start_tb10= find_indep_oscillations(sbi_indices_tb10, impact_times_tb10, wind_data.index, hh_installation_tb10.deflection )"
   ]
  },
  {
   "cell_type": "code",
   "execution_count": 96,
   "id": "7884e521",
   "metadata": {},
   "outputs": [],
   "source": [
    "indep_def_tower_tb11, sbi_start_tb11, impact_start_tb11= find_indep_oscillations(sbi_indices_tb11, impact_times_tb11, wind_data.index, hh_installation_tb11.deflection )"
   ]
  },
  {
   "cell_type": "code",
   "execution_count": 97,
   "id": "f53a13be",
   "metadata": {},
   "outputs": [],
   "source": [
    "indep_def_tower_tb12, sbi_start_tb12, impact_start_tb12= find_indep_oscillations(sbi_indices_tb12, impact_times_tb12, wind_data.index, hh_installation_tb12.deflection )"
   ]
  },
  {
   "cell_type": "code",
   "execution_count": 98,
   "id": "167f1b01",
   "metadata": {},
   "outputs": [],
   "source": [
    "indep_def_tower_tb14, sbi_start_tb14, impact_start_tb14= find_indep_oscillations(sbi_indices_tb14, impact_times_tb14, wind_data.index, hh_installation_tb14.deflection )"
   ]
  },
  {
   "cell_type": "markdown",
   "id": "ae072e2b",
   "metadata": {},
   "source": [
    "# INDEPENDENT Environment"
   ]
  },
  {
   "cell_type": "markdown",
   "id": "9a0a9068",
   "metadata": {},
   "source": [
    "## Wind speed"
   ]
  },
  {
   "cell_type": "code",
   "execution_count": 99,
   "id": "52f53619",
   "metadata": {},
   "outputs": [],
   "source": [
    "indep_wind_tb4, sbi_start_tb4, impact_start_tb4 = find_indep_oscillations(sbi_indices_tb4, impact_times_tb4, wind_data.index, wind_data.wind_speed_0)"
   ]
  },
  {
   "cell_type": "code",
   "execution_count": 100,
   "id": "dee920ac",
   "metadata": {},
   "outputs": [],
   "source": [
    "indep_wind_tb5, sbi_start_tb5, impact_start_tb5 = find_indep_oscillations(sbi_indices_tb5, impact_times_tb5, wind_data.index, wind_data.wind_speed_0)"
   ]
  },
  {
   "cell_type": "code",
   "execution_count": 101,
   "id": "f9499f54",
   "metadata": {},
   "outputs": [],
   "source": [
    "indep_wind_tb6, sbi_start_tb6, impact_start_tb6 = find_indep_oscillations(sbi_indices_tb6, impact_times_tb6, wind_data.index, wind_data.wind_speed_0)"
   ]
  },
  {
   "cell_type": "code",
   "execution_count": 102,
   "id": "b1c4a80d",
   "metadata": {},
   "outputs": [],
   "source": [
    "indep_wind_tb8, sbi_start_tb8, impact_start_tb8 = find_indep_oscillations(sbi_indices_tb8, impact_times_tb8, wind_data.index, wind_data.wind_speed_0)"
   ]
  },
  {
   "cell_type": "code",
   "execution_count": 103,
   "id": "14e5d619",
   "metadata": {},
   "outputs": [],
   "source": [
    "indep_wind_tb10, sbi_start_tb10, impact_start_tb10 = find_indep_oscillations(sbi_indices_tb10, impact_times_tb10, wind_data.index, wind_data.wind_speed_0)"
   ]
  },
  {
   "cell_type": "code",
   "execution_count": 104,
   "id": "0026e347",
   "metadata": {},
   "outputs": [],
   "source": [
    "indep_wind_tb11, sbi_start_tb11, impact_start_tb11 = find_indep_oscillations(sbi_indices_tb11, impact_times_tb11, wind_data.index, wind_data.wind_speed_0)"
   ]
  },
  {
   "cell_type": "code",
   "execution_count": 105,
   "id": "186104e8",
   "metadata": {},
   "outputs": [],
   "source": [
    "indep_wind_tb12, sbi_start_tb12, impact_start_tb12 = find_indep_oscillations(sbi_indices_tb12, impact_times_tb12, wind_data.index, wind_data.wind_speed_0)"
   ]
  },
  {
   "cell_type": "code",
   "execution_count": 106,
   "id": "2817a8f6",
   "metadata": {},
   "outputs": [],
   "source": [
    "indep_wind_tb14, sbi_start_tb14, impact_start_tb14 = find_indep_oscillations(sbi_indices_tb14, impact_times_tb14, wind_data.index, wind_data.wind_speed_0)"
   ]
  },
  {
   "cell_type": "markdown",
   "id": "f3f94313",
   "metadata": {},
   "source": [
    "## Wave height"
   ]
  },
  {
   "cell_type": "code",
   "execution_count": 107,
   "id": "ecf37764",
   "metadata": {},
   "outputs": [],
   "source": [
    "indep_waveH_tb4, sbi_start_tb4, impact_start_tb4 = find_indep_oscillations(sbi_indices_tb4, impact_times_tb4, wave_data.index, wave_data.Hm0)"
   ]
  },
  {
   "cell_type": "code",
   "execution_count": 108,
   "id": "0f912d6d",
   "metadata": {},
   "outputs": [],
   "source": [
    "indep_waveH_tb5, sbi_start_tb5, impact_start_tb5 = find_indep_oscillations(sbi_indices_tb5, impact_times_tb5, wave_data.index, wave_data.Hm0)"
   ]
  },
  {
   "cell_type": "code",
   "execution_count": 109,
   "id": "1c7166e3",
   "metadata": {},
   "outputs": [],
   "source": [
    "indep_waveH_tb6, sbi_start_tb6, impact_start_tb6 = find_indep_oscillations(sbi_indices_tb6, impact_times_tb6, wave_data.index, wave_data.Hm0)"
   ]
  },
  {
   "cell_type": "code",
   "execution_count": 110,
   "id": "a4438bb1",
   "metadata": {},
   "outputs": [],
   "source": [
    "indep_waveH_tb8, sbi_start_tb8, impact_start_tb8 = find_indep_oscillations(sbi_indices_tb8, impact_times_tb8, wave_data.index, wave_data.Hm0)"
   ]
  },
  {
   "cell_type": "code",
   "execution_count": 111,
   "id": "1c8d1862",
   "metadata": {},
   "outputs": [],
   "source": [
    "indep_waveH_tb10, sbi_start_tb10, impact_start_tb10 = find_indep_oscillations(sbi_indices_tb10, impact_times_tb10, wave_data.index, wave_data.Hm0)"
   ]
  },
  {
   "cell_type": "code",
   "execution_count": 112,
   "id": "42076f17",
   "metadata": {},
   "outputs": [],
   "source": [
    "indep_waveH_tb11, sbi_start_tb11, impact_start_tb11 = find_indep_oscillations(sbi_indices_tb11, impact_times_tb11, wave_data.index, wave_data.Hm0)"
   ]
  },
  {
   "cell_type": "code",
   "execution_count": 113,
   "id": "aff0ce70",
   "metadata": {},
   "outputs": [],
   "source": [
    "indep_waveH_tb12, sbi_start_tb12, impact_start_tb12 = find_indep_oscillations(sbi_indices_tb12, impact_times_tb12, wave_data.index, wave_data.Hm0)"
   ]
  },
  {
   "cell_type": "code",
   "execution_count": 114,
   "id": "625a68e4",
   "metadata": {},
   "outputs": [],
   "source": [
    "indep_waveH_tb14, sbi_start_tb14, impact_start_tb14 = find_indep_oscillations(sbi_indices_tb14, impact_times_tb14, wave_data.index, wave_data.Hm0)"
   ]
  },
  {
   "cell_type": "markdown",
   "id": "a12b4e15",
   "metadata": {},
   "source": [
    "## Peak Period"
   ]
  },
  {
   "cell_type": "code",
   "execution_count": 115,
   "id": "2bd5efe6",
   "metadata": {},
   "outputs": [],
   "source": [
    "indep_waveTp_tb4, sbi_start_tb4, impact_start_tb4 = find_indep_oscillations(sbi_indices_tb4, impact_times_tb4, wave_data.index, wave_data.Tp)"
   ]
  },
  {
   "cell_type": "code",
   "execution_count": 116,
   "id": "da3a6620",
   "metadata": {},
   "outputs": [],
   "source": [
    "indep_waveTp_tb5, sbi_start_tb5, impact_start_tb5 = find_indep_oscillations(sbi_indices_tb5, impact_times_tb5, wave_data.index, wave_data.Tp)"
   ]
  },
  {
   "cell_type": "code",
   "execution_count": 117,
   "id": "8a8e0f3a",
   "metadata": {},
   "outputs": [],
   "source": [
    "indep_waveTp_tb6, sbi_start_tb6, impact_start_tb6 = find_indep_oscillations(sbi_indices_tb6, impact_times_tb6, wave_data.index, wave_data.Tp)"
   ]
  },
  {
   "cell_type": "code",
   "execution_count": 118,
   "id": "03dbffc1",
   "metadata": {},
   "outputs": [],
   "source": [
    "indep_waveTp_tb8, sbi_start_tb8, impact_start_tb8 = find_indep_oscillations(sbi_indices_tb8, impact_times_tb8, wave_data.index, wave_data.Tp)"
   ]
  },
  {
   "cell_type": "code",
   "execution_count": 119,
   "id": "cf39e801",
   "metadata": {},
   "outputs": [],
   "source": [
    "indep_waveTp_tb10, sbi_start_tb10, impact_start_tb10 = find_indep_oscillations(sbi_indices_tb10, impact_times_tb10, wave_data.index, wave_data.Tp)"
   ]
  },
  {
   "cell_type": "code",
   "execution_count": 120,
   "id": "cc61cc67",
   "metadata": {},
   "outputs": [],
   "source": [
    "indep_waveTp_tb11, sbi_start_tb11, impact_start_tb11 = find_indep_oscillations(sbi_indices_tb11, impact_times_tb11, wave_data.index, wave_data.Tp)"
   ]
  },
  {
   "cell_type": "code",
   "execution_count": 121,
   "id": "8f2e42cf",
   "metadata": {},
   "outputs": [],
   "source": [
    "indep_waveTp_tb12, sbi_start_tb12, impact_start_tb12 = find_indep_oscillations(sbi_indices_tb12, impact_times_tb12, wave_data.index, wave_data.Tp)"
   ]
  },
  {
   "cell_type": "code",
   "execution_count": 122,
   "id": "592c7b8b",
   "metadata": {},
   "outputs": [],
   "source": [
    "indep_waveTp_tb14, sbi_start_tb14, impact_start_tb14 = find_indep_oscillations(sbi_indices_tb14, impact_times_tb14, wave_data.index, wave_data.Tp)"
   ]
  },
  {
   "cell_type": "markdown",
   "id": "ec355f24",
   "metadata": {},
   "source": [
    "## Zero-up crossing period"
   ]
  },
  {
   "cell_type": "code",
   "execution_count": 123,
   "id": "83033d6e",
   "metadata": {},
   "outputs": [],
   "source": [
    "indep_waveTz_tb4, sbi_start_tb4, impact_start_tb4 = find_indep_oscillations(sbi_indices_tb4, impact_times_tb4, wave_data.index, wave_data.Tz)"
   ]
  },
  {
   "cell_type": "code",
   "execution_count": 124,
   "id": "baf5ff06",
   "metadata": {},
   "outputs": [],
   "source": [
    "indep_waveTz_tb5, sbi_start_tb5, impact_start_tb5 = find_indep_oscillations(sbi_indices_tb5, impact_times_tb5, wave_data.index, wave_data.Tz)"
   ]
  },
  {
   "cell_type": "code",
   "execution_count": 125,
   "id": "1b9631c3",
   "metadata": {},
   "outputs": [],
   "source": [
    "indep_waveTz_tb6, sbi_start_tb6, impact_start_tb6 = find_indep_oscillations(sbi_indices_tb6, impact_times_tb6, wave_data.index, wave_data.Tz)"
   ]
  },
  {
   "cell_type": "code",
   "execution_count": 126,
   "id": "1991e52d",
   "metadata": {},
   "outputs": [],
   "source": [
    "indep_waveTz_tb8, sbi_start_tb8, impact_start_tb8 = find_indep_oscillations(sbi_indices_tb8, impact_times_tb8, wave_data.index, wave_data.Tz)"
   ]
  },
  {
   "cell_type": "code",
   "execution_count": 127,
   "id": "4b1c617a",
   "metadata": {},
   "outputs": [],
   "source": [
    "indep_waveTz_tb10, sbi_start_tb10, impact_start_tb10 = find_indep_oscillations(sbi_indices_tb10, impact_times_tb10, wave_data.index, wave_data.Tz)"
   ]
  },
  {
   "cell_type": "code",
   "execution_count": 128,
   "id": "c0ec5112",
   "metadata": {},
   "outputs": [],
   "source": [
    "indep_waveTz_tb11, sbi_start_tb11, impact_start_tb11 = find_indep_oscillations(sbi_indices_tb11, impact_times_tb11, wave_data.index, wave_data.Tz)"
   ]
  },
  {
   "cell_type": "code",
   "execution_count": 129,
   "id": "b399aa47",
   "metadata": {},
   "outputs": [],
   "source": [
    "indep_waveTz_tb12, sbi_start_tb12, impact_start_tb12 = find_indep_oscillations(sbi_indices_tb12, impact_times_tb12, wave_data.index, wave_data.Tz)"
   ]
  },
  {
   "cell_type": "code",
   "execution_count": 130,
   "id": "262554ea",
   "metadata": {},
   "outputs": [],
   "source": [
    "indep_waveTz_tb14, sbi_start_tb14, impact_start_tb14 = find_indep_oscillations(sbi_indices_tb14, impact_times_tb14, wave_data.index, wave_data.Tz)"
   ]
  },
  {
   "cell_type": "markdown",
   "id": "ad4aa9f0",
   "metadata": {},
   "source": [
    "# Block Maxima Deflection SBIT"
   ]
  },
  {
   "cell_type": "code",
   "execution_count": 131,
   "id": "2126fa74",
   "metadata": {},
   "outputs": [],
   "source": [
    "maxima_values_tb4= block_maxima(indep_deflection_tb4, sbi_start_tb4, impact_start_tb4)"
   ]
  },
  {
   "cell_type": "code",
   "execution_count": 132,
   "id": "0500a291",
   "metadata": {},
   "outputs": [],
   "source": [
    "maxima_values_tb5= block_maxima(indep_deflection_tb5, sbi_start_tb5, impact_start_tb5)"
   ]
  },
  {
   "cell_type": "code",
   "execution_count": 133,
   "id": "4798bfaa",
   "metadata": {},
   "outputs": [],
   "source": [
    "maxima_values_tb6= block_maxima(indep_deflection_tb6, sbi_start_tb6, impact_start_tb6)"
   ]
  },
  {
   "cell_type": "code",
   "execution_count": 134,
   "id": "70d962d6",
   "metadata": {},
   "outputs": [],
   "source": [
    "maxima_values_tb8= block_maxima(indep_deflection_tb8, sbi_start_tb8, impact_start_tb8)"
   ]
  },
  {
   "cell_type": "code",
   "execution_count": 135,
   "id": "8ea2382e",
   "metadata": {},
   "outputs": [],
   "source": [
    "maxima_values_tb10= block_maxima(indep_deflection_tb10, sbi_start_tb10, impact_start_tb10)"
   ]
  },
  {
   "cell_type": "code",
   "execution_count": 136,
   "id": "e3471fde",
   "metadata": {},
   "outputs": [],
   "source": [
    "maxima_values_tb11= block_maxima(indep_deflection_tb11, sbi_start_tb11, impact_start_tb11)"
   ]
  },
  {
   "cell_type": "code",
   "execution_count": 137,
   "id": "f9d657d0",
   "metadata": {},
   "outputs": [],
   "source": [
    "maxima_values_tb12= block_maxima(indep_deflection_tb12, sbi_start_tb12, impact_start_tb12)"
   ]
  },
  {
   "cell_type": "code",
   "execution_count": 138,
   "id": "8ed5670a",
   "metadata": {},
   "outputs": [],
   "source": [
    "maxima_values_tb14= block_maxima(indep_deflection_tb14, sbi_start_tb14, impact_start_tb14)"
   ]
  },
  {
   "cell_type": "markdown",
   "id": "fed01830",
   "metadata": {},
   "source": [
    "# Block Maxima Deflection TOWER"
   ]
  },
  {
   "cell_type": "code",
   "execution_count": 139,
   "id": "f62aabe0",
   "metadata": {},
   "outputs": [],
   "source": [
    "maxima_val_tower_tb4= block_maxima(indep_def_tower_tb4, sbi_start_tb4, impact_start_tb4)"
   ]
  },
  {
   "cell_type": "code",
   "execution_count": 140,
   "id": "5c9bb093",
   "metadata": {},
   "outputs": [
    {
     "name": "stdout",
     "output_type": "stream",
     "text": [
      "106858\n",
      "106862\n"
     ]
    }
   ],
   "source": [
    "print(len(indep_def_tower_tb4[0]))\n",
    "print(len(indep_deflection_tb4[0]))"
   ]
  },
  {
   "cell_type": "code",
   "execution_count": 141,
   "id": "07a18186",
   "metadata": {},
   "outputs": [],
   "source": [
    "maxima_val_tower_tb5= block_maxima(indep_def_tower_tb5, sbi_start_tb5, impact_start_tb5)"
   ]
  },
  {
   "cell_type": "code",
   "execution_count": 142,
   "id": "0d85c4a5",
   "metadata": {},
   "outputs": [],
   "source": [
    "maxima_val_tower_tb6= block_maxima(indep_def_tower_tb6, sbi_start_tb6, impact_start_tb6)"
   ]
  },
  {
   "cell_type": "code",
   "execution_count": 143,
   "id": "ce212eb0",
   "metadata": {},
   "outputs": [],
   "source": [
    "maxima_val_tower_tb8= block_maxima(indep_def_tower_tb8, sbi_start_tb8, impact_start_tb8)"
   ]
  },
  {
   "cell_type": "code",
   "execution_count": 144,
   "id": "25b8a25f",
   "metadata": {},
   "outputs": [],
   "source": [
    "maxima_val_tower_tb10= block_maxima(indep_def_tower_tb10, sbi_start_tb10, impact_start_tb10)"
   ]
  },
  {
   "cell_type": "code",
   "execution_count": 145,
   "id": "5d71ef0e",
   "metadata": {},
   "outputs": [],
   "source": [
    "maxima_val_tower_tb11= block_maxima(indep_def_tower_tb11, sbi_start_tb11, impact_start_tb11)"
   ]
  },
  {
   "cell_type": "code",
   "execution_count": 146,
   "id": "5964920f",
   "metadata": {},
   "outputs": [],
   "source": [
    "maxima_val_tower_tb12= block_maxima(indep_def_tower_tb12, sbi_start_tb12, impact_start_tb12)"
   ]
  },
  {
   "cell_type": "code",
   "execution_count": 147,
   "id": "d6e1ae6e",
   "metadata": {},
   "outputs": [],
   "source": [
    "maxima_val_tower_tb14= block_maxima(indep_def_tower_tb14, sbi_start_tb14, impact_start_tb14)"
   ]
  },
  {
   "cell_type": "code",
   "execution_count": null,
   "id": "9e4fb958",
   "metadata": {},
   "outputs": [],
   "source": []
  },
  {
   "cell_type": "markdown",
   "id": "8c3901b0",
   "metadata": {},
   "source": [
    "## Mean block wind speed\n",
    "In case we use do not use 1- minute mean environmental data from the beginning, the following lines are needed. Here, the 1-minute mean environmental condition is calculated."
   ]
  },
  {
   "cell_type": "code",
   "execution_count": 241,
   "id": "fd0566a9",
   "metadata": {},
   "outputs": [],
   "source": [
    "#mean_wind_tb4= block_mean(indep_wind_tb4, sbi_start_tb4, impact_start_tb4)"
   ]
  },
  {
   "cell_type": "code",
   "execution_count": 242,
   "id": "1b1296d3",
   "metadata": {},
   "outputs": [],
   "source": [
    "#mean_wind_tb5= block_mean(indep_wind_tb5, sbi_start_tb5, impact_start_tb5)"
   ]
  },
  {
   "cell_type": "code",
   "execution_count": 243,
   "id": "e6be97f2",
   "metadata": {},
   "outputs": [],
   "source": [
    "#mean_wind_tb6= block_mean(indep_wind_tb6, sbi_start_tb6, impact_start_tb6)"
   ]
  },
  {
   "cell_type": "code",
   "execution_count": 244,
   "id": "107fa927",
   "metadata": {},
   "outputs": [],
   "source": [
    "#mean_wind_tb8= block_mean(indep_wind_tb8, sbi_start_tb8, impact_start_tb8)"
   ]
  },
  {
   "cell_type": "code",
   "execution_count": 245,
   "id": "d8c7c1c8",
   "metadata": {},
   "outputs": [],
   "source": [
    "#mean_wind_tb10= block_mean(indep_wind_tb10, sbi_start_tb10, impact_start_tb10)"
   ]
  },
  {
   "cell_type": "code",
   "execution_count": 246,
   "id": "952047c3",
   "metadata": {},
   "outputs": [],
   "source": [
    "#mean_wind_tb11= block_mean(indep_wind_tb11, sbi_start_tb11, impact_start_tb11)"
   ]
  },
  {
   "cell_type": "code",
   "execution_count": 247,
   "id": "79ba18fd",
   "metadata": {},
   "outputs": [],
   "source": [
    "#mean_wind_tb12= block_mean(indep_wind_tb12, sbi_start_tb12, impact_start_tb12)"
   ]
  },
  {
   "cell_type": "code",
   "execution_count": 248,
   "id": "b0c404f0",
   "metadata": {},
   "outputs": [],
   "source": [
    "#mean_wind_tb14= block_mean(indep_wind_tb14, sbi_start_tb14, impact_start_tb14)"
   ]
  },
  {
   "cell_type": "markdown",
   "id": "8abc31bc",
   "metadata": {},
   "source": [
    "In case we use 1- minute mean environmental data from the beginning, the lines above are not needed. We use the following definition instead:"
   ]
  },
  {
   "cell_type": "code",
   "execution_count": 148,
   "id": "d9f72dcf",
   "metadata": {},
   "outputs": [],
   "source": [
    "def environment_mean(data, ref_data):\n",
    "\n",
    "    mean_environment = []\n",
    "    for i in range(len(data)):\n",
    "        for j in range (len(data[i])):\n",
    "            mean_environment.append(data[i][j])\n",
    "            \n",
    "    \n",
    "    while len(mean_environment) > len(ref_data):\n",
    "        del mean_environment[- 1]\n",
    "        mean_environment = mean_environment\n",
    "    \n",
    "    return mean_environment"
   ]
  },
  {
   "cell_type": "code",
   "execution_count": 149,
   "id": "49a04e51",
   "metadata": {},
   "outputs": [],
   "source": [
    "mean_wind_tb4 = environment_mean(indep_wind_tb4, maxima_values_tb4)"
   ]
  },
  {
   "cell_type": "code",
   "execution_count": 150,
   "id": "682ba5d6",
   "metadata": {},
   "outputs": [],
   "source": [
    "mean_wind_tb5 = environment_mean(indep_wind_tb5, maxima_values_tb5)"
   ]
  },
  {
   "cell_type": "code",
   "execution_count": 151,
   "id": "8f7e67e4",
   "metadata": {},
   "outputs": [],
   "source": [
    "mean_wind_tb6 = environment_mean(indep_wind_tb6, maxima_values_tb6)"
   ]
  },
  {
   "cell_type": "code",
   "execution_count": 152,
   "id": "7eaaeb35",
   "metadata": {},
   "outputs": [],
   "source": [
    "mean_wind_tb8 = environment_mean(indep_wind_tb8, maxima_values_tb8)"
   ]
  },
  {
   "cell_type": "code",
   "execution_count": 153,
   "id": "de787762",
   "metadata": {},
   "outputs": [],
   "source": [
    "mean_wind_tb10 = environment_mean(indep_wind_tb10, maxima_values_tb10)"
   ]
  },
  {
   "cell_type": "code",
   "execution_count": 154,
   "id": "a2569820",
   "metadata": {},
   "outputs": [],
   "source": [
    "mean_wind_tb11 = environment_mean(indep_wind_tb11, maxima_values_tb11)"
   ]
  },
  {
   "cell_type": "code",
   "execution_count": 155,
   "id": "e57f2edb",
   "metadata": {},
   "outputs": [],
   "source": [
    "mean_wind_tb12 = environment_mean(indep_wind_tb12, maxima_values_tb12)"
   ]
  },
  {
   "cell_type": "code",
   "execution_count": 156,
   "id": "ee5532e8",
   "metadata": {},
   "outputs": [],
   "source": [
    "mean_wind_tb14 = environment_mean(indep_wind_tb14, maxima_values_tb14)"
   ]
  },
  {
   "cell_type": "markdown",
   "id": "acfd1212",
   "metadata": {},
   "source": [
    "## Mean block wave height"
   ]
  },
  {
   "cell_type": "code",
   "execution_count": 157,
   "id": "527a7438",
   "metadata": {},
   "outputs": [],
   "source": [
    "mean_waveH_tb4 = environment_mean(indep_waveH_tb4, maxima_values_tb4)"
   ]
  },
  {
   "cell_type": "code",
   "execution_count": 158,
   "id": "3d95be01",
   "metadata": {},
   "outputs": [],
   "source": [
    "mean_waveH_tb5 = environment_mean(indep_waveH_tb5, maxima_values_tb5)"
   ]
  },
  {
   "cell_type": "code",
   "execution_count": 159,
   "id": "c30c9e5d",
   "metadata": {},
   "outputs": [],
   "source": [
    "mean_waveH_tb6 = environment_mean(indep_waveH_tb6, maxima_values_tb6)"
   ]
  },
  {
   "cell_type": "code",
   "execution_count": 160,
   "id": "2f348cce",
   "metadata": {},
   "outputs": [],
   "source": [
    "mean_waveH_tb8 = environment_mean(indep_waveH_tb8, maxima_values_tb8)"
   ]
  },
  {
   "cell_type": "code",
   "execution_count": 161,
   "id": "03153760",
   "metadata": {},
   "outputs": [],
   "source": [
    "mean_waveH_tb10 = environment_mean(indep_waveH_tb10, maxima_values_tb10)"
   ]
  },
  {
   "cell_type": "code",
   "execution_count": 162,
   "id": "3c02e8f9",
   "metadata": {},
   "outputs": [],
   "source": [
    "mean_waveH_tb11 = environment_mean(indep_waveH_tb11, maxima_values_tb11)"
   ]
  },
  {
   "cell_type": "code",
   "execution_count": 163,
   "id": "580391e6",
   "metadata": {},
   "outputs": [],
   "source": [
    "mean_waveH_tb12 = environment_mean(indep_waveH_tb12, maxima_values_tb12)"
   ]
  },
  {
   "cell_type": "code",
   "execution_count": 164,
   "id": "744358e1",
   "metadata": {},
   "outputs": [],
   "source": [
    "mean_waveH_tb14 = environment_mean(indep_waveH_tb14, maxima_values_tb14)"
   ]
  },
  {
   "cell_type": "markdown",
   "id": "fefcd9dd",
   "metadata": {},
   "source": [
    "## Mean block wave peak period"
   ]
  },
  {
   "cell_type": "code",
   "execution_count": 165,
   "id": "836281dc",
   "metadata": {},
   "outputs": [],
   "source": [
    "mean_waveTp_tb4 = environment_mean(indep_waveTp_tb4, maxima_values_tb4)"
   ]
  },
  {
   "cell_type": "code",
   "execution_count": 166,
   "id": "25266dad",
   "metadata": {},
   "outputs": [],
   "source": [
    "mean_waveTp_tb5 = environment_mean(indep_waveTp_tb5, maxima_values_tb5)"
   ]
  },
  {
   "cell_type": "code",
   "execution_count": 167,
   "id": "bebd3c50",
   "metadata": {},
   "outputs": [],
   "source": [
    "mean_waveTp_tb6 = environment_mean(indep_waveTp_tb6, maxima_values_tb6)"
   ]
  },
  {
   "cell_type": "code",
   "execution_count": 168,
   "id": "c2e3237b",
   "metadata": {},
   "outputs": [],
   "source": [
    "mean_waveTp_tb8 = environment_mean(indep_waveTp_tb8, maxima_values_tb8)"
   ]
  },
  {
   "cell_type": "code",
   "execution_count": 169,
   "id": "e8c78c65",
   "metadata": {},
   "outputs": [],
   "source": [
    "mean_waveTp_tb10 = environment_mean(indep_waveTp_tb10, maxima_values_tb10)"
   ]
  },
  {
   "cell_type": "code",
   "execution_count": 170,
   "id": "17d92c10",
   "metadata": {},
   "outputs": [],
   "source": [
    "mean_waveTp_tb11 = environment_mean(indep_waveTp_tb11, maxima_values_tb11)"
   ]
  },
  {
   "cell_type": "code",
   "execution_count": 171,
   "id": "c1a8b6ac",
   "metadata": {},
   "outputs": [],
   "source": [
    "mean_waveTp_tb12 = environment_mean(indep_waveTp_tb12, maxima_values_tb12)"
   ]
  },
  {
   "cell_type": "code",
   "execution_count": 172,
   "id": "59d4b1b9",
   "metadata": {},
   "outputs": [],
   "source": [
    "mean_waveTp_tb14 = environment_mean(indep_waveTp_tb14, maxima_values_tb14)"
   ]
  },
  {
   "cell_type": "markdown",
   "id": "bfd808f2",
   "metadata": {},
   "source": [
    "## Mean block wave zero up-crossing period"
   ]
  },
  {
   "cell_type": "code",
   "execution_count": 173,
   "id": "5c2f5e38",
   "metadata": {},
   "outputs": [],
   "source": [
    "mean_waveTz_tb4 = environment_mean(indep_waveTz_tb4, maxima_values_tb4)"
   ]
  },
  {
   "cell_type": "code",
   "execution_count": 174,
   "id": "b7a00ef5",
   "metadata": {},
   "outputs": [],
   "source": [
    "mean_waveTz_tb5 = environment_mean(indep_waveTz_tb5, maxima_values_tb5)"
   ]
  },
  {
   "cell_type": "code",
   "execution_count": 175,
   "id": "3cb607f8",
   "metadata": {},
   "outputs": [],
   "source": [
    "mean_waveTz_tb6 = environment_mean(indep_waveTz_tb6, maxima_values_tb6)"
   ]
  },
  {
   "cell_type": "code",
   "execution_count": 176,
   "id": "ffebf75b",
   "metadata": {},
   "outputs": [],
   "source": [
    "mean_waveTz_tb8 = environment_mean(indep_waveTz_tb8, maxima_values_tb8)"
   ]
  },
  {
   "cell_type": "code",
   "execution_count": 186,
   "id": "d6c8dbb2",
   "metadata": {},
   "outputs": [],
   "source": [
    "mean_waveTz_tb10 = environment_mean(indep_waveTz_tb10, maxima_values_tb10)"
   ]
  },
  {
   "cell_type": "code",
   "execution_count": 177,
   "id": "b06fe93c",
   "metadata": {},
   "outputs": [],
   "source": [
    "mean_waveTz_tb11 = environment_mean(indep_waveTz_tb11, maxima_values_tb11)"
   ]
  },
  {
   "cell_type": "code",
   "execution_count": 178,
   "id": "1d804099",
   "metadata": {},
   "outputs": [],
   "source": [
    "mean_waveTz_tb12 = environment_mean(indep_waveTz_tb12, maxima_values_tb12)"
   ]
  },
  {
   "cell_type": "code",
   "execution_count": 179,
   "id": "c2c7ffb4",
   "metadata": {},
   "outputs": [],
   "source": [
    "mean_waveTz_tb14 = environment_mean(indep_waveTz_tb14, maxima_values_tb14)"
   ]
  },
  {
   "cell_type": "markdown",
   "id": "421dd92f",
   "metadata": {},
   "source": [
    "# Response Emulator"
   ]
  },
  {
   "cell_type": "code",
   "execution_count": 180,
   "id": "2297c239",
   "metadata": {},
   "outputs": [],
   "source": [
    "maxima_deflection= maxima_values_tb4+ maxima_values_tb5+ maxima_values_tb6+ maxima_values_tb8+ maxima_values_tb10+ maxima_values_tb11+ maxima_values_tb12+ maxima_values_tb14"
   ]
  },
  {
   "cell_type": "code",
   "execution_count": 181,
   "id": "2144b70c",
   "metadata": {},
   "outputs": [],
   "source": [
    "maxima_deflection_tower= maxima_val_tower_tb4 + maxima_val_tower_tb5+ maxima_val_tower_tb6 + maxima_val_tower_tb8 + maxima_val_tower_tb10 +maxima_val_tower_tb11 + maxima_val_tower_tb12+ maxima_val_tower_tb14"
   ]
  },
  {
   "cell_type": "code",
   "execution_count": 182,
   "id": "9e723a96",
   "metadata": {},
   "outputs": [],
   "source": [
    "mean_wind= mean_wind_tb4 + mean_wind_tb5+ mean_wind_tb6+ mean_wind_tb8+ mean_wind_tb10+ mean_wind_tb11+ mean_wind_tb12+ mean_wind_tb14"
   ]
  },
  {
   "cell_type": "code",
   "execution_count": 183,
   "id": "828c4162",
   "metadata": {},
   "outputs": [],
   "source": [
    "mean_waveH= mean_waveH_tb4 + mean_waveH_tb5+ mean_waveH_tb6+ mean_waveH_tb8+ mean_waveH_tb10+ mean_waveH_tb11+ mean_waveH_tb12+ mean_waveH_tb14"
   ]
  },
  {
   "cell_type": "code",
   "execution_count": 184,
   "id": "d49d168d",
   "metadata": {},
   "outputs": [],
   "source": [
    "mean_waveTp= mean_waveTp_tb4 + mean_waveTp_tb5+ mean_waveTp_tb6+ mean_waveTp_tb8+ mean_waveTp_tb10+ mean_waveTp_tb11+ mean_waveTp_tb12+ mean_waveTp_tb14"
   ]
  },
  {
   "cell_type": "code",
   "execution_count": 187,
   "id": "8eecdb39",
   "metadata": {},
   "outputs": [],
   "source": [
    "mean_waveTz= mean_waveTz_tb4 + mean_waveTz_tb5+ mean_waveTz_tb6+ mean_waveTz_tb8+ mean_waveTz_tb10+ mean_waveTz_tb11+ mean_waveTz_tb12+ mean_waveTz_tb14"
   ]
  },
  {
   "cell_type": "code",
   "execution_count": 188,
   "id": "8dac76ea",
   "metadata": {},
   "outputs": [
    {
     "name": "stdout",
     "output_type": "stream",
     "text": [
      "1272\n",
      "1272\n",
      "1272\n",
      "1272\n",
      "1272\n",
      "1272\n"
     ]
    }
   ],
   "source": [
    "print(len(maxima_deflection))\n",
    "print(len(maxima_deflection_tower))\n",
    "print(len(mean_wind))\n",
    "print(len(mean_waveH))\n",
    "print(len(mean_waveTp))\n",
    "print(len(mean_waveTz))"
   ]
  },
  {
   "cell_type": "code",
   "execution_count": 189,
   "id": "0721c0de",
   "metadata": {},
   "outputs": [
    {
     "data": {
      "application/javascript": [
       "/* Put everything inside the global mpl namespace */\n",
       "/* global mpl */\n",
       "window.mpl = {};\n",
       "\n",
       "mpl.get_websocket_type = function () {\n",
       "    if (typeof WebSocket !== 'undefined') {\n",
       "        return WebSocket;\n",
       "    } else if (typeof MozWebSocket !== 'undefined') {\n",
       "        return MozWebSocket;\n",
       "    } else {\n",
       "        alert(\n",
       "            'Your browser does not have WebSocket support. ' +\n",
       "                'Please try Chrome, Safari or Firefox ≥ 6. ' +\n",
       "                'Firefox 4 and 5 are also supported but you ' +\n",
       "                'have to enable WebSockets in about:config.'\n",
       "        );\n",
       "    }\n",
       "};\n",
       "\n",
       "mpl.figure = function (figure_id, websocket, ondownload, parent_element) {\n",
       "    this.id = figure_id;\n",
       "\n",
       "    this.ws = websocket;\n",
       "\n",
       "    this.supports_binary = this.ws.binaryType !== undefined;\n",
       "\n",
       "    if (!this.supports_binary) {\n",
       "        var warnings = document.getElementById('mpl-warnings');\n",
       "        if (warnings) {\n",
       "            warnings.style.display = 'block';\n",
       "            warnings.textContent =\n",
       "                'This browser does not support binary websocket messages. ' +\n",
       "                'Performance may be slow.';\n",
       "        }\n",
       "    }\n",
       "\n",
       "    this.imageObj = new Image();\n",
       "\n",
       "    this.context = undefined;\n",
       "    this.message = undefined;\n",
       "    this.canvas = undefined;\n",
       "    this.rubberband_canvas = undefined;\n",
       "    this.rubberband_context = undefined;\n",
       "    this.format_dropdown = undefined;\n",
       "\n",
       "    this.image_mode = 'full';\n",
       "\n",
       "    this.root = document.createElement('div');\n",
       "    this.root.setAttribute('style', 'display: inline-block');\n",
       "    this._root_extra_style(this.root);\n",
       "\n",
       "    parent_element.appendChild(this.root);\n",
       "\n",
       "    this._init_header(this);\n",
       "    this._init_canvas(this);\n",
       "    this._init_toolbar(this);\n",
       "\n",
       "    var fig = this;\n",
       "\n",
       "    this.waiting = false;\n",
       "\n",
       "    this.ws.onopen = function () {\n",
       "        fig.send_message('supports_binary', { value: fig.supports_binary });\n",
       "        fig.send_message('send_image_mode', {});\n",
       "        if (fig.ratio !== 1) {\n",
       "            fig.send_message('set_dpi_ratio', { dpi_ratio: fig.ratio });\n",
       "        }\n",
       "        fig.send_message('refresh', {});\n",
       "    };\n",
       "\n",
       "    this.imageObj.onload = function () {\n",
       "        if (fig.image_mode === 'full') {\n",
       "            // Full images could contain transparency (where diff images\n",
       "            // almost always do), so we need to clear the canvas so that\n",
       "            // there is no ghosting.\n",
       "            fig.context.clearRect(0, 0, fig.canvas.width, fig.canvas.height);\n",
       "        }\n",
       "        fig.context.drawImage(fig.imageObj, 0, 0);\n",
       "    };\n",
       "\n",
       "    this.imageObj.onunload = function () {\n",
       "        fig.ws.close();\n",
       "    };\n",
       "\n",
       "    this.ws.onmessage = this._make_on_message_function(this);\n",
       "\n",
       "    this.ondownload = ondownload;\n",
       "};\n",
       "\n",
       "mpl.figure.prototype._init_header = function () {\n",
       "    var titlebar = document.createElement('div');\n",
       "    titlebar.classList =\n",
       "        'ui-dialog-titlebar ui-widget-header ui-corner-all ui-helper-clearfix';\n",
       "    var titletext = document.createElement('div');\n",
       "    titletext.classList = 'ui-dialog-title';\n",
       "    titletext.setAttribute(\n",
       "        'style',\n",
       "        'width: 100%; text-align: center; padding: 3px;'\n",
       "    );\n",
       "    titlebar.appendChild(titletext);\n",
       "    this.root.appendChild(titlebar);\n",
       "    this.header = titletext;\n",
       "};\n",
       "\n",
       "mpl.figure.prototype._canvas_extra_style = function (_canvas_div) {};\n",
       "\n",
       "mpl.figure.prototype._root_extra_style = function (_canvas_div) {};\n",
       "\n",
       "mpl.figure.prototype._init_canvas = function () {\n",
       "    var fig = this;\n",
       "\n",
       "    var canvas_div = (this.canvas_div = document.createElement('div'));\n",
       "    canvas_div.setAttribute(\n",
       "        'style',\n",
       "        'border: 1px solid #ddd;' +\n",
       "            'box-sizing: content-box;' +\n",
       "            'clear: both;' +\n",
       "            'min-height: 1px;' +\n",
       "            'min-width: 1px;' +\n",
       "            'outline: 0;' +\n",
       "            'overflow: hidden;' +\n",
       "            'position: relative;' +\n",
       "            'resize: both;'\n",
       "    );\n",
       "\n",
       "    function on_keyboard_event_closure(name) {\n",
       "        return function (event) {\n",
       "            return fig.key_event(event, name);\n",
       "        };\n",
       "    }\n",
       "\n",
       "    canvas_div.addEventListener(\n",
       "        'keydown',\n",
       "        on_keyboard_event_closure('key_press')\n",
       "    );\n",
       "    canvas_div.addEventListener(\n",
       "        'keyup',\n",
       "        on_keyboard_event_closure('key_release')\n",
       "    );\n",
       "\n",
       "    this._canvas_extra_style(canvas_div);\n",
       "    this.root.appendChild(canvas_div);\n",
       "\n",
       "    var canvas = (this.canvas = document.createElement('canvas'));\n",
       "    canvas.classList.add('mpl-canvas');\n",
       "    canvas.setAttribute('style', 'box-sizing: content-box;');\n",
       "\n",
       "    this.context = canvas.getContext('2d');\n",
       "\n",
       "    var backingStore =\n",
       "        this.context.backingStorePixelRatio ||\n",
       "        this.context.webkitBackingStorePixelRatio ||\n",
       "        this.context.mozBackingStorePixelRatio ||\n",
       "        this.context.msBackingStorePixelRatio ||\n",
       "        this.context.oBackingStorePixelRatio ||\n",
       "        this.context.backingStorePixelRatio ||\n",
       "        1;\n",
       "\n",
       "    this.ratio = (window.devicePixelRatio || 1) / backingStore;\n",
       "\n",
       "    var rubberband_canvas = (this.rubberband_canvas = document.createElement(\n",
       "        'canvas'\n",
       "    ));\n",
       "    rubberband_canvas.setAttribute(\n",
       "        'style',\n",
       "        'box-sizing: content-box; position: absolute; left: 0; top: 0; z-index: 1;'\n",
       "    );\n",
       "\n",
       "    // Apply a ponyfill if ResizeObserver is not implemented by browser.\n",
       "    if (this.ResizeObserver === undefined) {\n",
       "        if (window.ResizeObserver !== undefined) {\n",
       "            this.ResizeObserver = window.ResizeObserver;\n",
       "        } else {\n",
       "            var obs = _JSXTOOLS_RESIZE_OBSERVER({});\n",
       "            this.ResizeObserver = obs.ResizeObserver;\n",
       "        }\n",
       "    }\n",
       "\n",
       "    this.resizeObserverInstance = new this.ResizeObserver(function (entries) {\n",
       "        var nentries = entries.length;\n",
       "        for (var i = 0; i < nentries; i++) {\n",
       "            var entry = entries[i];\n",
       "            var width, height;\n",
       "            if (entry.contentBoxSize) {\n",
       "                if (entry.contentBoxSize instanceof Array) {\n",
       "                    // Chrome 84 implements new version of spec.\n",
       "                    width = entry.contentBoxSize[0].inlineSize;\n",
       "                    height = entry.contentBoxSize[0].blockSize;\n",
       "                } else {\n",
       "                    // Firefox implements old version of spec.\n",
       "                    width = entry.contentBoxSize.inlineSize;\n",
       "                    height = entry.contentBoxSize.blockSize;\n",
       "                }\n",
       "            } else {\n",
       "                // Chrome <84 implements even older version of spec.\n",
       "                width = entry.contentRect.width;\n",
       "                height = entry.contentRect.height;\n",
       "            }\n",
       "\n",
       "            // Keep the size of the canvas and rubber band canvas in sync with\n",
       "            // the canvas container.\n",
       "            if (entry.devicePixelContentBoxSize) {\n",
       "                // Chrome 84 implements new version of spec.\n",
       "                canvas.setAttribute(\n",
       "                    'width',\n",
       "                    entry.devicePixelContentBoxSize[0].inlineSize\n",
       "                );\n",
       "                canvas.setAttribute(\n",
       "                    'height',\n",
       "                    entry.devicePixelContentBoxSize[0].blockSize\n",
       "                );\n",
       "            } else {\n",
       "                canvas.setAttribute('width', width * fig.ratio);\n",
       "                canvas.setAttribute('height', height * fig.ratio);\n",
       "            }\n",
       "            canvas.setAttribute(\n",
       "                'style',\n",
       "                'width: ' + width + 'px; height: ' + height + 'px;'\n",
       "            );\n",
       "\n",
       "            rubberband_canvas.setAttribute('width', width);\n",
       "            rubberband_canvas.setAttribute('height', height);\n",
       "\n",
       "            // And update the size in Python. We ignore the initial 0/0 size\n",
       "            // that occurs as the element is placed into the DOM, which should\n",
       "            // otherwise not happen due to the minimum size styling.\n",
       "            if (fig.ws.readyState == 1 && width != 0 && height != 0) {\n",
       "                fig.request_resize(width, height);\n",
       "            }\n",
       "        }\n",
       "    });\n",
       "    this.resizeObserverInstance.observe(canvas_div);\n",
       "\n",
       "    function on_mouse_event_closure(name) {\n",
       "        return function (event) {\n",
       "            return fig.mouse_event(event, name);\n",
       "        };\n",
       "    }\n",
       "\n",
       "    rubberband_canvas.addEventListener(\n",
       "        'mousedown',\n",
       "        on_mouse_event_closure('button_press')\n",
       "    );\n",
       "    rubberband_canvas.addEventListener(\n",
       "        'mouseup',\n",
       "        on_mouse_event_closure('button_release')\n",
       "    );\n",
       "    // Throttle sequential mouse events to 1 every 20ms.\n",
       "    rubberband_canvas.addEventListener(\n",
       "        'mousemove',\n",
       "        on_mouse_event_closure('motion_notify')\n",
       "    );\n",
       "\n",
       "    rubberband_canvas.addEventListener(\n",
       "        'mouseenter',\n",
       "        on_mouse_event_closure('figure_enter')\n",
       "    );\n",
       "    rubberband_canvas.addEventListener(\n",
       "        'mouseleave',\n",
       "        on_mouse_event_closure('figure_leave')\n",
       "    );\n",
       "\n",
       "    canvas_div.addEventListener('wheel', function (event) {\n",
       "        if (event.deltaY < 0) {\n",
       "            event.step = 1;\n",
       "        } else {\n",
       "            event.step = -1;\n",
       "        }\n",
       "        on_mouse_event_closure('scroll')(event);\n",
       "    });\n",
       "\n",
       "    canvas_div.appendChild(canvas);\n",
       "    canvas_div.appendChild(rubberband_canvas);\n",
       "\n",
       "    this.rubberband_context = rubberband_canvas.getContext('2d');\n",
       "    this.rubberband_context.strokeStyle = '#000000';\n",
       "\n",
       "    this._resize_canvas = function (width, height, forward) {\n",
       "        if (forward) {\n",
       "            canvas_div.style.width = width + 'px';\n",
       "            canvas_div.style.height = height + 'px';\n",
       "        }\n",
       "    };\n",
       "\n",
       "    // Disable right mouse context menu.\n",
       "    this.rubberband_canvas.addEventListener('contextmenu', function (_e) {\n",
       "        event.preventDefault();\n",
       "        return false;\n",
       "    });\n",
       "\n",
       "    function set_focus() {\n",
       "        canvas.focus();\n",
       "        canvas_div.focus();\n",
       "    }\n",
       "\n",
       "    window.setTimeout(set_focus, 100);\n",
       "};\n",
       "\n",
       "mpl.figure.prototype._init_toolbar = function () {\n",
       "    var fig = this;\n",
       "\n",
       "    var toolbar = document.createElement('div');\n",
       "    toolbar.classList = 'mpl-toolbar';\n",
       "    this.root.appendChild(toolbar);\n",
       "\n",
       "    function on_click_closure(name) {\n",
       "        return function (_event) {\n",
       "            return fig.toolbar_button_onclick(name);\n",
       "        };\n",
       "    }\n",
       "\n",
       "    function on_mouseover_closure(tooltip) {\n",
       "        return function (event) {\n",
       "            if (!event.currentTarget.disabled) {\n",
       "                return fig.toolbar_button_onmouseover(tooltip);\n",
       "            }\n",
       "        };\n",
       "    }\n",
       "\n",
       "    fig.buttons = {};\n",
       "    var buttonGroup = document.createElement('div');\n",
       "    buttonGroup.classList = 'mpl-button-group';\n",
       "    for (var toolbar_ind in mpl.toolbar_items) {\n",
       "        var name = mpl.toolbar_items[toolbar_ind][0];\n",
       "        var tooltip = mpl.toolbar_items[toolbar_ind][1];\n",
       "        var image = mpl.toolbar_items[toolbar_ind][2];\n",
       "        var method_name = mpl.toolbar_items[toolbar_ind][3];\n",
       "\n",
       "        if (!name) {\n",
       "            /* Instead of a spacer, we start a new button group. */\n",
       "            if (buttonGroup.hasChildNodes()) {\n",
       "                toolbar.appendChild(buttonGroup);\n",
       "            }\n",
       "            buttonGroup = document.createElement('div');\n",
       "            buttonGroup.classList = 'mpl-button-group';\n",
       "            continue;\n",
       "        }\n",
       "\n",
       "        var button = (fig.buttons[name] = document.createElement('button'));\n",
       "        button.classList = 'mpl-widget';\n",
       "        button.setAttribute('role', 'button');\n",
       "        button.setAttribute('aria-disabled', 'false');\n",
       "        button.addEventListener('click', on_click_closure(method_name));\n",
       "        button.addEventListener('mouseover', on_mouseover_closure(tooltip));\n",
       "\n",
       "        var icon_img = document.createElement('img');\n",
       "        icon_img.src = '_images/' + image + '.png';\n",
       "        icon_img.srcset = '_images/' + image + '_large.png 2x';\n",
       "        icon_img.alt = tooltip;\n",
       "        button.appendChild(icon_img);\n",
       "\n",
       "        buttonGroup.appendChild(button);\n",
       "    }\n",
       "\n",
       "    if (buttonGroup.hasChildNodes()) {\n",
       "        toolbar.appendChild(buttonGroup);\n",
       "    }\n",
       "\n",
       "    var fmt_picker = document.createElement('select');\n",
       "    fmt_picker.classList = 'mpl-widget';\n",
       "    toolbar.appendChild(fmt_picker);\n",
       "    this.format_dropdown = fmt_picker;\n",
       "\n",
       "    for (var ind in mpl.extensions) {\n",
       "        var fmt = mpl.extensions[ind];\n",
       "        var option = document.createElement('option');\n",
       "        option.selected = fmt === mpl.default_extension;\n",
       "        option.innerHTML = fmt;\n",
       "        fmt_picker.appendChild(option);\n",
       "    }\n",
       "\n",
       "    var status_bar = document.createElement('span');\n",
       "    status_bar.classList = 'mpl-message';\n",
       "    toolbar.appendChild(status_bar);\n",
       "    this.message = status_bar;\n",
       "};\n",
       "\n",
       "mpl.figure.prototype.request_resize = function (x_pixels, y_pixels) {\n",
       "    // Request matplotlib to resize the figure. Matplotlib will then trigger a resize in the client,\n",
       "    // which will in turn request a refresh of the image.\n",
       "    this.send_message('resize', { width: x_pixels, height: y_pixels });\n",
       "};\n",
       "\n",
       "mpl.figure.prototype.send_message = function (type, properties) {\n",
       "    properties['type'] = type;\n",
       "    properties['figure_id'] = this.id;\n",
       "    this.ws.send(JSON.stringify(properties));\n",
       "};\n",
       "\n",
       "mpl.figure.prototype.send_draw_message = function () {\n",
       "    if (!this.waiting) {\n",
       "        this.waiting = true;\n",
       "        this.ws.send(JSON.stringify({ type: 'draw', figure_id: this.id }));\n",
       "    }\n",
       "};\n",
       "\n",
       "mpl.figure.prototype.handle_save = function (fig, _msg) {\n",
       "    var format_dropdown = fig.format_dropdown;\n",
       "    var format = format_dropdown.options[format_dropdown.selectedIndex].value;\n",
       "    fig.ondownload(fig, format);\n",
       "};\n",
       "\n",
       "mpl.figure.prototype.handle_resize = function (fig, msg) {\n",
       "    var size = msg['size'];\n",
       "    if (size[0] !== fig.canvas.width || size[1] !== fig.canvas.height) {\n",
       "        fig._resize_canvas(size[0], size[1], msg['forward']);\n",
       "        fig.send_message('refresh', {});\n",
       "    }\n",
       "};\n",
       "\n",
       "mpl.figure.prototype.handle_rubberband = function (fig, msg) {\n",
       "    var x0 = msg['x0'] / fig.ratio;\n",
       "    var y0 = (fig.canvas.height - msg['y0']) / fig.ratio;\n",
       "    var x1 = msg['x1'] / fig.ratio;\n",
       "    var y1 = (fig.canvas.height - msg['y1']) / fig.ratio;\n",
       "    x0 = Math.floor(x0) + 0.5;\n",
       "    y0 = Math.floor(y0) + 0.5;\n",
       "    x1 = Math.floor(x1) + 0.5;\n",
       "    y1 = Math.floor(y1) + 0.5;\n",
       "    var min_x = Math.min(x0, x1);\n",
       "    var min_y = Math.min(y0, y1);\n",
       "    var width = Math.abs(x1 - x0);\n",
       "    var height = Math.abs(y1 - y0);\n",
       "\n",
       "    fig.rubberband_context.clearRect(\n",
       "        0,\n",
       "        0,\n",
       "        fig.canvas.width / fig.ratio,\n",
       "        fig.canvas.height / fig.ratio\n",
       "    );\n",
       "\n",
       "    fig.rubberband_context.strokeRect(min_x, min_y, width, height);\n",
       "};\n",
       "\n",
       "mpl.figure.prototype.handle_figure_label = function (fig, msg) {\n",
       "    // Updates the figure title.\n",
       "    fig.header.textContent = msg['label'];\n",
       "};\n",
       "\n",
       "mpl.figure.prototype.handle_cursor = function (fig, msg) {\n",
       "    var cursor = msg['cursor'];\n",
       "    switch (cursor) {\n",
       "        case 0:\n",
       "            cursor = 'pointer';\n",
       "            break;\n",
       "        case 1:\n",
       "            cursor = 'default';\n",
       "            break;\n",
       "        case 2:\n",
       "            cursor = 'crosshair';\n",
       "            break;\n",
       "        case 3:\n",
       "            cursor = 'move';\n",
       "            break;\n",
       "    }\n",
       "    fig.rubberband_canvas.style.cursor = cursor;\n",
       "};\n",
       "\n",
       "mpl.figure.prototype.handle_message = function (fig, msg) {\n",
       "    fig.message.textContent = msg['message'];\n",
       "};\n",
       "\n",
       "mpl.figure.prototype.handle_draw = function (fig, _msg) {\n",
       "    // Request the server to send over a new figure.\n",
       "    fig.send_draw_message();\n",
       "};\n",
       "\n",
       "mpl.figure.prototype.handle_image_mode = function (fig, msg) {\n",
       "    fig.image_mode = msg['mode'];\n",
       "};\n",
       "\n",
       "mpl.figure.prototype.handle_history_buttons = function (fig, msg) {\n",
       "    for (var key in msg) {\n",
       "        if (!(key in fig.buttons)) {\n",
       "            continue;\n",
       "        }\n",
       "        fig.buttons[key].disabled = !msg[key];\n",
       "        fig.buttons[key].setAttribute('aria-disabled', !msg[key]);\n",
       "    }\n",
       "};\n",
       "\n",
       "mpl.figure.prototype.handle_navigate_mode = function (fig, msg) {\n",
       "    if (msg['mode'] === 'PAN') {\n",
       "        fig.buttons['Pan'].classList.add('active');\n",
       "        fig.buttons['Zoom'].classList.remove('active');\n",
       "    } else if (msg['mode'] === 'ZOOM') {\n",
       "        fig.buttons['Pan'].classList.remove('active');\n",
       "        fig.buttons['Zoom'].classList.add('active');\n",
       "    } else {\n",
       "        fig.buttons['Pan'].classList.remove('active');\n",
       "        fig.buttons['Zoom'].classList.remove('active');\n",
       "    }\n",
       "};\n",
       "\n",
       "mpl.figure.prototype.updated_canvas_event = function () {\n",
       "    // Called whenever the canvas gets updated.\n",
       "    this.send_message('ack', {});\n",
       "};\n",
       "\n",
       "// A function to construct a web socket function for onmessage handling.\n",
       "// Called in the figure constructor.\n",
       "mpl.figure.prototype._make_on_message_function = function (fig) {\n",
       "    return function socket_on_message(evt) {\n",
       "        if (evt.data instanceof Blob) {\n",
       "            /* FIXME: We get \"Resource interpreted as Image but\n",
       "             * transferred with MIME type text/plain:\" errors on\n",
       "             * Chrome.  But how to set the MIME type?  It doesn't seem\n",
       "             * to be part of the websocket stream */\n",
       "            evt.data.type = 'image/png';\n",
       "\n",
       "            /* Free the memory for the previous frames */\n",
       "            if (fig.imageObj.src) {\n",
       "                (window.URL || window.webkitURL).revokeObjectURL(\n",
       "                    fig.imageObj.src\n",
       "                );\n",
       "            }\n",
       "\n",
       "            fig.imageObj.src = (window.URL || window.webkitURL).createObjectURL(\n",
       "                evt.data\n",
       "            );\n",
       "            fig.updated_canvas_event();\n",
       "            fig.waiting = false;\n",
       "            return;\n",
       "        } else if (\n",
       "            typeof evt.data === 'string' &&\n",
       "            evt.data.slice(0, 21) === 'data:image/png;base64'\n",
       "        ) {\n",
       "            fig.imageObj.src = evt.data;\n",
       "            fig.updated_canvas_event();\n",
       "            fig.waiting = false;\n",
       "            return;\n",
       "        }\n",
       "\n",
       "        var msg = JSON.parse(evt.data);\n",
       "        var msg_type = msg['type'];\n",
       "\n",
       "        // Call the  \"handle_{type}\" callback, which takes\n",
       "        // the figure and JSON message as its only arguments.\n",
       "        try {\n",
       "            var callback = fig['handle_' + msg_type];\n",
       "        } catch (e) {\n",
       "            console.log(\n",
       "                \"No handler for the '\" + msg_type + \"' message type: \",\n",
       "                msg\n",
       "            );\n",
       "            return;\n",
       "        }\n",
       "\n",
       "        if (callback) {\n",
       "            try {\n",
       "                // console.log(\"Handling '\" + msg_type + \"' message: \", msg);\n",
       "                callback(fig, msg);\n",
       "            } catch (e) {\n",
       "                console.log(\n",
       "                    \"Exception inside the 'handler_\" + msg_type + \"' callback:\",\n",
       "                    e,\n",
       "                    e.stack,\n",
       "                    msg\n",
       "                );\n",
       "            }\n",
       "        }\n",
       "    };\n",
       "};\n",
       "\n",
       "// from http://stackoverflow.com/questions/1114465/getting-mouse-location-in-canvas\n",
       "mpl.findpos = function (e) {\n",
       "    //this section is from http://www.quirksmode.org/js/events_properties.html\n",
       "    var targ;\n",
       "    if (!e) {\n",
       "        e = window.event;\n",
       "    }\n",
       "    if (e.target) {\n",
       "        targ = e.target;\n",
       "    } else if (e.srcElement) {\n",
       "        targ = e.srcElement;\n",
       "    }\n",
       "    if (targ.nodeType === 3) {\n",
       "        // defeat Safari bug\n",
       "        targ = targ.parentNode;\n",
       "    }\n",
       "\n",
       "    // pageX,Y are the mouse positions relative to the document\n",
       "    var boundingRect = targ.getBoundingClientRect();\n",
       "    var x = e.pageX - (boundingRect.left + document.body.scrollLeft);\n",
       "    var y = e.pageY - (boundingRect.top + document.body.scrollTop);\n",
       "\n",
       "    return { x: x, y: y };\n",
       "};\n",
       "\n",
       "/*\n",
       " * return a copy of an object with only non-object keys\n",
       " * we need this to avoid circular references\n",
       " * http://stackoverflow.com/a/24161582/3208463\n",
       " */\n",
       "function simpleKeys(original) {\n",
       "    return Object.keys(original).reduce(function (obj, key) {\n",
       "        if (typeof original[key] !== 'object') {\n",
       "            obj[key] = original[key];\n",
       "        }\n",
       "        return obj;\n",
       "    }, {});\n",
       "}\n",
       "\n",
       "mpl.figure.prototype.mouse_event = function (event, name) {\n",
       "    var canvas_pos = mpl.findpos(event);\n",
       "\n",
       "    if (name === 'button_press') {\n",
       "        this.canvas.focus();\n",
       "        this.canvas_div.focus();\n",
       "    }\n",
       "\n",
       "    var x = canvas_pos.x * this.ratio;\n",
       "    var y = canvas_pos.y * this.ratio;\n",
       "\n",
       "    this.send_message(name, {\n",
       "        x: x,\n",
       "        y: y,\n",
       "        button: event.button,\n",
       "        step: event.step,\n",
       "        guiEvent: simpleKeys(event),\n",
       "    });\n",
       "\n",
       "    /* This prevents the web browser from automatically changing to\n",
       "     * the text insertion cursor when the button is pressed.  We want\n",
       "     * to control all of the cursor setting manually through the\n",
       "     * 'cursor' event from matplotlib */\n",
       "    event.preventDefault();\n",
       "    return false;\n",
       "};\n",
       "\n",
       "mpl.figure.prototype._key_event_extra = function (_event, _name) {\n",
       "    // Handle any extra behaviour associated with a key event\n",
       "};\n",
       "\n",
       "mpl.figure.prototype.key_event = function (event, name) {\n",
       "    // Prevent repeat events\n",
       "    if (name === 'key_press') {\n",
       "        if (event.which === this._key) {\n",
       "            return;\n",
       "        } else {\n",
       "            this._key = event.which;\n",
       "        }\n",
       "    }\n",
       "    if (name === 'key_release') {\n",
       "        this._key = null;\n",
       "    }\n",
       "\n",
       "    var value = '';\n",
       "    if (event.ctrlKey && event.which !== 17) {\n",
       "        value += 'ctrl+';\n",
       "    }\n",
       "    if (event.altKey && event.which !== 18) {\n",
       "        value += 'alt+';\n",
       "    }\n",
       "    if (event.shiftKey && event.which !== 16) {\n",
       "        value += 'shift+';\n",
       "    }\n",
       "\n",
       "    value += 'k';\n",
       "    value += event.which.toString();\n",
       "\n",
       "    this._key_event_extra(event, name);\n",
       "\n",
       "    this.send_message(name, { key: value, guiEvent: simpleKeys(event) });\n",
       "    return false;\n",
       "};\n",
       "\n",
       "mpl.figure.prototype.toolbar_button_onclick = function (name) {\n",
       "    if (name === 'download') {\n",
       "        this.handle_save(this, null);\n",
       "    } else {\n",
       "        this.send_message('toolbar_button', { name: name });\n",
       "    }\n",
       "};\n",
       "\n",
       "mpl.figure.prototype.toolbar_button_onmouseover = function (tooltip) {\n",
       "    this.message.textContent = tooltip;\n",
       "};\n",
       "\n",
       "///////////////// REMAINING CONTENT GENERATED BY embed_js.py /////////////////\n",
       "// prettier-ignore\n",
       "var _JSXTOOLS_RESIZE_OBSERVER=function(A){var t,i=new WeakMap,n=new WeakMap,a=new WeakMap,r=new WeakMap,o=new Set;function s(e){if(!(this instanceof s))throw new TypeError(\"Constructor requires 'new' operator\");i.set(this,e)}function h(){throw new TypeError(\"Function is not a constructor\")}function c(e,t,i,n){e=0 in arguments?Number(arguments[0]):0,t=1 in arguments?Number(arguments[1]):0,i=2 in arguments?Number(arguments[2]):0,n=3 in arguments?Number(arguments[3]):0,this.right=(this.x=this.left=e)+(this.width=i),this.bottom=(this.y=this.top=t)+(this.height=n),Object.freeze(this)}function d(){t=requestAnimationFrame(d);var s=new WeakMap,p=new Set;o.forEach((function(t){r.get(t).forEach((function(i){var r=t instanceof window.SVGElement,o=a.get(t),d=r?0:parseFloat(o.paddingTop),f=r?0:parseFloat(o.paddingRight),l=r?0:parseFloat(o.paddingBottom),u=r?0:parseFloat(o.paddingLeft),g=r?0:parseFloat(o.borderTopWidth),m=r?0:parseFloat(o.borderRightWidth),w=r?0:parseFloat(o.borderBottomWidth),b=u+f,F=d+l,v=(r?0:parseFloat(o.borderLeftWidth))+m,W=g+w,y=r?0:t.offsetHeight-W-t.clientHeight,E=r?0:t.offsetWidth-v-t.clientWidth,R=b+v,z=F+W,M=r?t.width:parseFloat(o.width)-R-E,O=r?t.height:parseFloat(o.height)-z-y;if(n.has(t)){var k=n.get(t);if(k[0]===M&&k[1]===O)return}n.set(t,[M,O]);var S=Object.create(h.prototype);S.target=t,S.contentRect=new c(u,d,M,O),s.has(i)||(s.set(i,[]),p.add(i)),s.get(i).push(S)}))})),p.forEach((function(e){i.get(e).call(e,s.get(e),e)}))}return s.prototype.observe=function(i){if(i instanceof window.Element){r.has(i)||(r.set(i,new Set),o.add(i),a.set(i,window.getComputedStyle(i)));var n=r.get(i);n.has(this)||n.add(this),cancelAnimationFrame(t),t=requestAnimationFrame(d)}},s.prototype.unobserve=function(i){if(i instanceof window.Element&&r.has(i)){var n=r.get(i);n.has(this)&&(n.delete(this),n.size||(r.delete(i),o.delete(i))),n.size||r.delete(i),o.size||cancelAnimationFrame(t)}},A.DOMRectReadOnly=c,A.ResizeObserver=s,A.ResizeObserverEntry=h,A}; // eslint-disable-line\n",
       "mpl.toolbar_items = [[\"Home\", \"Reset original view\", \"fa fa-home icon-home\", \"home\"], [\"Back\", \"Back to previous view\", \"fa fa-arrow-left icon-arrow-left\", \"back\"], [\"Forward\", \"Forward to next view\", \"fa fa-arrow-right icon-arrow-right\", \"forward\"], [\"\", \"\", \"\", \"\"], [\"Pan\", \"Left button pans, Right button zooms\\nx/y fixes axis, CTRL fixes aspect\", \"fa fa-arrows icon-move\", \"pan\"], [\"Zoom\", \"Zoom to rectangle\\nx/y fixes axis, CTRL fixes aspect\", \"fa fa-square-o icon-check-empty\", \"zoom\"], [\"\", \"\", \"\", \"\"], [\"Download\", \"Download plot\", \"fa fa-floppy-o icon-save\", \"download\"]];\n",
       "\n",
       "mpl.extensions = [\"eps\", \"jpeg\", \"pdf\", \"png\", \"ps\", \"raw\", \"svg\", \"tif\"];\n",
       "\n",
       "mpl.default_extension = \"png\";/* global mpl */\n",
       "\n",
       "var comm_websocket_adapter = function (comm) {\n",
       "    // Create a \"websocket\"-like object which calls the given IPython comm\n",
       "    // object with the appropriate methods. Currently this is a non binary\n",
       "    // socket, so there is still some room for performance tuning.\n",
       "    var ws = {};\n",
       "\n",
       "    ws.close = function () {\n",
       "        comm.close();\n",
       "    };\n",
       "    ws.send = function (m) {\n",
       "        //console.log('sending', m);\n",
       "        comm.send(m);\n",
       "    };\n",
       "    // Register the callback with on_msg.\n",
       "    comm.on_msg(function (msg) {\n",
       "        //console.log('receiving', msg['content']['data'], msg);\n",
       "        // Pass the mpl event to the overridden (by mpl) onmessage function.\n",
       "        ws.onmessage(msg['content']['data']);\n",
       "    });\n",
       "    return ws;\n",
       "};\n",
       "\n",
       "mpl.mpl_figure_comm = function (comm, msg) {\n",
       "    // This is the function which gets called when the mpl process\n",
       "    // starts-up an IPython Comm through the \"matplotlib\" channel.\n",
       "\n",
       "    var id = msg.content.data.id;\n",
       "    // Get hold of the div created by the display call when the Comm\n",
       "    // socket was opened in Python.\n",
       "    var element = document.getElementById(id);\n",
       "    var ws_proxy = comm_websocket_adapter(comm);\n",
       "\n",
       "    function ondownload(figure, _format) {\n",
       "        window.open(figure.canvas.toDataURL());\n",
       "    }\n",
       "\n",
       "    var fig = new mpl.figure(id, ws_proxy, ondownload, element);\n",
       "\n",
       "    // Call onopen now - mpl needs it, as it is assuming we've passed it a real\n",
       "    // web socket which is closed, not our websocket->open comm proxy.\n",
       "    ws_proxy.onopen();\n",
       "\n",
       "    fig.parent_element = element;\n",
       "    fig.cell_info = mpl.find_output_cell(\"<div id='\" + id + \"'></div>\");\n",
       "    if (!fig.cell_info) {\n",
       "        console.error('Failed to find cell for figure', id, fig);\n",
       "        return;\n",
       "    }\n",
       "    fig.cell_info[0].output_area.element.on(\n",
       "        'cleared',\n",
       "        { fig: fig },\n",
       "        fig._remove_fig_handler\n",
       "    );\n",
       "};\n",
       "\n",
       "mpl.figure.prototype.handle_close = function (fig, msg) {\n",
       "    var width = fig.canvas.width / fig.ratio;\n",
       "    fig.cell_info[0].output_area.element.off(\n",
       "        'cleared',\n",
       "        fig._remove_fig_handler\n",
       "    );\n",
       "    fig.resizeObserverInstance.unobserve(fig.canvas_div);\n",
       "\n",
       "    // Update the output cell to use the data from the current canvas.\n",
       "    fig.push_to_output();\n",
       "    var dataURL = fig.canvas.toDataURL();\n",
       "    // Re-enable the keyboard manager in IPython - without this line, in FF,\n",
       "    // the notebook keyboard shortcuts fail.\n",
       "    IPython.keyboard_manager.enable();\n",
       "    fig.parent_element.innerHTML =\n",
       "        '<img src=\"' + dataURL + '\" width=\"' + width + '\">';\n",
       "    fig.close_ws(fig, msg);\n",
       "};\n",
       "\n",
       "mpl.figure.prototype.close_ws = function (fig, msg) {\n",
       "    fig.send_message('closing', msg);\n",
       "    // fig.ws.close()\n",
       "};\n",
       "\n",
       "mpl.figure.prototype.push_to_output = function (_remove_interactive) {\n",
       "    // Turn the data on the canvas into data in the output cell.\n",
       "    var width = this.canvas.width / this.ratio;\n",
       "    var dataURL = this.canvas.toDataURL();\n",
       "    this.cell_info[1]['text/html'] =\n",
       "        '<img src=\"' + dataURL + '\" width=\"' + width + '\">';\n",
       "};\n",
       "\n",
       "mpl.figure.prototype.updated_canvas_event = function () {\n",
       "    // Tell IPython that the notebook contents must change.\n",
       "    IPython.notebook.set_dirty(true);\n",
       "    this.send_message('ack', {});\n",
       "    var fig = this;\n",
       "    // Wait a second, then push the new image to the DOM so\n",
       "    // that it is saved nicely (might be nice to debounce this).\n",
       "    setTimeout(function () {\n",
       "        fig.push_to_output();\n",
       "    }, 1000);\n",
       "};\n",
       "\n",
       "mpl.figure.prototype._init_toolbar = function () {\n",
       "    var fig = this;\n",
       "\n",
       "    var toolbar = document.createElement('div');\n",
       "    toolbar.classList = 'btn-toolbar';\n",
       "    this.root.appendChild(toolbar);\n",
       "\n",
       "    function on_click_closure(name) {\n",
       "        return function (_event) {\n",
       "            return fig.toolbar_button_onclick(name);\n",
       "        };\n",
       "    }\n",
       "\n",
       "    function on_mouseover_closure(tooltip) {\n",
       "        return function (event) {\n",
       "            if (!event.currentTarget.disabled) {\n",
       "                return fig.toolbar_button_onmouseover(tooltip);\n",
       "            }\n",
       "        };\n",
       "    }\n",
       "\n",
       "    fig.buttons = {};\n",
       "    var buttonGroup = document.createElement('div');\n",
       "    buttonGroup.classList = 'btn-group';\n",
       "    var button;\n",
       "    for (var toolbar_ind in mpl.toolbar_items) {\n",
       "        var name = mpl.toolbar_items[toolbar_ind][0];\n",
       "        var tooltip = mpl.toolbar_items[toolbar_ind][1];\n",
       "        var image = mpl.toolbar_items[toolbar_ind][2];\n",
       "        var method_name = mpl.toolbar_items[toolbar_ind][3];\n",
       "\n",
       "        if (!name) {\n",
       "            /* Instead of a spacer, we start a new button group. */\n",
       "            if (buttonGroup.hasChildNodes()) {\n",
       "                toolbar.appendChild(buttonGroup);\n",
       "            }\n",
       "            buttonGroup = document.createElement('div');\n",
       "            buttonGroup.classList = 'btn-group';\n",
       "            continue;\n",
       "        }\n",
       "\n",
       "        button = fig.buttons[name] = document.createElement('button');\n",
       "        button.classList = 'btn btn-default';\n",
       "        button.href = '#';\n",
       "        button.title = name;\n",
       "        button.innerHTML = '<i class=\"fa ' + image + ' fa-lg\"></i>';\n",
       "        button.addEventListener('click', on_click_closure(method_name));\n",
       "        button.addEventListener('mouseover', on_mouseover_closure(tooltip));\n",
       "        buttonGroup.appendChild(button);\n",
       "    }\n",
       "\n",
       "    if (buttonGroup.hasChildNodes()) {\n",
       "        toolbar.appendChild(buttonGroup);\n",
       "    }\n",
       "\n",
       "    // Add the status bar.\n",
       "    var status_bar = document.createElement('span');\n",
       "    status_bar.classList = 'mpl-message pull-right';\n",
       "    toolbar.appendChild(status_bar);\n",
       "    this.message = status_bar;\n",
       "\n",
       "    // Add the close button to the window.\n",
       "    var buttongrp = document.createElement('div');\n",
       "    buttongrp.classList = 'btn-group inline pull-right';\n",
       "    button = document.createElement('button');\n",
       "    button.classList = 'btn btn-mini btn-primary';\n",
       "    button.href = '#';\n",
       "    button.title = 'Stop Interaction';\n",
       "    button.innerHTML = '<i class=\"fa fa-power-off icon-remove icon-large\"></i>';\n",
       "    button.addEventListener('click', function (_evt) {\n",
       "        fig.handle_close(fig, {});\n",
       "    });\n",
       "    button.addEventListener(\n",
       "        'mouseover',\n",
       "        on_mouseover_closure('Stop Interaction')\n",
       "    );\n",
       "    buttongrp.appendChild(button);\n",
       "    var titlebar = this.root.querySelector('.ui-dialog-titlebar');\n",
       "    titlebar.insertBefore(buttongrp, titlebar.firstChild);\n",
       "};\n",
       "\n",
       "mpl.figure.prototype._remove_fig_handler = function (event) {\n",
       "    var fig = event.data.fig;\n",
       "    if (event.target !== this) {\n",
       "        // Ignore bubbled events from children.\n",
       "        return;\n",
       "    }\n",
       "    fig.close_ws(fig, {});\n",
       "};\n",
       "\n",
       "mpl.figure.prototype._root_extra_style = function (el) {\n",
       "    el.style.boxSizing = 'content-box'; // override notebook setting of border-box.\n",
       "};\n",
       "\n",
       "mpl.figure.prototype._canvas_extra_style = function (el) {\n",
       "    // this is important to make the div 'focusable\n",
       "    el.setAttribute('tabindex', 0);\n",
       "    // reach out to IPython and tell the keyboard manager to turn it's self\n",
       "    // off when our div gets focus\n",
       "\n",
       "    // location in version 3\n",
       "    if (IPython.notebook.keyboard_manager) {\n",
       "        IPython.notebook.keyboard_manager.register_events(el);\n",
       "    } else {\n",
       "        // location in version 2\n",
       "        IPython.keyboard_manager.register_events(el);\n",
       "    }\n",
       "};\n",
       "\n",
       "mpl.figure.prototype._key_event_extra = function (event, _name) {\n",
       "    var manager = IPython.notebook.keyboard_manager;\n",
       "    if (!manager) {\n",
       "        manager = IPython.keyboard_manager;\n",
       "    }\n",
       "\n",
       "    // Check for shift+enter\n",
       "    if (event.shiftKey && event.which === 13) {\n",
       "        this.canvas_div.blur();\n",
       "        // select the cell after this one\n",
       "        var index = IPython.notebook.find_cell_index(this.cell_info[0]);\n",
       "        IPython.notebook.select(index + 1);\n",
       "    }\n",
       "};\n",
       "\n",
       "mpl.figure.prototype.handle_save = function (fig, _msg) {\n",
       "    fig.ondownload(fig, null);\n",
       "};\n",
       "\n",
       "mpl.find_output_cell = function (html_output) {\n",
       "    // Return the cell and output element which can be found *uniquely* in the notebook.\n",
       "    // Note - this is a bit hacky, but it is done because the \"notebook_saving.Notebook\"\n",
       "    // IPython event is triggered only after the cells have been serialised, which for\n",
       "    // our purposes (turning an active figure into a static one), is too late.\n",
       "    var cells = IPython.notebook.get_cells();\n",
       "    var ncells = cells.length;\n",
       "    for (var i = 0; i < ncells; i++) {\n",
       "        var cell = cells[i];\n",
       "        if (cell.cell_type === 'code') {\n",
       "            for (var j = 0; j < cell.output_area.outputs.length; j++) {\n",
       "                var data = cell.output_area.outputs[j];\n",
       "                if (data.data) {\n",
       "                    // IPython >= 3 moved mimebundle to data attribute of output\n",
       "                    data = data.data;\n",
       "                }\n",
       "                if (data['text/html'] === html_output) {\n",
       "                    return [cell, data, j];\n",
       "                }\n",
       "            }\n",
       "        }\n",
       "    }\n",
       "};\n",
       "\n",
       "// Register the function which deals with the matplotlib target/channel.\n",
       "// The kernel may be null if the page has been refreshed.\n",
       "if (IPython.notebook.kernel !== null) {\n",
       "    IPython.notebook.kernel.comm_manager.register_target(\n",
       "        'matplotlib',\n",
       "        mpl.mpl_figure_comm\n",
       "    );\n",
       "}\n"
      ],
      "text/plain": [
       "<IPython.core.display.Javascript object>"
      ]
     },
     "metadata": {},
     "output_type": "display_data"
    },
    {
     "data": {
      "text/html": [
       "<div id='0458e2e9-e414-44fc-9fc5-c15b5d1e1f06'></div>"
      ],
      "text/plain": [
       "<IPython.core.display.HTML object>"
      ]
     },
     "metadata": {},
     "output_type": "display_data"
    },
    {
     "ename": "IndexError",
     "evalue": "too many indices for array: array is 1-dimensional, but 2 were indexed",
     "output_type": "error",
     "traceback": [
      "\u001b[0;31m---------------------------------------------------------------------------\u001b[0m",
      "\u001b[0;31mIndexError\u001b[0m                                Traceback (most recent call last)",
      "\u001b[0;32m<ipython-input-189-41794de74ac7>\u001b[0m in \u001b[0;36m<module>\u001b[0;34m\u001b[0m\n\u001b[1;32m      1\u001b[0m \u001b[0mfig\u001b[0m\u001b[0;34m,\u001b[0m \u001b[0maxs\u001b[0m \u001b[0;34m=\u001b[0m \u001b[0mplt\u001b[0m\u001b[0;34m.\u001b[0m\u001b[0msubplots\u001b[0m\u001b[0;34m(\u001b[0m\u001b[0;36m2\u001b[0m\u001b[0;34m,\u001b[0m \u001b[0;34m)\u001b[0m\u001b[0;34m\u001b[0m\u001b[0;34m\u001b[0m\u001b[0m\n\u001b[0;32m----> 2\u001b[0;31m \u001b[0maxs\u001b[0m\u001b[0;34m[\u001b[0m\u001b[0;36m0\u001b[0m\u001b[0;34m,\u001b[0m \u001b[0;36m0\u001b[0m\u001b[0;34m]\u001b[0m\u001b[0;34m.\u001b[0m\u001b[0mplot\u001b[0m\u001b[0;34m(\u001b[0m\u001b[0msbitroot_installation_tb4\u001b[0m\u001b[0;34m.\u001b[0m\u001b[0mdeflection\u001b[0m\u001b[0;34m)\u001b[0m\u001b[0;34m\u001b[0m\u001b[0;34m\u001b[0m\u001b[0m\n\u001b[0m\u001b[1;32m      3\u001b[0m \u001b[0maxs\u001b[0m\u001b[0;34m[\u001b[0m\u001b[0;36m0\u001b[0m\u001b[0;34m,\u001b[0m \u001b[0;36m0\u001b[0m\u001b[0;34m]\u001b[0m\u001b[0;34m.\u001b[0m\u001b[0mset_title\u001b[0m\u001b[0;34m(\u001b[0m\u001b[0;34m'TB4'\u001b[0m\u001b[0;34m)\u001b[0m\u001b[0;34m\u001b[0m\u001b[0;34m\u001b[0m\u001b[0m\n\u001b[1;32m      4\u001b[0m \u001b[0maxs\u001b[0m\u001b[0;34m[\u001b[0m\u001b[0;36m0\u001b[0m\u001b[0;34m,\u001b[0m \u001b[0;36m1\u001b[0m\u001b[0;34m]\u001b[0m\u001b[0;34m.\u001b[0m\u001b[0mplot\u001b[0m\u001b[0;34m(\u001b[0m\u001b[0msbitroot_installation_tb5\u001b[0m\u001b[0;34m.\u001b[0m\u001b[0mdeflection\u001b[0m\u001b[0;34m)\u001b[0m\u001b[0;34m\u001b[0m\u001b[0;34m\u001b[0m\u001b[0m\n\u001b[1;32m      5\u001b[0m \u001b[0maxs\u001b[0m\u001b[0;34m[\u001b[0m\u001b[0;36m0\u001b[0m\u001b[0;34m,\u001b[0m \u001b[0;36m1\u001b[0m\u001b[0;34m]\u001b[0m\u001b[0;34m.\u001b[0m\u001b[0mset_title\u001b[0m\u001b[0;34m(\u001b[0m\u001b[0;34m'TB5'\u001b[0m\u001b[0;34m)\u001b[0m\u001b[0;34m\u001b[0m\u001b[0;34m\u001b[0m\u001b[0m\n",
      "\u001b[0;31mIndexError\u001b[0m: too many indices for array: array is 1-dimensional, but 2 were indexed"
     ]
    }
   ],
   "source": [
    "fig, axs = plt.subplots(2, )\n",
    "axs[0, 0].plot(sbitroot_installation_tb4.deflection)\n",
    "axs[0, 0].set_title('TB4')\n",
    "axs[0, 1].plot(sbitroot_installation_tb5.deflection)\n",
    "axs[0, 1].set_title('TB5')\n",
    "axs[1, 0].plot(sbitroot_installation_tb6.deflection)\n",
    "axs[1, 0].set_title('TB6')\n",
    "axs[1, 1].plot(sbitroot_installation_tb8.deflection)\n",
    "axs[1, 1].set_title('TB8')\n",
    "\n",
    "for ax in axs.flat:\n",
    "    ax.set(xlabel='x-label', ylabel='deflection')\n",
    "\n",
    "# Hide x labels and tick labels for top plots and y ticks for right plots.\n",
    "for ax in axs.flat:\n",
    "    ax.label_outer()"
   ]
  },
  {
   "cell_type": "markdown",
   "id": "272701ef",
   "metadata": {},
   "source": [
    "## Data"
   ]
  },
  {
   "cell_type": "code",
   "execution_count": 190,
   "id": "9ea08e0c",
   "metadata": {},
   "outputs": [],
   "source": [
    "data_unsorted = {'windSpeed':mean_wind,'waveHeight':mean_waveH, 'waveTp':mean_waveTp,'waveTz':mean_waveTz,'peakDeflection':maxima_deflection, 'peakDeflectionTower':maxima_deflection_tower}\n",
    "data_unsorted = pd.DataFrame(data_unsorted)\n",
    "data_unsorted[\"peakDeflection\"] = 100 * data_unsorted[\"peakDeflection\"] # convert deflection into cm\n",
    "data_unsorted[\"peakDeflectionTower\"] = 100 * data_unsorted[\"peakDeflectionTower\"]\n",
    "data_unsorted.to_csv('/Volumes/MASTERTHESE/MasterThese/data_unsorted.csv')"
   ]
  },
  {
   "cell_type": "code",
   "execution_count": 190,
   "id": "cff3b16b",
   "metadata": {},
   "outputs": [],
   "source": [
    "#mean_wind.sort()\n",
    "#maxima_deflection.sort()\n",
    "\n",
    "#data_sorted = {'windspeed':mean_wind,'deflection':maxima_deflection}\n",
    "#data_sorted = pd.DataFrame(data_sorted)\n",
    "#data_sorted[\"deflection\"] = 100 * data_sorted[\"deflection\"] # convert deflection into cm\n",
    "#data_sorted.to_csv('/Volumes/MASTERTHESE/MasterThese/data_sorted.csv')"
   ]
  },
  {
   "cell_type": "code",
   "execution_count": null,
   "id": "420fb31a",
   "metadata": {},
   "outputs": [],
   "source": []
  }
 ],
 "metadata": {
  "kernelspec": {
   "display_name": "Python 3",
   "language": "python",
   "name": "python3"
  },
  "language_info": {
   "codemirror_mode": {
    "name": "ipython",
    "version": 3
   },
   "file_extension": ".py",
   "mimetype": "text/x-python",
   "name": "python",
   "nbconvert_exporter": "python",
   "pygments_lexer": "ipython3",
   "version": "3.8.8"
  }
 },
 "nbformat": 4,
 "nbformat_minor": 5
}
