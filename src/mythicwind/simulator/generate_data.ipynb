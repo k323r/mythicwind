{
 "cells": [
  {
   "cell_type": "raw",
   "id": "54f83e90-d1bf-4011-bfae-55ec6a8d2e4c",
   "metadata": {},
   "source": [
    "import pandas as pd\n",
    "import numpy as np\n",
    "import matplotlib\n",
    "\n",
    "time = list(range(0,11))\n",
    "sine = [np.sin(t) for t in time]\n",
    "cose = [np.cos(t) for t in time]\n",
    "\n",
    "df = pd.DataFrame(list(zip(time, sine, cose)),\n",
    "               columns =['time', 'fx', 'fy'])\n",
    "\n",
    "print(df)\n",
    "df.to_csv('force-file.csv')"
   ]
  },
  {
   "cell_type": "raw",
   "id": "a579c855-5499-4299-9bfb-79b246ba3882",
   "metadata": {},
   "source": [
    "import pandas as pd\n",
    "import numpy as np\n",
    "import matplotlib\n",
    "\n",
    "time = list(range(0,11))\n",
    "null1 = np.zeros(11)\n",
    "sine = [np.sin(t) for t in time]\n",
    "\n",
    "df = pd.DataFrame(list(zip(time, null1, sine)),\n",
    "               columns =['time', 'fx', 'fy'])\n",
    "\n",
    "print(df)\n",
    "df.to_csv('force-file.csv')"
   ]
  },
  {
   "cell_type": "code",
   "execution_count": null,
   "id": "583f9d63-470c-496d-b225-904eb3ceeb1e",
   "metadata": {},
   "outputs": [],
   "source": [
    "import pandas as pd\n",
    "import numpy as np\n",
    "import matplotlib\n",
    "\n",
    "time = list(range(0,11))\n",
    "null1 = np.zeros(11)\n",
    "null2 = np.zeros(11)\n",
    "null3 = np.zeros(11)\n",
    "#sine = [np.sin(t) for t in time]\n",
    "#cose = [np.cos(t) for t in time]\n",
    "\n",
    "df = pd.DataFrame(list(zip(time, null1, null2, null3)),\n",
    "               columns =['time', 'fx', 'fy', 'Malpha'])\n",
    "\n",
    "print(df)\n",
    "df.to_csv('force-file-null-null-null.csv')"
   ]
  }
 ],
 "metadata": {
  "kernelspec": {
   "display_name": "Python 3",
   "language": "python",
   "name": "python3"
  },
  "language_info": {
   "codemirror_mode": {
    "name": "ipython",
    "version": 3
   },
   "file_extension": ".py",
   "mimetype": "text/x-python",
   "name": "python",
   "nbconvert_exporter": "python",
   "pygments_lexer": "ipython3",
   "version": "3.8.5"
  }
 },
 "nbformat": 4,
 "nbformat_minor": 5
}
