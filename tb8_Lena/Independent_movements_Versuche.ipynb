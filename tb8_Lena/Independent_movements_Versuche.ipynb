{
 "cells": [
  {
   "cell_type": "code",
   "execution_count": 1,
   "id": "e7c61063",
   "metadata": {},
   "outputs": [],
   "source": [
    "# IMPORTS\n",
    "\n",
    "import pandas as pd\n",
    "import numpy as np\n",
    "import matplotlib.pyplot as plt\n",
    "import scipy.stats as stats\n",
    "import math \n",
    "import pylab \n",
    "\n",
    "from matplotlib.dates import DateFormatter\n",
    "from glob import glob\n",
    "from os import path\n",
    "from collections import defaultdict\n",
    "#from virocon import (\n",
    "    #GlobalHierarchicalModel,\n",
    "    #ExponentiatedWeibullDistribution,\n",
    "    #WeibullDistribution,\n",
    "    #DependenceFunction,\n",
    "    #WidthOfIntervalSlicer,\n",
    "    #plot_marginal_quantiles,\n",
    "    #plot_dependence_functions,\n",
    "#)\n",
    "\n",
    "import sys\n",
    "sys.path.insert(0, path.abspath(path.join(path.curdir, '../src')))\n",
    "\n",
    "%matplotlib notebook"
   ]
  },
  {
   "cell_type": "markdown",
   "id": "09a92b84",
   "metadata": {},
   "source": [
    "# Load all needed data"
   ]
  },
  {
   "cell_type": "markdown",
   "id": "13306d6e",
   "metadata": {},
   "source": [
    "## Wind"
   ]
  },
  {
   "cell_type": "code",
   "execution_count": 2,
   "id": "fb4279f1",
   "metadata": {},
   "outputs": [
    {
     "name": "stdout",
     "output_type": "stream",
     "text": [
      "<class 'pandas._libs.tslibs.timestamps.Timestamp'>\n",
      "2019-12-25 23:59:59+00:00\n"
     ]
    }
   ],
   "source": [
    "# WIND DATA\n",
    "\n",
    "wind_data = pd.read_csv('/Users/lenastroer/Python_Lokal/MasterThese/wind_data_resampled1s_UTC.csv')\n",
    "wind_data.set_index('datetime', inplace=True)\n",
    "#wind_data.index= wind_data.index.tz_convert('UTC')\n",
    "wind_data.index= pd.DatetimeIndex(wind_data.index)\n",
    "print(type(wind_data.index[-1]))\n",
    "print(wind_data.index[-1])"
   ]
  },
  {
   "cell_type": "code",
   "execution_count": 3,
   "id": "dd8b8e67",
   "metadata": {},
   "outputs": [],
   "source": [
    "#print(wind_data)"
   ]
  },
  {
   "cell_type": "markdown",
   "id": "c6667df9",
   "metadata": {},
   "source": [
    "## Blade landings"
   ]
  },
  {
   "cell_type": "code",
   "execution_count": 4,
   "id": "050e8619",
   "metadata": {},
   "outputs": [],
   "source": [
    "# BLADE LANDINGS BAS\n",
    "\n",
    "blade_landings= pd.read_csv('/Users/lenastroer/Python_Lokal/MasterThese/blade_landing_helihoist_sbitroot.txt')\n",
    "\n",
    "# make epoch index of dataframe and convert epoch into readable dates\n",
    "blade_landings.epoch_land= blade_landings.epoch_land.apply(lambda x: pd.to_datetime(x, unit= 's', utc=True))\n",
    "\n",
    "# convert blade landings of turbine 8 into readable dates\n",
    "#blade_landing1= pd.to_datetime(1.571127e+09, unit='s', utc=True)\n",
    "#blade_landing2= pd.to_datetime(1.571154e+09, unit='s', utc=True)\n",
    "#blade_landing3= pd.to_datetime(1.571188e+09, unit='s', utc=True)\n",
    "#landings = (blade_landing1, blade_landing2, blade_landing3)\n",
    "\n",
    "landings_tb4 = (pd.to_datetime(blade_landings.epoch_land[0]))\n",
    "landings_tb5 = (pd.to_datetime(blade_landings.epoch_land[1]), pd.to_datetime(blade_landings.epoch_land[2]), pd.to_datetime(blade_landings.epoch_land[3]))\n",
    "landings_tb6 = (pd.to_datetime(blade_landings.epoch_land[4]), pd.to_datetime(blade_landings.epoch_land[5]))\n",
    "#landings_tb7 = (pd.to_datetime(blade_landings.epoch_land[6]), pd.to_datetime(blade_landings.epoch_land[7]), pd.to_datetime(blade_landings.epoch_land[8]))\n",
    "landings_tb8 = (pd.to_datetime(blade_landings.epoch_land[9]), pd.to_datetime(blade_landings.epoch_land[10]), pd.to_datetime(blade_landings.epoch_land[11]))\n",
    "landings_tb10 = (pd.to_datetime(blade_landings.epoch_land[12]))\n",
    "landings_tb11 = (pd.to_datetime(blade_landings.epoch_land[13]), pd.to_datetime(blade_landings.epoch_land[14]))\n",
    "landings_tb12 = (pd.to_datetime(blade_landings.epoch_land[15]), pd.to_datetime(blade_landings.epoch_land[16]))\n",
    "#landings_tb13 = (pd.to_datetime(blade_landings.epoch_land[17]), pd.to_datetime(blade_landings.epoch_land[18]))\n",
    "landings_tb14 = (pd.to_datetime(blade_landings.epoch_land[19]), pd.to_datetime(blade_landings.epoch_land[20]), pd.to_datetime(blade_landings.epoch_land[21]))"
   ]
  },
  {
   "cell_type": "markdown",
   "id": "32e392e9",
   "metadata": {},
   "source": [
    "## GPS Data"
   ]
  },
  {
   "cell_type": "code",
   "execution_count": 5,
   "id": "b6c51ed7",
   "metadata": {},
   "outputs": [],
   "source": [
    "# READ CSV files of GPS Data: turbine 4\n",
    "\n",
    "# sbitroot\n",
    "gps_sbitroot_tb4= pd.read_csv('/Users/lenastroer/Python_Lokal/MasterThese/GPS/turbine-04_sbitroot_tom_gps.csv')\n",
    "gps_sbitroot_tb4.epoch= pd.to_datetime(gps_sbitroot_tb4.epoch, unit= 's', utc=True)\n",
    "gps_sbitroot_tb4.set_index('epoch', inplace=True)\n",
    "\n",
    "# sbittip\n",
    "gps_sbittip_tb4= pd.read_csv('/Users/lenastroer/Python_Lokal/MasterThese/GPS/turbine-04_sbittip_tom_gps.csv')\n",
    "gps_sbittip_tb4.epoch= pd.to_datetime(gps_sbittip_tb4.epoch, unit= 's', utc=True)\n",
    "gps_sbittip_tb4.set_index('epoch', inplace=True)\n",
    "\n",
    "# helihoist\n",
    "gps_helih_tb4= pd.read_csv('/Users/lenastroer/Python_Lokal/MasterThese/GPS/turbine-04_helihoist-1_tom_gps.csv')\n",
    "gps_helih_tb4.epoch= pd.to_datetime(gps_helih_tb4.epoch, unit= 's', utc=True)\n",
    "gps_helih_tb4.set_index('epoch', inplace=True)"
   ]
  },
  {
   "cell_type": "code",
   "execution_count": 6,
   "id": "4f798743",
   "metadata": {},
   "outputs": [],
   "source": [
    "# READ CSV files of GPS Data: turbine 5\n",
    "\n",
    "# sbitroot\n",
    "gps_sbitroot_tb5= pd.read_csv('/Users/lenastroer/Python_Lokal/MasterThese/GPS/turbine-05_sbitroot_tom_gps.csv')\n",
    "gps_sbitroot_tb5.epoch= pd.to_datetime(gps_sbitroot_tb5.epoch, unit= 's', utc=True)\n",
    "gps_sbitroot_tb5.set_index('epoch', inplace=True)\n",
    "\n",
    "# sbittip\n",
    "gps_sbittip_tb5= pd.read_csv('/Users/lenastroer/Python_Lokal/MasterThese/GPS/turbine-05_sbittip_tom_gps.csv')\n",
    "gps_sbittip_tb5.epoch= pd.to_datetime(gps_sbittip_tb5.epoch, unit= 's', utc=True)\n",
    "gps_sbittip_tb5.set_index('epoch', inplace=True)\n",
    "\n",
    "# helihoist\n",
    "gps_helih_tb5= pd.read_csv('/Users/lenastroer/Python_Lokal/MasterThese/GPS/turbine-05_helihoist-1_tom_gps.csv')\n",
    "gps_helih_tb5.epoch= pd.to_datetime(gps_helih_tb5.epoch, unit= 's', utc=True)\n",
    "gps_helih_tb5.set_index('epoch', inplace=True)"
   ]
  },
  {
   "cell_type": "code",
   "execution_count": 7,
   "id": "41b3e616",
   "metadata": {},
   "outputs": [],
   "source": [
    "# READ CSV files of GPS Data: turbine 6\n",
    "\n",
    "# sbitroot\n",
    "gps_sbitroot_tb6= pd.read_csv('/Users/lenastroer/Python_Lokal/MasterThese/GPS/turbine-06_sbitroot_tom_gps.csv')\n",
    "gps_sbitroot_tb6.epoch= pd.to_datetime(gps_sbitroot_tb6.epoch, unit= 's', utc=True)\n",
    "gps_sbitroot_tb6.set_index('epoch', inplace=True)\n",
    "\n",
    "# sbittip\n",
    "gps_sbittip_tb6= pd.read_csv('/Users/lenastroer/Python_Lokal/MasterThese/GPS/turbine-06_sbittip_tom_gps.csv')\n",
    "gps_sbittip_tb6.epoch= pd.to_datetime(gps_sbittip_tb6.epoch, unit= 's', utc=True)\n",
    "gps_sbittip_tb6.set_index('epoch', inplace=True)\n",
    "\n",
    "# helihoist\n",
    "gps_helih_tb6= pd.read_csv('/Users/lenastroer/Python_Lokal/MasterThese/GPS/turbine-06_helihoist-1_tom_gps.csv')\n",
    "gps_helih_tb6.epoch= pd.to_datetime(gps_helih_tb6.epoch, unit= 's', utc=True)\n",
    "gps_helih_tb6.set_index('epoch', inplace=True)"
   ]
  },
  {
   "cell_type": "code",
   "execution_count": 8,
   "id": "c8e1ac5c",
   "metadata": {},
   "outputs": [],
   "source": [
    "# READ CSV files of GPS Data: turbine 7\n",
    "\n",
    "# sbitroot\n",
    "#gps_sbitroot_tb7= pd.read_csv('/Users/lenastroer/Python_Lokal/MasterThese/GPS/turbine-07_sbitroot_tom_gps.csv')\n",
    "#gps_sbitroot_tb7.epoch= pd.to_datetime(gps_sbitroot_tb7.epoch, unit= 's', utc=True)\n",
    "#gps_sbitroot_tb7.set_index('epoch', inplace=True)\n",
    "\n",
    "# sbittip\n",
    "#gps_sbittip_tb7= pd.read_csv('/Users/lenastroer/Python_Lokal/MasterThese/GPS/turbine-07_sbittip_tom_gps.csv')\n",
    "#gps_sbittip_tb7.epoch= pd.to_datetime(gps_sbittip_tb7.epoch, unit= 's', utc=True)\n",
    "#gps_sbittip_tb7.set_index('epoch', inplace=True)\n",
    "\n",
    "# helihoist\n",
    "#gps_helih_tb7= pd.read_csv('/Users/lenastroer/Python_Lokal/MasterThese/GPS/turbine-07_helihoist-1_tom_gps.csv')\n",
    "#gps_helih_tb7.epoch= pd.to_datetime(gps_helih_tb7.epoch, unit= 's', utc=True)\n",
    "#gps_helih_tb7.set_index('epoch', inplace=True)"
   ]
  },
  {
   "cell_type": "code",
   "execution_count": 9,
   "id": "25e505ca",
   "metadata": {},
   "outputs": [],
   "source": [
    "# READ CSV files of GPS Data: turbine 8\n",
    "\n",
    "# sbitroot\n",
    "gps_sbitroot_tb8= pd.read_csv('/Users/lenastroer/Python_Lokal/MasterThese/GPS/turbine-08_sbitroot_tom_gps.csv')\n",
    "gps_sbitroot_tb8.epoch= pd.to_datetime(gps_sbitroot_tb8.epoch, unit= 's', utc=True)\n",
    "gps_sbitroot_tb8.set_index('epoch', inplace=True)\n",
    "\n",
    "# sbittip\n",
    "gps_sbittip_tb8= pd.read_csv('/Users/lenastroer/Python_Lokal/MasterThese/GPS/turbine-08_sbittip_tom_gps.csv')\n",
    "gps_sbittip_tb8.epoch= pd.to_datetime(gps_sbittip_tb8.epoch, unit= 's', utc=True)\n",
    "gps_sbittip_tb8.set_index('epoch', inplace=True)\n",
    "\n",
    "# helihoist\n",
    "gps_helih_tb8= pd.read_csv('/Users/lenastroer/Python_Lokal/MasterThese/GPS/turbine-08_helihoist-1_tom_gps.csv')\n",
    "gps_helih_tb8.epoch= pd.to_datetime(gps_helih_tb8.epoch, unit= 's', utc=True)\n",
    "gps_helih_tb8.set_index('epoch', inplace=True)"
   ]
  },
  {
   "cell_type": "code",
   "execution_count": 10,
   "id": "363d22b8",
   "metadata": {},
   "outputs": [],
   "source": [
    "# READ CSV files of GPS Data: turbine 10\n",
    "\n",
    "# sbitroot\n",
    "gps_sbitroot_tb10= pd.read_csv('/Users/lenastroer/Python_Lokal/MasterThese/GPS/turbine-10_sbitroot_tom_gps.csv')\n",
    "gps_sbitroot_tb10.epoch= pd.to_datetime(gps_sbitroot_tb10.epoch, unit= 's', utc=True)\n",
    "gps_sbitroot_tb10.set_index('epoch', inplace=True)\n",
    "\n",
    "# sbittip\n",
    "gps_sbittip_tb10= pd.read_csv('/Users/lenastroer/Python_Lokal/MasterThese/GPS/turbine-10_sbittip_tom_gps.csv')\n",
    "gps_sbittip_tb10.epoch= pd.to_datetime(gps_sbittip_tb10.epoch, unit= 's', utc=True)\n",
    "gps_sbittip_tb10.set_index('epoch', inplace=True)\n",
    "\n",
    "# helihoist\n",
    "gps_helih_tb10= pd.read_csv('/Users/lenastroer/Python_Lokal/MasterThese/GPS/turbine-10_helihoist-1_tom_gps.csv')\n",
    "gps_helih_tb10.epoch= pd.to_datetime(gps_helih_tb10.epoch, unit= 's', utc=True)\n",
    "gps_helih_tb10.set_index('epoch', inplace=True)"
   ]
  },
  {
   "cell_type": "code",
   "execution_count": 11,
   "id": "9e2918e8",
   "metadata": {},
   "outputs": [],
   "source": [
    "# READ CSV files of GPS Data: turbine 11\n",
    "\n",
    "# sbitroot\n",
    "gps_sbitroot_tb11= pd.read_csv('/Users/lenastroer/Python_Lokal/MasterThese/GPS/turbine-11_sbitroot_tom_gps.csv')\n",
    "gps_sbitroot_tb11.epoch= pd.to_datetime(gps_sbitroot_tb11.epoch, unit= 's', utc=True)\n",
    "gps_sbitroot_tb11.set_index('epoch', inplace=True)\n",
    "\n",
    "# sbittip\n",
    "gps_sbittip_tb11= pd.read_csv('/Users/lenastroer/Python_Lokal/MasterThese/GPS/turbine-11_sbittip_tom_gps.csv')\n",
    "gps_sbittip_tb11.epoch= pd.to_datetime(gps_sbittip_tb11.epoch, unit= 's', utc=True)\n",
    "gps_sbittip_tb11.set_index('epoch', inplace=True)\n",
    "\n",
    "# helihoist\n",
    "gps_helih_tb11= pd.read_csv('/Users/lenastroer/Python_Lokal/MasterThese/GPS/turbine-11_helihoist-1_tom_gps.csv')\n",
    "gps_helih_tb11.epoch= pd.to_datetime(gps_helih_tb11.epoch, unit= 's', utc=True)\n",
    "gps_helih_tb11.set_index('epoch', inplace=True)"
   ]
  },
  {
   "cell_type": "code",
   "execution_count": 12,
   "id": "2b9edd63",
   "metadata": {},
   "outputs": [],
   "source": [
    "# READ CSV files of GPS Data: turbine 12\n",
    "\n",
    "# sbitroot\n",
    "gps_sbitroot_tb12= pd.read_csv('/Users/lenastroer/Python_Lokal/MasterThese/GPS/turbine-12_sbitroot_tom_gps.csv')\n",
    "gps_sbitroot_tb12.epoch= pd.to_datetime(gps_sbitroot_tb12.epoch, unit= 's', utc=True)\n",
    "gps_sbitroot_tb12.set_index('epoch', inplace=True)\n",
    "\n",
    "# sbittip\n",
    "gps_sbittip_tb12= pd.read_csv('/Users/lenastroer/Python_Lokal/MasterThese/GPS/turbine-12_sbittip_tom_gps.csv')\n",
    "gps_sbittip_tb12.epoch= pd.to_datetime(gps_sbittip_tb12.epoch, unit= 's', utc=True)\n",
    "gps_sbittip_tb12.set_index('epoch', inplace=True)\n",
    "\n",
    "# helihoist\n",
    "gps_helih_tb12= pd.read_csv('/Users/lenastroer/Python_Lokal/MasterThese/GPS/turbine-12_helihoist-1_tom_gps.csv')\n",
    "gps_helih_tb12.epoch= pd.to_datetime(gps_helih_tb12.epoch, unit= 's', utc=True)\n",
    "gps_helih_tb12.set_index('epoch', inplace=True)"
   ]
  },
  {
   "cell_type": "code",
   "execution_count": 13,
   "id": "259f4419",
   "metadata": {},
   "outputs": [],
   "source": [
    "# READ CSV files of GPS Data: turbine 13\n",
    "\n",
    "# sbitroot\n",
    "#gps_sbitroot_tb13= pd.read_csv('/Users/lenastroer/Python_Lokal/MasterThese/GPS/turbine-13_sbitroot_tom_gps.csv')\n",
    "#gps_sbitroot_tb13.epoch= pd.to_datetime(gps_sbitroot_tb13.epoch, unit= 's', utc=True)\n",
    "#gps_sbitroot_tb13.set_index('epoch', inplace=True)\n",
    "\n",
    "# sbittip\n",
    "#gps_sbittip_tb13= pd.read_csv('/Users/lenastroer/Python_Lokal/MasterThese/GPS/turbine-13_sbittip_tom_gps.csv')\n",
    "#gps_sbittip_tb13.epoch= pd.to_datetime(gps_sbittip_tb13.epoch, unit= 's', utc=True)\n",
    "#gps_sbittip_tb13.set_index('epoch', inplace=True)\n",
    "\n",
    "# helihoist\n",
    "#gps_helih_tb13= pd.read_csv('/Users/lenastroer/Python_Lokal/MasterThese/GPS/turbine-13_helihoist-1_tom_gps.csv')\n",
    "#gps_helih_tb13.epoch= pd.to_datetime(gps_helih_tb13.epoch, unit= 's', utc=True)\n",
    "#gps_helih_tb13.set_index('epoch', inplace=True)"
   ]
  },
  {
   "cell_type": "code",
   "execution_count": 14,
   "id": "e479dffc",
   "metadata": {},
   "outputs": [],
   "source": [
    "# READ CSV files of GPS Data: turbine 14\n",
    "\n",
    "# sbitroot\n",
    "gps_sbitroot_tb14= pd.read_csv('/Users/lenastroer/Python_Lokal/MasterThese/GPS/turbine-14_sbitroot_tom_gps.csv')\n",
    "gps_sbitroot_tb14.epoch= pd.to_datetime(gps_sbitroot_tb14.epoch, unit= 's', utc=True)\n",
    "gps_sbitroot_tb14.set_index('epoch', inplace=True)\n",
    "\n",
    "# sbittip\n",
    "gps_sbittip_tb14= pd.read_csv('/Users/lenastroer/Python_Lokal/MasterThese/GPS/turbine-14_sbittip_tom_gps.csv')\n",
    "gps_sbittip_tb14.epoch= pd.to_datetime(gps_sbittip_tb14.epoch, unit= 's', utc=True)\n",
    "gps_sbittip_tb14.set_index('epoch', inplace=True)\n",
    "\n",
    "# helihoist\n",
    "gps_helih_tb14= pd.read_csv('/Users/lenastroer/Python_Lokal/MasterThese/GPS/turbine-14_helihoist-1_tom_gps.csv')\n",
    "gps_helih_tb14.epoch= pd.to_datetime(gps_helih_tb14.epoch, unit= 's', utc=True)\n",
    "gps_helih_tb14.set_index('epoch', inplace=True)"
   ]
  },
  {
   "cell_type": "code",
   "execution_count": 15,
   "id": "877f532a",
   "metadata": {},
   "outputs": [],
   "source": [
    "# READ CSV files of GPS Data: turbine 16\n",
    "\n",
    "# sbitroot\n",
    "#gps_sbitroot_tb16= pd.read_csv('/Users/lenastroer/Python_Lokal/MasterThese/GPS/turbine-16_sbitroot_tom_gps.csv')\n",
    "#gps_sbitroot_tb16.epoch= pd.to_datetime(gps_sbitroot_tb16.epoch, unit= 's', utc=True)\n",
    "#gps_sbitroot_tb16.set_index('epoch', inplace=True)\n",
    "\n",
    "# sbittip\n",
    "#gps_sbittip_tb16= pd.read_csv('/Users/lenastroer/Python_Lokal/MasterThese/GPS/turbine-16_sbittip_tom_gps.csv')\n",
    "#gps_sbittip_tb16.epoch= pd.to_datetime(gps_sbittip_tb16.epoch, unit= 's', utc=True)\n",
    "#gps_sbittip_tb16.set_index('epoch', inplace=True)\n",
    "\n",
    "# helihoist\n",
    "#gps_helih_tb16= pd.read_csv('/Users/lenastroer/Python_Lokal/MasterThese/GPS/turbine-16_helihoist-1_tom_gps.csv')\n",
    "#gps_helih_tb16.epoch= pd.to_datetime(gps_helih_tb16.epoch, unit= 's', utc=True)\n",
    "#gps_helih_tb16.set_index('epoch', inplace=True)"
   ]
  },
  {
   "cell_type": "code",
   "execution_count": 115,
   "id": "66b5cd27",
   "metadata": {},
   "outputs": [],
   "source": [
    "df = pd.read_csv('/Volumes/MASTERTHESE/Zenodo/tb7/Blade_Landings/Helihoist/turbine-07_helihoist-1_tom_acc-vel-pos_hammerhead_2019-09-24-11-38-50_2019-09-25-12-01-27.csv', index_col=None, header=0)"
   ]
  },
  {
   "cell_type": "markdown",
   "id": "adfef94f",
   "metadata": {},
   "source": [
    "## Oscillation data"
   ]
  },
  {
   "cell_type": "code",
   "execution_count": 16,
   "id": "b11dc8ff",
   "metadata": {},
   "outputs": [],
   "source": [
    "def concat_data(path):\n",
    "    # concatenate files\n",
    "    # indicate the correct path\n",
    "    # files to concatenate must be in the same directory\n",
    "    \n",
    "    files = glob(path + \"/*.csv\")\n",
    "\n",
    "    data = []\n",
    "\n",
    "    for filename in files:\n",
    "        df = pd.read_csv(filename, index_col=None, header=0)\n",
    "        data.append(df)\n",
    "\n",
    "    frame = pd.concat(data, axis=0, ignore_index=True)\n",
    "\n",
    "    frame.epoch= pd.to_datetime(frame.epoch, unit= 's', utc=True)\n",
    "    frame.set_index('epoch', inplace=True)\n",
    "    frame = frame.sort_index()\n",
    "    \n",
    "\n",
    "    return frame"
   ]
  },
  {
   "cell_type": "code",
   "execution_count": 17,
   "id": "8cc61eb1",
   "metadata": {},
   "outputs": [],
   "source": [
    "# TB 4\n",
    "\n",
    "path_tb4_hh = r'/Users/lenastroer/Python_Lokal/MasterThese/turbines/tb4/Blade_Landings/Helihoist'\n",
    "hh_frame_tb4 = concat_data(path_tb4_hh)\n",
    "\n",
    "path_tb4_sbitroot = r'/Users/lenastroer/Python_Lokal/MasterThese/turbines/tb4/Blade_Landings/sbitroot'\n",
    "sbitroot_frame_tb4 = concat_data(path_tb4_sbitroot)"
   ]
  },
  {
   "cell_type": "code",
   "execution_count": 18,
   "id": "cc1a0441",
   "metadata": {},
   "outputs": [],
   "source": [
    "# TB 5\n",
    "\n",
    "path_tb5_hh = r'/Users/lenastroer/Python_Lokal/MasterThese/turbines/tb5/Blade_Landings/Helihoist'\n",
    "hh_frame_tb5 = concat_data(path_tb5_hh)\n",
    "\n",
    "path_tb5_sbitroot = r'/Users/lenastroer/Python_Lokal/MasterThese/turbines/tb5/Blade_Landings/sbitroot'\n",
    "sbitroot_frame_tb5 = concat_data(path_tb5_sbitroot)"
   ]
  },
  {
   "cell_type": "code",
   "execution_count": 19,
   "id": "8a3dbc87",
   "metadata": {},
   "outputs": [],
   "source": [
    "# TB 6\n",
    "\n",
    "path_tb6_hh = r'/Users/lenastroer/Python_Lokal/MasterThese/turbines/tb6/Blade_Landings/Helihoist'\n",
    "hh_frame_tb6 = concat_data(path_tb6_hh)\n",
    "\n",
    "path_tb6_sbitroot = r'/Users/lenastroer/Python_Lokal/MasterThese/turbines/tb6/Blade_Landings/sbitroot'\n",
    "sbitroot_frame_tb6 = concat_data(path_tb6_sbitroot)"
   ]
  },
  {
   "cell_type": "code",
   "execution_count": 20,
   "id": "57139bdc",
   "metadata": {},
   "outputs": [],
   "source": [
    "# TB 7\n",
    "\n",
    "#path_tb7_hh = r'/Users/lenastroer/Python_Lokal/MasterThese/turbines/tb7/Blade_Landings/Helihoist'\n",
    "#hh_frame_tb7 = concat_data(path_tb7_hh)\n",
    "\n",
    "#path_tb7_sbitroot = r'/Users/lenastroer/Python_Lokal/MasterThese/turbines/tb7/Blade_Landings/sbitroot'\n",
    "#sbitroot_frame_tb7 = concat_data(path_tb7_sbitroot)"
   ]
  },
  {
   "cell_type": "code",
   "execution_count": 21,
   "id": "a1bbfd94",
   "metadata": {},
   "outputs": [],
   "source": [
    "# TB 8 \n",
    "\n",
    "path_tb8_hh = r'/Users/lenastroer/Python_Lokal/MasterThese/turbines/tb8/Blade_Landings/Helihoist'\n",
    "hh_frame_tb8 = concat_data(path_tb8_hh)\n",
    "\n",
    "path_tb8_sbitroot = r'/Users/lenastroer/Python_Lokal/MasterThese/turbines/tb8/Blade_Landings/sbitroot'\n",
    "sbitroot_frame_tb8 = concat_data(path_tb8_sbitroot)"
   ]
  },
  {
   "cell_type": "code",
   "execution_count": 22,
   "id": "c38652cc",
   "metadata": {},
   "outputs": [],
   "source": [
    "# TB 10\n",
    "\n",
    "path_tb10_hh = r'/Users/lenastroer/Python_Lokal/MasterThese/turbines/tb10/Blade_Landings/Helihoist'\n",
    "hh_frame_tb10 = concat_data(path_tb10_hh)\n",
    "\n",
    "path_tb10_sbitroot = r'/Users/lenastroer/Python_Lokal/MasterThese/turbines/tb10/Blade_Landings/sbitroot'\n",
    "sbitroot_frame_tb10 = concat_data(path_tb10_sbitroot)"
   ]
  },
  {
   "cell_type": "code",
   "execution_count": 23,
   "id": "ef1fdd8e",
   "metadata": {},
   "outputs": [],
   "source": [
    "# TB 11\n",
    "\n",
    "path_tb11_hh = r'/Users/lenastroer/Python_Lokal/MasterThese/turbines/tb11/Blade_Landings/Helihoist'\n",
    "hh_frame_tb10 = concat_data(path_tb10_hh)\n",
    "\n",
    "path_tb11_sbitroot = r'/Users/lenastroer/Python_Lokal/MasterThese/turbines/tb11/Blade_Landings/sbitroot'\n",
    "sbitroot_frame_tb11 = concat_data(path_tb11_sbitroot)"
   ]
  },
  {
   "cell_type": "code",
   "execution_count": 25,
   "id": "63cc477e",
   "metadata": {},
   "outputs": [],
   "source": [
    "# TB 12\n",
    "\n",
    "path_tb12_hh = r'/Users/lenastroer/Python_Lokal/MasterThese/turbines/tb12/Blade_Landings/Helihoist'\n",
    "hh_frame_tb12 = concat_data(path_tb12_hh)\n",
    "\n",
    "path_tb12_sbitroot = r'/Users/lenastroer/Python_Lokal/MasterThese/turbines/tb12/Blade_Landings/sbitroot'\n",
    "sbitroot_frame_tb12 = concat_data(path_tb12_sbitroot)"
   ]
  },
  {
   "cell_type": "code",
   "execution_count": null,
   "id": "30a909e4",
   "metadata": {},
   "outputs": [],
   "source": [
    "# TB 13\n",
    "\n",
    "#path_tb13_hh = r'/Users/lenastroer/Python_Lokal/MasterThese/turbines/tb13/Blade_Landings/Helihoist'\n",
    "#hh_frame_tb13 = concat_data(path_tb13_hh)\n",
    "\n",
    "#path_tb13_sbitroot = r'/Users/lenastroer/Python_Lokal/MasterThese/turbines/tb13/Blade_Landings/sbitroot'\n",
    "#sbitroot_frame_tb13 = concat_data(path_tb13_sbitroot)"
   ]
  },
  {
   "cell_type": "code",
   "execution_count": 24,
   "id": "56e268e9",
   "metadata": {},
   "outputs": [],
   "source": [
    "# TB 14\n",
    "\n",
    "path_tb14_hh = r'/Users/lenastroer/Python_Lokal/MasterThese/turbines/tb14/Blade_Landings/Helihoist'\n",
    "hh_frame_tb14 = concat_data(path_tb14_hh)\n",
    "\n",
    "path_tb14_sbitroot = r'/Users/lenastroer/Python_Lokal/MasterThese/turbines/tb14/Blade_Landings/sbitroot'\n",
    "sbitroot_frame_tb14 = concat_data(path_tb14_sbitroot)"
   ]
  },
  {
   "cell_type": "code",
   "execution_count": null,
   "id": "7a513900",
   "metadata": {},
   "outputs": [],
   "source": [
    "# TB 16\n",
    "\n",
    "#path_tb16_hh = r'/Users/lenastroer/Python_Lokal/MasterThese/turbines/tb16/Blade_Landings/Helihoist'\n",
    "#hh_frame_tb16 = concat_data(path_tb16_hh)\n",
    "\n",
    "#path_tb16_sbitroot = r'/Users/lenastroer/Python_Lokal/MasterThese/turbines/tb16/Blade_Landings/sbitroot'\n",
    "#sbitroot_frame_tb16 = concat_data(path_tb16_sbitroot)"
   ]
  },
  {
   "cell_type": "markdown",
   "id": "ff5a7709",
   "metadata": {},
   "source": [
    "# Functions"
   ]
  },
  {
   "cell_type": "code",
   "execution_count": 26,
   "id": "705e6e59",
   "metadata": {},
   "outputs": [],
   "source": [
    "def find_installationperiod(data_hh, data_sbitroot, data_sbittip):\n",
    "    # Yield indices of installtion period.\n",
    "    # Use altitude of dataset\n",
    "    \n",
    "    hub_height = 90 # hub height = 90m\n",
    "\n",
    "    # smoothing the time series: cut the outliers and find the 20min mean value\n",
    "    hh, sr, st = (data_hh.resample('1s').mean().rolling('20min').mean(), data_sbitroot.resample('1s').mean().rolling('20min').mean(), data_sbittip.resample('1s').mean().rolling('20min').mean())\n",
    "\n",
    "    hh_sbi = hh[(hh > hub_height) & (sr > hub_height) & (st > hub_height)]\n",
    "    sr_sbi = sr[(hh > hub_height) & (sr > hub_height) & (st > hub_height)]\n",
    "    st_sbi = st[(hh > hub_height) & (sr > hub_height) & (st > hub_height)]\n",
    "\n",
    "    # determine start and end period of single blade installations\n",
    "    inst_period = sr_sbi[sr_sbi.index.to_series().diff() > pd.to_timedelta(60, unit='s')].index.to_list()\n",
    "    inst_period.insert(0, sr_sbi.index[0])\n",
    "    inst_period.insert(len(inst_period), sr_sbi.index[-1])\n",
    "    sbi_indices = list()\n",
    "\n",
    "    for i in range(len(inst_period) - 1):\n",
    "        sbi_indices.append((inst_period[i], hh_sbi[inst_period[i]:inst_period[i+1]].index[-2]))\n",
    "    \n",
    "    return sbi_indices"
   ]
  },
  {
   "cell_type": "code",
   "execution_count": 27,
   "id": "ce98743f",
   "metadata": {},
   "outputs": [],
   "source": [
    "def divide_chunks(lst, n):\n",
    "    #Yield successive n-sized chunks from lst.\n",
    "    for i in range(0, len(lst), n):\n",
    "        yield lst[i:i + n]"
   ]
  },
  {
   "cell_type": "code",
   "execution_count": 28,
   "id": "5a76b57c",
   "metadata": {},
   "outputs": [],
   "source": [
    "def find_impacts(acc_data, acc_data_check, acc_threshold, acc_threshold_check, time_limit, min_impact_time):\n",
    "    # acc_data = acceleration data\n",
    "    # acc_data_check = acceleration data to validate if it is really an impact\n",
    "    # acc_threshold = acceleration threshold above which an acceleration is declared as an impact\n",
    "    # acc_threshold_check = acceleration threshold above which an acceleration is declared as an impact (validation data)\n",
    "    # time_limit = min. time between two impacts to avoid correlation\n",
    "    # min_impact_time = min. impact duration\n",
    "    \n",
    "    \n",
    "    # find start values of impact event\n",
    "\n",
    "    sbitroot_ind = acc_data[(abs(acc_data) > acc_threshold) & (abs(acc_data_check) > acc_threshold_check)]\n",
    "\n",
    "    # find the indices where the difference is bigger than the time limit (avoid correlation)\n",
    "\n",
    "    deltaT_startImpact = sbitroot_ind[sbitroot_ind.index.to_series().diff() > time_limit].index.to_list()\n",
    "\n",
    "    # find the points in time where the threshold is exceeded (start of the impact event)\n",
    "    # add the start of the first impact event\n",
    "    deltaT_startImpact.insert(0, sbitroot_ind.index[0])\n",
    "    \n",
    "    # find end values of impact event\n",
    "\n",
    "    sbitroot_ind_inverse = sbitroot_ind.sort_index(ascending=False)\n",
    "\n",
    "    # find the indices where the difference is bigger than the time limit (avoid correlation)\n",
    "\n",
    "    deltaT_endImpact = sbitroot_ind_inverse[sbitroot_ind_inverse.index.to_series().diff() < -time_limit].index.to_list()\n",
    "\n",
    "    # find the points in time where the threshold is exceeded (start of the impact event)\n",
    "    # add the end of the last impact event\n",
    "    deltaT_endImpact.insert(0, sbitroot_ind_inverse.index[0])\n",
    "    deltaT_endImpact.sort(reverse=False)\n",
    "    \n",
    "    \n",
    "    \n",
    "    impact_times = list()\n",
    "    for i in range(len(deltaT_endImpact)):\n",
    "        if (deltaT_endImpact[i]- deltaT_startImpact[i]) > min_impact_time:\n",
    "            # filter out measurement errors\n",
    "            impact_times.append((deltaT_startImpact[i], deltaT_endImpact[i]))\n",
    "\n",
    "    return impact_times"
   ]
  },
  {
   "cell_type": "code",
   "execution_count": 29,
   "id": "e61d9367",
   "metadata": {},
   "outputs": [],
   "source": [
    "def find_indep_oscillations(sbi_indices, impact_times, wind_data_index, data):\n",
    "    # sbi_indices = single blade installation times indices \n",
    "    # impact_times = impact indices\n",
    "    # wind_data_index = index of wind data\n",
    "    # data = the dataset where to find independent time periods\n",
    "    \n",
    "    # Find start values of sbi and impacts\n",
    "\n",
    "    sbi_indices_start = [i[0] for i in sbi_indices]\n",
    "    impact_times_start = [i[0] for i in impact_times]\n",
    "\n",
    "    # Remove all impact starts after the end of the environmental data set, so that the deflection data set is of \n",
    "    #equal length to wind dataset. \n",
    "\n",
    "    impact_times_start= [x for x in impact_times_start if x < wind_data_index[-1]]\n",
    "\n",
    "\n",
    "    # if the last first impact of the installation attempt gets cut off due to the shorter environmental data set, \n",
    "    # then add the last Datetime of environmental data in impacts (treated as impact event)\n",
    "\n",
    "    if impact_times_start[-1]< sbi_indices_start[-1]:\n",
    "        impact_times_start.append(wind_data_index[-1])\n",
    "    \n",
    "    # identify period from start sbi-period to first impact = INDEPENDENT OSCILLATION\n",
    "    # write first impacts after start of blade installation into list\n",
    "    # to identify independent oscillations, timestamp of impact needs to be bigger than timestamp of sbi-period\n",
    "    # timestamp of impact needs to be the first impact after sbi-period\n",
    "\n",
    "    # indices of first impacts\n",
    "    first_impacts = []\n",
    "    # timestamp of first impacts\n",
    "    first_impacts_start = []\n",
    "\n",
    "    for i in range (len(sbi_indices_start)):\n",
    "        first_impacts.append(next(x for x, val in enumerate(impact_times_start)\n",
    "                                      if val > sbi_indices_start[i] ))\n",
    "\n",
    "\n",
    "    for i in range(len(sbi_indices_start)):\n",
    "        first_impacts_start.append(impact_times_start[first_impacts[i]])\n",
    "    \n",
    "    independent_osc = []\n",
    "    for i in range (len(sbi_indices_start)):\n",
    "            independent_osc.append(data[sbi_indices_start[i]:impact_times_start[first_impacts[i]]])\n",
    "    \n",
    "    \n",
    "    \n",
    "    return independent_osc, sbi_indices_start, first_impacts_start"
   ]
  },
  {
   "cell_type": "code",
   "execution_count": 30,
   "id": "fcf00de9",
   "metadata": {},
   "outputs": [],
   "source": [
    "def block_maxima(data, sbi_indices_start, first_impacts_start):\n",
    "    \n",
    "    # calculate number of chunks for each independent interval \n",
    "    # number of chunks is the length of the independent interval divided by the time interval\n",
    "    # therfore, the start value minus the end value of the independent interval is the time difference \n",
    "\n",
    "    time_interval = pd.to_timedelta(60, unit='s')\n",
    "\n",
    "    indep_duration = []\n",
    "    for i in range(len(sbi_indices_start)):\n",
    "        indep_duration.append(first_impacts_start[i] - sbi_indices_start[i])\n",
    "\n",
    "    num_chunks = []\n",
    "    for i in range(len(sbi_indices_start)):\n",
    "        num_chunks.append(indep_duration[i]/time_interval)\n",
    "    \n",
    "    \n",
    "    # Determine the chunk size in each independent time interval \n",
    "\n",
    "    chunk_size_deflection = []\n",
    "    for i in range(len(sbi_indices_start)):\n",
    "        chunk_size_deflection.append(len(data[i])/ num_chunks[i])\n",
    "        chunk_size_deflection[i] = math.floor(chunk_size_deflection[i])\n",
    "\n",
    "    chunk_size_deflection = min(chunk_size_deflection) \n",
    "    \n",
    "    # Create list with chunks of independent intervals \n",
    "    # Independent oscillations are split up into chunks\n",
    "    # indep_blocks[i][j], here i indicates the installation attempt j indicates the blocks in each installation attempt\n",
    "\n",
    "    indep_blocks = []\n",
    "    for i in range(len(sbi_indices_start)):\n",
    "        indep_blocks.append(list(divide_chunks(data[i], chunk_size_deflection)))\n",
    "        \n",
    "    # Determine block maxima, blocks that does not contain full 60 sec of data are filtered out. \n",
    "\n",
    "    block_maxima = []\n",
    "\n",
    "    for i in range(len(sbi_indices_start)):\n",
    "        for j in range(len(indep_blocks[i])):\n",
    "            if len(indep_blocks[i][j]) == len(indep_blocks[0][0]): \n",
    "                block_maxima.append((indep_blocks[i][j].idxmax(), max(indep_blocks[i][j]) ))\n",
    "    \n",
    "    \n",
    "    maxima_values = []\n",
    "    for i in range (len(block_maxima)):\n",
    "        maxima_values.append(block_maxima[i][1])\n",
    "    \n",
    "    return maxima_values"
   ]
  },
  {
   "cell_type": "code",
   "execution_count": 31,
   "id": "3d8b7d65",
   "metadata": {},
   "outputs": [],
   "source": [
    "def block_mean(data, sbi_indices_start, first_impacts_start):\n",
    "    # Determine the chunk size in each independent time interval \n",
    "\n",
    "    \n",
    "    time_interval = pd.to_timedelta(60, unit='s')\n",
    "\n",
    "    indep_duration = []\n",
    "    for i in range(len(sbi_indices_start)):\n",
    "        indep_duration.append(first_impacts_start[i] - sbi_indices_start[i])\n",
    "\n",
    "    num_chunks = []\n",
    "    for i in range(len(sbi_indices_start)):\n",
    "        num_chunks.append(indep_duration[i]/time_interval)\n",
    "    \n",
    "    chunk_size_wind = []\n",
    "    for i in range(len(sbi_indices_start)):\n",
    "        chunk_size_wind.append(len(data[i])/ num_chunks[i])\n",
    "        chunk_size_wind[i] = math.floor(chunk_size_wind[i])\n",
    "        #chunk_size_wind[i] = math.ceil(chunk_size_wind[i])\n",
    "\n",
    "    chunk_size_wind = min(chunk_size_wind) \n",
    "    \n",
    "    # Create list with chunks of independent intervals \n",
    "    # Independent oscillations are split up into chunks\n",
    "    # indep_blocks[i][j], here i indicates the installation attempt j indicates the blocks in each installation attempt\n",
    "\n",
    "    indep_blocks_wind = []\n",
    "    for i in range(len(sbi_indices_start)):\n",
    "        indep_blocks_wind.append(list(divide_chunks(data[i], chunk_size_wind)))\n",
    "        \n",
    "        \n",
    "    # Determine block maxima, blocks that does not contain full 60 sec of data are filtered out. \n",
    "\n",
    "    block_mean = []\n",
    "\n",
    "    for i in range(len(sbi_indices_start)):\n",
    "        for j in range(len(indep_blocks_wind[i])):\n",
    "            if len(indep_blocks_wind[i][j]) == len(indep_blocks_wind[0][0]): \n",
    "                block_mean.append((indep_blocks_wind[i][j].mean() ))\n",
    "\n",
    "    return block_mean"
   ]
  },
  {
   "cell_type": "markdown",
   "id": "c2f43e9a",
   "metadata": {},
   "source": [
    "# Installtion periods"
   ]
  },
  {
   "cell_type": "code",
   "execution_count": 32,
   "id": "34dacc93",
   "metadata": {},
   "outputs": [],
   "source": [
    "sbi_indices_tb4= find_installationperiod(gps_helih_tb4.altitude, gps_sbitroot_tb4.altitude, gps_sbittip_tb4.altitude)\n",
    "sbi_indices_tb5= find_installationperiod(gps_helih_tb5.altitude, gps_sbitroot_tb5.altitude, gps_sbittip_tb5.altitude)\n",
    "sbi_indices_tb6= find_installationperiod(gps_helih_tb6.altitude, gps_sbitroot_tb6.altitude, gps_sbittip_tb6.altitude)\n",
    "#sbi_indices_tb7= find_installationperiod(gps_helih_tb7.altitude, gps_sbitroot_tb7.altitude, gps_sbittip_tb7.altitude)\n",
    "sbi_indices_tb8= find_installationperiod(gps_helih_tb8.altitude, gps_sbitroot_tb8.altitude, gps_sbittip_tb8.altitude)\n",
    "sbi_indices_tb10= find_installationperiod(gps_helih_tb10.altitude, gps_sbitroot_tb10.altitude, gps_sbittip_tb10.altitude)\n",
    "sbi_indices_tb11= find_installationperiod(gps_helih_tb11.altitude, gps_sbitroot_tb11.altitude, gps_sbittip_tb11.altitude)\n",
    "sbi_indices_tb12= find_installationperiod(gps_helih_tb12.altitude, gps_sbitroot_tb12.altitude, gps_sbittip_tb12.altitude)\n",
    "#sbi_indices_tb13= find_installationperiod(gps_helih_tb13.altitude, gps_sbitroot_tb13.altitude, gps_sbittip_tb13.altitude)\n",
    "sbi_indices_tb14= find_installationperiod(gps_helih_tb14.altitude, gps_sbitroot_tb14.altitude, gps_sbittip_tb14.altitude)\n",
    "#sbi_indices_tb16= find_installationperiod(gps_helih_tb16.altitude, gps_sbitroot_tb16.altitude, gps_sbittip_tb16.altitude)"
   ]
  },
  {
   "cell_type": "markdown",
   "id": "6bddbc6a",
   "metadata": {},
   "source": [
    "# IMPACTS"
   ]
  },
  {
   "cell_type": "markdown",
   "id": "7b2277d2",
   "metadata": {},
   "source": [
    "## Filter outliers from accelerations X and Z"
   ]
  },
  {
   "cell_type": "code",
   "execution_count": 33,
   "id": "fa8baaaa",
   "metadata": {},
   "outputs": [],
   "source": [
    "# TB 4\n",
    "\n",
    "# SBIT root \n",
    "median_x_tb4 = sbitroot_frame_tb4.loc[sbitroot_frame_tb4['acc_x']< abs(10), 'acc_x'].median()\n",
    "median_z_tb4 = sbitroot_frame_tb4.loc[sbitroot_frame_tb4['acc_z']< abs(10), 'acc_z'].median()\n",
    "\n",
    "sbitroot_frame_tb4['acc_x'] = np.where(sbitroot_frame_tb4[\"acc_x\"] > abs(10), median_x_tb4,sbitroot_frame_tb4['acc_x'])\n",
    "sbitroot_frame_tb4['acc_z'] = np.where(sbitroot_frame_tb4[\"acc_z\"] > abs(10), median_z_tb4,sbitroot_frame_tb4['acc_z'])"
   ]
  },
  {
   "cell_type": "code",
   "execution_count": 34,
   "id": "23f7ce46",
   "metadata": {},
   "outputs": [],
   "source": [
    "# TB 5\n",
    "\n",
    "# SBIT root \n",
    "median_x_tb5 = sbitroot_frame_tb5.loc[sbitroot_frame_tb5['acc_x']< abs(10), 'acc_x'].median()\n",
    "median_z_tb5 = sbitroot_frame_tb5.loc[sbitroot_frame_tb5['acc_z']< abs(10), 'acc_z'].median()\n",
    "\n",
    "sbitroot_frame_tb5['acc_x'] = np.where(sbitroot_frame_tb5[\"acc_x\"] > abs(10), median_x_tb5,sbitroot_frame_tb5['acc_x'])\n",
    "sbitroot_frame_tb5['acc_z'] = np.where(sbitroot_frame_tb5[\"acc_z\"] > abs(10), median_z_tb5,sbitroot_frame_tb5['acc_z'])"
   ]
  },
  {
   "cell_type": "code",
   "execution_count": 35,
   "id": "c7a22d48",
   "metadata": {},
   "outputs": [],
   "source": [
    "# TB 6\n",
    "\n",
    "# SBIT root \n",
    "median_x_tb6 = sbitroot_frame_tb6.loc[sbitroot_frame_tb6['acc_x']< abs(10), 'acc_x'].median()\n",
    "median_z_tb6 = sbitroot_frame_tb6.loc[sbitroot_frame_tb6['acc_z']< abs(10), 'acc_z'].median()\n",
    "\n",
    "sbitroot_frame_tb6['acc_x'] = np.where(sbitroot_frame_tb6[\"acc_x\"] > abs(10), median_x_tb6,sbitroot_frame_tb6['acc_x'])\n",
    "sbitroot_frame_tb6['acc_z'] = np.where(sbitroot_frame_tb6[\"acc_z\"] > abs(10), median_z_tb6,sbitroot_frame_tb6['acc_z'])"
   ]
  },
  {
   "cell_type": "code",
   "execution_count": 36,
   "id": "fef04ae9",
   "metadata": {},
   "outputs": [],
   "source": [
    "# TB 7\n",
    "\n",
    "# SBIT root \n",
    "#median_x_tb7 = sbitroot_frame_tb7.loc[sbitroot_frame_tb7['acc_x']< abs(10), 'acc_x'].median()\n",
    "#median_z_tb7 = sbitroot_frame_tb7.loc[sbitroot_frame_tb7['acc_z']< abs(10), 'acc_z'].median()\n",
    "\n",
    "#sbitroot_frame_tb7['acc_x'] = np.where(sbitroot_frame_tb7[\"acc_x\"] > abs(10), median_x_tb7,sbitroot_frame_tb7['acc_x'])\n",
    "#sbitroot_frame_tb7['acc_z'] = np.where(sbitroot_frame_tb7[\"acc_z\"] > abs(10), median_z_tb7,sbitroot_frame_tb7['acc_z'])"
   ]
  },
  {
   "cell_type": "code",
   "execution_count": 37,
   "id": "6787b787",
   "metadata": {},
   "outputs": [],
   "source": [
    "# TB 8\n",
    "\n",
    "# SBIT root \n",
    "median_x = sbitroot_frame_tb8.loc[sbitroot_frame_tb8['acc_x']< abs(10), 'acc_x'].median()\n",
    "median_z = sbitroot_frame_tb8.loc[sbitroot_frame_tb8['acc_z']< abs(10), 'acc_z'].median()\n",
    "\n",
    "sbitroot_frame_tb8['acc_x'] = np.where(sbitroot_frame_tb8[\"acc_x\"] > abs(10), median_x,sbitroot_frame_tb8['acc_x'])\n",
    "sbitroot_frame_tb8['acc_z'] = np.where(sbitroot_frame_tb8[\"acc_z\"] > abs(10), median_z,sbitroot_frame_tb8['acc_z'])"
   ]
  },
  {
   "cell_type": "code",
   "execution_count": 38,
   "id": "c495a6a6",
   "metadata": {},
   "outputs": [],
   "source": [
    "# TB 10\n",
    "\n",
    "# SBIT root \n",
    "median_x_tb10 = sbitroot_frame_tb10.loc[sbitroot_frame_tb10['acc_x']< abs(10), 'acc_x'].median()\n",
    "median_z_tb10 = sbitroot_frame_tb10.loc[sbitroot_frame_tb10['acc_z']< abs(10), 'acc_z'].median()\n",
    "\n",
    "sbitroot_frame_tb10['acc_x'] = np.where(sbitroot_frame_tb10[\"acc_x\"] > abs(10), median_x_tb10,sbitroot_frame_tb10['acc_x'])\n",
    "sbitroot_frame_tb10['acc_z'] = np.where(sbitroot_frame_tb10[\"acc_z\"] > abs(10), median_z_tb10,sbitroot_frame_tb10['acc_z'])"
   ]
  },
  {
   "cell_type": "code",
   "execution_count": 39,
   "id": "6fdc0138",
   "metadata": {},
   "outputs": [],
   "source": [
    "# TB 11\n",
    "\n",
    "# SBIT root \n",
    "median_x_tb11 = sbitroot_frame_tb11.loc[sbitroot_frame_tb11['acc_x']< abs(10), 'acc_x'].median()\n",
    "median_z_tb11 = sbitroot_frame_tb11.loc[sbitroot_frame_tb11['acc_z']< abs(10), 'acc_z'].median()\n",
    "\n",
    "sbitroot_frame_tb11['acc_x'] = np.where(sbitroot_frame_tb11[\"acc_x\"] > abs(10), median_x_tb11,sbitroot_frame_tb11['acc_x'])\n",
    "sbitroot_frame_tb11['acc_z'] = np.where(sbitroot_frame_tb11[\"acc_z\"] > abs(10), median_z_tb11,sbitroot_frame_tb11['acc_z'])"
   ]
  },
  {
   "cell_type": "code",
   "execution_count": 40,
   "id": "65c41287",
   "metadata": {},
   "outputs": [],
   "source": [
    "# TB 12\n",
    "\n",
    "# SBIT root \n",
    "median_x_tb12 = sbitroot_frame_tb12.loc[sbitroot_frame_tb12['acc_x']< abs(10), 'acc_x'].median()\n",
    "median_z_tb12 = sbitroot_frame_tb12.loc[sbitroot_frame_tb12['acc_z']< abs(10), 'acc_z'].median()\n",
    "\n",
    "sbitroot_frame_tb12['acc_x'] = np.where(sbitroot_frame_tb12[\"acc_x\"] > abs(10), median_x_tb12,sbitroot_frame_tb12['acc_x'])\n",
    "sbitroot_frame_tb12['acc_z'] = np.where(sbitroot_frame_tb12[\"acc_z\"] > abs(10), median_z_tb12,sbitroot_frame_tb12['acc_z'])"
   ]
  },
  {
   "cell_type": "code",
   "execution_count": 41,
   "id": "fc58faab",
   "metadata": {},
   "outputs": [],
   "source": [
    "# TB 13\n",
    "\n",
    "# SBIT root \n",
    "#median_x_tb13 = sbitroot_frame_tb13.loc[sbitroot_frame_tb13['acc_x']< abs(10), 'acc_x'].median()\n",
    "#median_z_tb13 = sbitroot_frame_tb13.loc[sbitroot_frame_tb13['acc_z']< abs(10), 'acc_z'].median()\n",
    "\n",
    "#sbitroot_frame_tb13['acc_x'] = np.where(sbitroot_frame_tb13[\"acc_x\"] > abs(10), median_x_tb13,sbitroot_frame_tb13['acc_x'])\n",
    "#sbitroot_frame_tb13['acc_z'] = np.where(sbitroot_frame_tb13[\"acc_z\"] > abs(10), median_z_tb13,sbitroot_frame_tb13['acc_z'])"
   ]
  },
  {
   "cell_type": "code",
   "execution_count": 42,
   "id": "fcbe655e",
   "metadata": {},
   "outputs": [],
   "source": [
    "# TB 14\n",
    "\n",
    "# SBIT root \n",
    "median_x_tb14 = sbitroot_frame_tb14.loc[sbitroot_frame_tb14['acc_x']< abs(10), 'acc_x'].median()\n",
    "median_z_tb14 = sbitroot_frame_tb14.loc[sbitroot_frame_tb14['acc_z']< abs(10), 'acc_z'].median()\n",
    "\n",
    "sbitroot_frame_tb14['acc_x'] = np.where(sbitroot_frame_tb14[\"acc_x\"] > abs(10), median_x_tb14,sbitroot_frame_tb14['acc_x'])\n",
    "sbitroot_frame_tb14['acc_z'] = np.where(sbitroot_frame_tb14[\"acc_z\"] > abs(10), median_z_tb14,sbitroot_frame_tb14['acc_z'])"
   ]
  },
  {
   "cell_type": "code",
   "execution_count": 43,
   "id": "6d4dd09e",
   "metadata": {},
   "outputs": [],
   "source": [
    "# TB 16\n",
    "\n",
    "# SBIT root \n",
    "#median_x_tb16 = sbitroot_frame_tb16.loc[sbitroot_frame_tb16['acc_x']< abs(10), 'acc_x'].median()\n",
    "#median_z_tb16 = sbitroot_frame_tb16.loc[sbitroot_frame_tb16['acc_z']< abs(10), 'acc_z'].median()\n",
    "\n",
    "#sbitroot_frame_tb16['acc_x'] = np.where(sbitroot_frame_tb16[\"acc_x\"] > abs(10), median_x_tb16,sbitroot_frame_tb16['acc_x'])\n",
    "#sbitroot_frame_tb16['acc_z'] = np.where(sbitroot_frame_tb16[\"acc_z\"] > abs(10), median_z_tb16,sbitroot_frame_tb16['acc_z'])"
   ]
  },
  {
   "cell_type": "markdown",
   "id": "9a0141cd",
   "metadata": {},
   "source": [
    "## Determine installation period (blade at HH)"
   ]
  },
  {
   "cell_type": "code",
   "execution_count": 44,
   "id": "003514ed",
   "metadata": {},
   "outputs": [],
   "source": [
    "# TB 4\n",
    "\n",
    "sbitroot_installation_tb4 = pd.DataFrame()\n",
    "\n",
    "for start, end in sbi_indices_tb4:\n",
    "    sbitroot_installation_tb4 = sbitroot_installation_tb4.append(sbitroot_frame_tb4[start:end])"
   ]
  },
  {
   "cell_type": "code",
   "execution_count": 45,
   "id": "f932238c",
   "metadata": {},
   "outputs": [],
   "source": [
    "# TB 5\n",
    "\n",
    "sbitroot_installation_tb5 = pd.DataFrame()\n",
    "\n",
    "for start, end in sbi_indices_tb5:\n",
    "    sbitroot_installation_tb5 = sbitroot_installation_tb5.append(sbitroot_frame_tb5[start:end])"
   ]
  },
  {
   "cell_type": "code",
   "execution_count": 46,
   "id": "2ef4614c",
   "metadata": {},
   "outputs": [],
   "source": [
    "# TB 6\n",
    "\n",
    "sbitroot_installation_tb6 = pd.DataFrame()\n",
    "\n",
    "for start, end in sbi_indices_tb6:\n",
    "    sbitroot_installation_tb6 = sbitroot_installation_tb6.append(sbitroot_frame_tb6[start:end])"
   ]
  },
  {
   "cell_type": "code",
   "execution_count": 47,
   "id": "a20b20eb",
   "metadata": {},
   "outputs": [],
   "source": [
    "# TB 7\n",
    "\n",
    "#sbitroot_installation_tb7 = pd.DataFrame()\n",
    "\n",
    "#for start, end in sbi_indices_tb7:\n",
    "    #sbitroot_installation_tb7 = sbitroot_installation_tb7.append(sbitroot_frame_tb7[start:end])"
   ]
  },
  {
   "cell_type": "code",
   "execution_count": 48,
   "id": "9c6932d7",
   "metadata": {},
   "outputs": [],
   "source": [
    "# TB 8\n",
    "\n",
    "sbitroot_installation_tb8 = pd.DataFrame()\n",
    "\n",
    "for start, end in sbi_indices_tb8:\n",
    "    sbitroot_installation_tb8 = sbitroot_installation_tb8.append(sbitroot_frame_tb8[start:end])"
   ]
  },
  {
   "cell_type": "code",
   "execution_count": 49,
   "id": "be53e1cf",
   "metadata": {},
   "outputs": [],
   "source": [
    "# TB 10\n",
    "\n",
    "sbitroot_installation_tb10 = pd.DataFrame()\n",
    "\n",
    "for start, end in sbi_indices_tb10:\n",
    "    sbitroot_installation_tb10 = sbitroot_installation_tb10.append(sbitroot_frame_tb10[start:end])"
   ]
  },
  {
   "cell_type": "code",
   "execution_count": 50,
   "id": "76ac0231",
   "metadata": {},
   "outputs": [],
   "source": [
    "# TB 11\n",
    "\n",
    "sbitroot_installation_tb11 = pd.DataFrame()\n",
    "\n",
    "for start, end in sbi_indices_tb11:\n",
    "    sbitroot_installation_tb11 = sbitroot_installation_tb11.append(sbitroot_frame_tb11[start:end])"
   ]
  },
  {
   "cell_type": "code",
   "execution_count": 51,
   "id": "4d176c99",
   "metadata": {},
   "outputs": [],
   "source": [
    "# TB 12\n",
    "\n",
    "sbitroot_installation_tb12 = pd.DataFrame()\n",
    "\n",
    "for start, end in sbi_indices_tb12:\n",
    "    sbitroot_installation_tb12 = sbitroot_installation_tb12.append(sbitroot_frame_tb12[start:end])"
   ]
  },
  {
   "cell_type": "code",
   "execution_count": 52,
   "id": "8d61807d",
   "metadata": {},
   "outputs": [],
   "source": [
    "# TB 13\n",
    "\n",
    "#sbitroot_installation_tb13 = pd.DataFrame()\n",
    "\n",
    "\n",
    "#for start, end in sbi_indices_tb13:\n",
    "    #sbitroot_installation_tb13 = sbitroot_installation_tb13.append(sbitroot_frame_tb13[start:end])"
   ]
  },
  {
   "cell_type": "code",
   "execution_count": 53,
   "id": "e0d045cf",
   "metadata": {},
   "outputs": [],
   "source": [
    "# TB 14\n",
    "\n",
    "sbitroot_installation_tb14 = pd.DataFrame()\n",
    "\n",
    "for start, end in sbi_indices_tb14:\n",
    "    sbitroot_installation_tb14 = sbitroot_installation_tb14.append(sbitroot_frame_tb14[start:end])"
   ]
  },
  {
   "cell_type": "code",
   "execution_count": 54,
   "id": "13f6498b",
   "metadata": {},
   "outputs": [],
   "source": [
    "# TB 16\n",
    "\n",
    "#sbitroot_installation_tb16 = pd.DataFrame()\n",
    "\n",
    "#for start, end in sbi_indices_tb16:\n",
    "    #sbitroot_installation_tb16 = sbitroot_installation_tb16.append(sbitroot_frame_tb16[start:end])"
   ]
  },
  {
   "cell_type": "markdown",
   "id": "4d673ba5",
   "metadata": {},
   "source": [
    "## Impact thresholds"
   ]
  },
  {
   "cell_type": "code",
   "execution_count": 55,
   "id": "70db79b3",
   "metadata": {},
   "outputs": [],
   "source": [
    "# Find independent oscillation periods\n",
    "\n",
    "acc_threshold_x = 0.5 #acceleration threshold (m/s^2)\n",
    "acc_threshold_z = 0.5\n",
    "acc_threshold_y = 0.3\n",
    "\n",
    "limit = pd.to_timedelta(60, unit='s') #time limit to avoid correlation\n",
    "min_impact_time = pd.to_timedelta(10, unit='s') # minimum time of impact event, erasing measurment errors"
   ]
  },
  {
   "cell_type": "markdown",
   "id": "81c4c4ec",
   "metadata": {},
   "source": [
    "## List of analysed turbines"
   ]
  },
  {
   "cell_type": "code",
   "execution_count": 56,
   "id": "43a26e6b",
   "metadata": {},
   "outputs": [
    {
     "name": "stdout",
     "output_type": "stream",
     "text": [
      "[4, 5, 6, 8, 10, 11, 12, 14]\n"
     ]
    }
   ],
   "source": [
    "list_of_turbines= [4,5,6,8,10,11,12,14]\n",
    "print(list_of_turbines)"
   ]
  },
  {
   "cell_type": "markdown",
   "id": "37784098",
   "metadata": {},
   "source": [
    "## Impacts in X Direction"
   ]
  },
  {
   "cell_type": "code",
   "execution_count": 57,
   "id": "5f127f7b",
   "metadata": {},
   "outputs": [],
   "source": [
    "impact_times_tb4_x= find_impacts(sbitroot_installation_tb4.acc_x, sbitroot_installation_tb4.acc_y, acc_threshold_x, acc_threshold_y, limit, min_impact_time)"
   ]
  },
  {
   "cell_type": "code",
   "execution_count": 58,
   "id": "6f294033",
   "metadata": {},
   "outputs": [],
   "source": [
    "impact_times_tb5_x= find_impacts(sbitroot_installation_tb5.acc_x, sbitroot_installation_tb5.acc_y, acc_threshold_x, acc_threshold_y, limit, min_impact_time)"
   ]
  },
  {
   "cell_type": "code",
   "execution_count": 59,
   "id": "99deca91",
   "metadata": {},
   "outputs": [],
   "source": [
    "impact_times_tb6_x= find_impacts(sbitroot_installation_tb6.acc_x, sbitroot_installation_tb6.acc_y, acc_threshold_x, acc_threshold_y, limit, min_impact_time)"
   ]
  },
  {
   "cell_type": "code",
   "execution_count": 60,
   "id": "666ffb76",
   "metadata": {},
   "outputs": [],
   "source": [
    "impact_times_tb8_x= find_impacts(sbitroot_installation_tb8.acc_x, sbitroot_installation_tb8.acc_y, acc_threshold_x, acc_threshold_y, limit, min_impact_time)"
   ]
  },
  {
   "cell_type": "code",
   "execution_count": 61,
   "id": "bb56dccf",
   "metadata": {},
   "outputs": [],
   "source": [
    "impact_times_tb10_x= find_impacts(sbitroot_installation_tb10.acc_x, sbitroot_installation_tb10.acc_y, acc_threshold_x, acc_threshold_y, limit, min_impact_time)"
   ]
  },
  {
   "cell_type": "code",
   "execution_count": 62,
   "id": "b8505428",
   "metadata": {},
   "outputs": [],
   "source": [
    "impact_times_tb11_x= find_impacts(sbitroot_installation_tb11.acc_x, sbitroot_installation_tb11.acc_y, acc_threshold_x, acc_threshold_y, limit, min_impact_time)"
   ]
  },
  {
   "cell_type": "code",
   "execution_count": 63,
   "id": "d0770520",
   "metadata": {},
   "outputs": [],
   "source": [
    "impact_times_tb12_x= find_impacts(sbitroot_installation_tb12.acc_x, sbitroot_installation_tb12.acc_y, acc_threshold_x, acc_threshold_y, limit, min_impact_time)"
   ]
  },
  {
   "cell_type": "code",
   "execution_count": 64,
   "id": "22e02089",
   "metadata": {},
   "outputs": [],
   "source": [
    "impact_times_tb14_x= find_impacts(sbitroot_installation_tb14.acc_x, sbitroot_installation_tb14.acc_y, acc_threshold_x, acc_threshold_y, limit, min_impact_time)"
   ]
  },
  {
   "cell_type": "markdown",
   "id": "ec12d5a0",
   "metadata": {},
   "source": [
    "## Impacts in Z Direction"
   ]
  },
  {
   "cell_type": "code",
   "execution_count": 65,
   "id": "432a9e45",
   "metadata": {},
   "outputs": [],
   "source": [
    "impact_times_tb4_z= find_impacts(sbitroot_installation_tb4.acc_z, sbitroot_installation_tb4.acc_y, acc_threshold_z, acc_threshold_y, limit, min_impact_time)"
   ]
  },
  {
   "cell_type": "code",
   "execution_count": 66,
   "id": "8a51c35c",
   "metadata": {},
   "outputs": [],
   "source": [
    "impact_times_tb5_z= find_impacts(sbitroot_installation_tb5.acc_z, sbitroot_installation_tb5.acc_y, acc_threshold_z, acc_threshold_y, limit, min_impact_time)"
   ]
  },
  {
   "cell_type": "code",
   "execution_count": 67,
   "id": "2f5d77e5",
   "metadata": {},
   "outputs": [],
   "source": [
    "impact_times_tb6_z= find_impacts(sbitroot_installation_tb6.acc_z, sbitroot_installation_tb6.acc_y, acc_threshold_z, acc_threshold_y, limit, min_impact_time)"
   ]
  },
  {
   "cell_type": "code",
   "execution_count": 68,
   "id": "8ceb050d",
   "metadata": {},
   "outputs": [],
   "source": [
    "impact_times_tb8_z= find_impacts(sbitroot_installation_tb8.acc_z, sbitroot_installation_tb8.acc_y, acc_threshold_z, acc_threshold_y, limit, min_impact_time)"
   ]
  },
  {
   "cell_type": "code",
   "execution_count": 69,
   "id": "ba4f103a",
   "metadata": {},
   "outputs": [],
   "source": [
    "impact_times_tb10_z= find_impacts(sbitroot_installation_tb10.acc_z, sbitroot_installation_tb10.acc_y, acc_threshold_z, acc_threshold_y, limit, min_impact_time)"
   ]
  },
  {
   "cell_type": "code",
   "execution_count": 70,
   "id": "b5d79dae",
   "metadata": {},
   "outputs": [],
   "source": [
    "impact_times_tb11_z= find_impacts(sbitroot_installation_tb11.acc_z, sbitroot_installation_tb11.acc_y, acc_threshold_z, acc_threshold_y, limit, min_impact_time)"
   ]
  },
  {
   "cell_type": "code",
   "execution_count": 71,
   "id": "e42de026",
   "metadata": {},
   "outputs": [],
   "source": [
    "impact_times_tb12_z= find_impacts(sbitroot_installation_tb12.acc_z, sbitroot_installation_tb12.acc_y, acc_threshold_z, acc_threshold_y, limit, min_impact_time)"
   ]
  },
  {
   "cell_type": "code",
   "execution_count": 72,
   "id": "885e7f54",
   "metadata": {},
   "outputs": [],
   "source": [
    "impact_times_tb14_z= find_impacts(sbitroot_installation_tb14.acc_z, sbitroot_installation_tb14.acc_y, acc_threshold_z, acc_threshold_y, limit, min_impact_time)"
   ]
  },
  {
   "cell_type": "markdown",
   "id": "648407ba",
   "metadata": {},
   "source": [
    "## Impacts combined X and Z"
   ]
  },
  {
   "cell_type": "code",
   "execution_count": 73,
   "id": "b2f368d4",
   "metadata": {},
   "outputs": [],
   "source": [
    "impact_times_tb4 = impact_times_tb4_z + impact_times_tb4_x\n",
    "impact_times_tb4.sort()"
   ]
  },
  {
   "cell_type": "code",
   "execution_count": 74,
   "id": "ef5133f2",
   "metadata": {},
   "outputs": [],
   "source": [
    "impact_times_tb5 = impact_times_tb5_z + impact_times_tb5_x\n",
    "impact_times_tb5.sort()"
   ]
  },
  {
   "cell_type": "code",
   "execution_count": 75,
   "id": "21f789eb",
   "metadata": {},
   "outputs": [],
   "source": [
    "impact_times_tb6 = impact_times_tb6_z + impact_times_tb6_x\n",
    "impact_times_tb6.sort()"
   ]
  },
  {
   "cell_type": "code",
   "execution_count": 76,
   "id": "147d4860",
   "metadata": {},
   "outputs": [],
   "source": [
    "impact_times_tb8 = impact_times_tb8_z + impact_times_tb8_x\n",
    "impact_times_tb8.sort()"
   ]
  },
  {
   "cell_type": "code",
   "execution_count": 77,
   "id": "b0d59681",
   "metadata": {},
   "outputs": [],
   "source": [
    "impact_times_tb10 = impact_times_tb10_z + impact_times_tb10_x\n",
    "impact_times_tb10.sort()"
   ]
  },
  {
   "cell_type": "code",
   "execution_count": 78,
   "id": "f67db1fd",
   "metadata": {},
   "outputs": [],
   "source": [
    "impact_times_tb11 = impact_times_tb11_z + impact_times_tb11_x\n",
    "impact_times_tb11.sort()"
   ]
  },
  {
   "cell_type": "code",
   "execution_count": 79,
   "id": "1d068027",
   "metadata": {},
   "outputs": [],
   "source": [
    "impact_times_tb12 = impact_times_tb12_z + impact_times_tb12_x\n",
    "impact_times_tb12.sort()"
   ]
  },
  {
   "cell_type": "code",
   "execution_count": 80,
   "id": "b9b2f037",
   "metadata": {},
   "outputs": [],
   "source": [
    "impact_times_tb14 = impact_times_tb14_z + impact_times_tb14_x\n",
    "impact_times_tb14.sort()"
   ]
  },
  {
   "cell_type": "markdown",
   "id": "9a6243f7",
   "metadata": {},
   "source": [
    "# INDEPENDENT deflection"
   ]
  },
  {
   "cell_type": "code",
   "execution_count": 114,
   "id": "add3d729",
   "metadata": {},
   "outputs": [
    {
     "name": "stdout",
     "output_type": "stream",
     "text": [
      "[Timestamp('2019-09-07 07:31:54+0000', tz='UTC', freq='S')]\n",
      "[Timestamp('2019-09-07 08:30:40.599000064+0000', tz='UTC')]\n",
      "([datetime\n",
      "2019-09-07 07:31:54+00:00    3.7\n",
      "2019-09-07 07:31:55+00:00    3.7\n",
      "2019-09-07 07:31:56+00:00    3.7\n",
      "2019-09-07 07:31:57+00:00    4.1\n",
      "2019-09-07 07:31:58+00:00    4.1\n",
      "                            ... \n",
      "2019-09-07 08:30:36+00:00    1.1\n",
      "2019-09-07 08:30:37+00:00    1.1\n",
      "2019-09-07 08:30:38+00:00    1.1\n",
      "2019-09-07 08:30:39+00:00    1.1\n",
      "2019-09-07 08:30:40+00:00    1.3\n",
      "Name: wind_speed_0, Length: 3527, dtype: float64], [Timestamp('2019-09-07 07:31:54+0000', tz='UTC', freq='S')], [Timestamp('2019-09-07 08:30:40.599000064+0000', tz='UTC')])\n"
     ]
    }
   ],
   "source": [
    "indep_deflection_tb4, sbi_start_tb4, impact_start_tb4= find_indep_oscillations(sbi_indices_tb4, impact_times_tb4, wind_data.index, sbitroot_installation_tb4.deflection )\n",
    "print(sbi_start_tb4)\n",
    "print(impact_start_tb4)\n",
    "print(indep_wind_tb4)"
   ]
  },
  {
   "cell_type": "code",
   "execution_count": 82,
   "id": "6ce8be0e",
   "metadata": {},
   "outputs": [],
   "source": [
    "indep_deflection_tb5, sbi_start_tb5, impact_start_tb5= find_indep_oscillations(sbi_indices_tb5, impact_times_tb5, wind_data.index, sbitroot_installation_tb5.deflection )"
   ]
  },
  {
   "cell_type": "code",
   "execution_count": 83,
   "id": "df7fb9d0",
   "metadata": {},
   "outputs": [],
   "source": [
    "indep_deflection_tb6, sbi_start_tb6, impact_start_tb6= find_indep_oscillations(sbi_indices_tb6, impact_times_tb6, wind_data.index, sbitroot_installation_tb6.deflection )"
   ]
  },
  {
   "cell_type": "code",
   "execution_count": 84,
   "id": "e7a945c4",
   "metadata": {},
   "outputs": [],
   "source": [
    "indep_deflection_tb8, sbi_start_tb8, impact_start_tb8= find_indep_oscillations(sbi_indices_tb8, impact_times_tb8, wind_data.index, sbitroot_installation_tb8.deflection )"
   ]
  },
  {
   "cell_type": "code",
   "execution_count": 85,
   "id": "d9687a05",
   "metadata": {},
   "outputs": [],
   "source": [
    "indep_deflection_tb10, sbi_start_tb10, impact_start_tb10= find_indep_oscillations(sbi_indices_tb10, impact_times_tb10, wind_data.index, sbitroot_installation_tb10.deflection )"
   ]
  },
  {
   "cell_type": "code",
   "execution_count": 86,
   "id": "a3266119",
   "metadata": {},
   "outputs": [],
   "source": [
    "indep_deflection_tb11, sbi_start_tb11, impact_start_tb11= find_indep_oscillations(sbi_indices_tb11, impact_times_tb11, wind_data.index, sbitroot_installation_tb11.deflection )"
   ]
  },
  {
   "cell_type": "code",
   "execution_count": 87,
   "id": "14284e34",
   "metadata": {},
   "outputs": [],
   "source": [
    "indep_deflection_tb12, sbi_start_tb12, impact_start_tb12= find_indep_oscillations(sbi_indices_tb12, impact_times_tb12, wind_data.index, sbitroot_installation_tb12.deflection )"
   ]
  },
  {
   "cell_type": "code",
   "execution_count": 88,
   "id": "4f037366",
   "metadata": {},
   "outputs": [],
   "source": [
    "indep_deflection_tb14, sbi_start_tb14, impact_start_tb14= find_indep_oscillations(sbi_indices_tb14, impact_times_tb14, wind_data.index, sbitroot_installation_tb14.deflection )"
   ]
  },
  {
   "cell_type": "markdown",
   "id": "ae072e2b",
   "metadata": {},
   "source": [
    "# INDEPENDENT Environment"
   ]
  },
  {
   "cell_type": "code",
   "execution_count": 89,
   "id": "52f53619",
   "metadata": {},
   "outputs": [],
   "source": [
    "indep_wind_tb4 = find_indep_oscillations(sbi_indices_tb4, impact_times_tb4, wind_data.index, wind_data.wind_speed_0)"
   ]
  },
  {
   "cell_type": "code",
   "execution_count": 90,
   "id": "dee920ac",
   "metadata": {},
   "outputs": [],
   "source": [
    "indep_wind_tb5 = find_indep_oscillations(sbi_indices_tb5, impact_times_tb5, wind_data.index, wind_data.wind_speed_0)"
   ]
  },
  {
   "cell_type": "code",
   "execution_count": 91,
   "id": "f9499f54",
   "metadata": {},
   "outputs": [],
   "source": [
    "indep_wind_tb6 = find_indep_oscillations(sbi_indices_tb6, impact_times_tb6, wind_data.index, wind_data.wind_speed_0)"
   ]
  },
  {
   "cell_type": "code",
   "execution_count": 92,
   "id": "b1c4a80d",
   "metadata": {},
   "outputs": [],
   "source": [
    "indep_wind_tb8 = find_indep_oscillations(sbi_indices_tb8, impact_times_tb8, wind_data.index, wind_data.wind_speed_0)"
   ]
  },
  {
   "cell_type": "code",
   "execution_count": 93,
   "id": "14e5d619",
   "metadata": {},
   "outputs": [],
   "source": [
    "indep_wind_tb10 = find_indep_oscillations(sbi_indices_tb10, impact_times_tb10, wind_data.index, wind_data.wind_speed_0)"
   ]
  },
  {
   "cell_type": "code",
   "execution_count": 94,
   "id": "0026e347",
   "metadata": {},
   "outputs": [],
   "source": [
    "indep_wind_tb11 = find_indep_oscillations(sbi_indices_tb11, impact_times_tb11, wind_data.index, wind_data.wind_speed_0)"
   ]
  },
  {
   "cell_type": "code",
   "execution_count": 95,
   "id": "186104e8",
   "metadata": {},
   "outputs": [],
   "source": [
    "indep_wind_tb12 = find_indep_oscillations(sbi_indices_tb12, impact_times_tb12, wind_data.index, wind_data.wind_speed_0)"
   ]
  },
  {
   "cell_type": "code",
   "execution_count": 96,
   "id": "2817a8f6",
   "metadata": {},
   "outputs": [],
   "source": [
    "indep_wind_tb14 = find_indep_oscillations(sbi_indices_tb14, impact_times_tb14, wind_data.index, wind_data.wind_speed_0)"
   ]
  },
  {
   "cell_type": "markdown",
   "id": "ad4aa9f0",
   "metadata": {},
   "source": [
    "# Block Maxima Deflection"
   ]
  },
  {
   "cell_type": "code",
   "execution_count": 97,
   "id": "2126fa74",
   "metadata": {},
   "outputs": [],
   "source": [
    "maxima_values_tb4= block_maxima(indep_deflection_tb4, sbi_start_tb4, impact_start_tb4)"
   ]
  },
  {
   "cell_type": "code",
   "execution_count": 98,
   "id": "0500a291",
   "metadata": {},
   "outputs": [],
   "source": [
    "maxima_values_tb5= block_maxima(indep_deflection_tb5, sbi_start_tb5, impact_start_tb5)"
   ]
  },
  {
   "cell_type": "code",
   "execution_count": 99,
   "id": "4798bfaa",
   "metadata": {},
   "outputs": [],
   "source": [
    "maxima_values_tb6= block_maxima(indep_deflection_tb6, sbi_start_tb6, impact_start_tb6)"
   ]
  },
  {
   "cell_type": "code",
   "execution_count": 100,
   "id": "70d962d6",
   "metadata": {},
   "outputs": [],
   "source": [
    "maxima_values_tb8= block_maxima(indep_deflection_tb8, sbi_start_tb8, impact_start_tb8)"
   ]
  },
  {
   "cell_type": "code",
   "execution_count": 101,
   "id": "8ea2382e",
   "metadata": {},
   "outputs": [],
   "source": [
    "maxima_values_tb10= block_maxima(indep_deflection_tb10, sbi_start_tb10, impact_start_tb10)"
   ]
  },
  {
   "cell_type": "code",
   "execution_count": 102,
   "id": "e3471fde",
   "metadata": {},
   "outputs": [],
   "source": [
    "maxima_values_tb11= block_maxima(indep_deflection_tb11, sbi_start_tb11, impact_start_tb11)"
   ]
  },
  {
   "cell_type": "code",
   "execution_count": 103,
   "id": "f9d657d0",
   "metadata": {},
   "outputs": [],
   "source": [
    "maxima_values_tb12= block_maxima(indep_deflection_tb12, sbi_start_tb12, impact_start_tb12)"
   ]
  },
  {
   "cell_type": "code",
   "execution_count": 104,
   "id": "8ed5670a",
   "metadata": {},
   "outputs": [],
   "source": [
    "maxima_values_tb14= block_maxima(indep_deflection_tb14, sbi_start_tb14, impact_start_tb14)"
   ]
  },
  {
   "cell_type": "markdown",
   "id": "8c3901b0",
   "metadata": {},
   "source": [
    "# Mean block wind speed"
   ]
  },
  {
   "cell_type": "code",
   "execution_count": 105,
   "id": "fd0566a9",
   "metadata": {},
   "outputs": [
    {
     "ename": "ValueError",
     "evalue": "range() arg 3 must not be zero",
     "output_type": "error",
     "traceback": [
      "\u001b[0;31m---------------------------------------------------------------------------\u001b[0m",
      "\u001b[0;31mValueError\u001b[0m                                Traceback (most recent call last)",
      "\u001b[0;32m<ipython-input-105-335236132f95>\u001b[0m in \u001b[0;36m<module>\u001b[0;34m\u001b[0m\n\u001b[0;32m----> 1\u001b[0;31m \u001b[0mmean_wind_tb4\u001b[0m\u001b[0;34m=\u001b[0m \u001b[0mblock_mean\u001b[0m\u001b[0;34m(\u001b[0m\u001b[0mindep_wind_tb4\u001b[0m\u001b[0;34m,\u001b[0m \u001b[0msbi_start_tb4\u001b[0m\u001b[0;34m,\u001b[0m \u001b[0mimpact_start_tb4\u001b[0m\u001b[0;34m)\u001b[0m\u001b[0;34m\u001b[0m\u001b[0;34m\u001b[0m\u001b[0m\n\u001b[0m",
      "\u001b[0;32m<ipython-input-31-dc7d5b529270>\u001b[0m in \u001b[0;36mblock_mean\u001b[0;34m(data, sbi_indices_start, first_impacts_start)\u001b[0m\n\u001b[1;32m     27\u001b[0m     \u001b[0mindep_blocks_wind\u001b[0m \u001b[0;34m=\u001b[0m \u001b[0;34m[\u001b[0m\u001b[0;34m]\u001b[0m\u001b[0;34m\u001b[0m\u001b[0;34m\u001b[0m\u001b[0m\n\u001b[1;32m     28\u001b[0m     \u001b[0;32mfor\u001b[0m \u001b[0mi\u001b[0m \u001b[0;32min\u001b[0m \u001b[0mrange\u001b[0m\u001b[0;34m(\u001b[0m\u001b[0mlen\u001b[0m\u001b[0;34m(\u001b[0m\u001b[0msbi_indices_start\u001b[0m\u001b[0;34m)\u001b[0m\u001b[0;34m)\u001b[0m\u001b[0;34m:\u001b[0m\u001b[0;34m\u001b[0m\u001b[0;34m\u001b[0m\u001b[0m\n\u001b[0;32m---> 29\u001b[0;31m         \u001b[0mindep_blocks_wind\u001b[0m\u001b[0;34m.\u001b[0m\u001b[0mappend\u001b[0m\u001b[0;34m(\u001b[0m\u001b[0mlist\u001b[0m\u001b[0;34m(\u001b[0m\u001b[0mdivide_chunks\u001b[0m\u001b[0;34m(\u001b[0m\u001b[0mdata\u001b[0m\u001b[0;34m[\u001b[0m\u001b[0mi\u001b[0m\u001b[0;34m]\u001b[0m\u001b[0;34m,\u001b[0m \u001b[0mchunk_size_wind\u001b[0m\u001b[0;34m)\u001b[0m\u001b[0;34m)\u001b[0m\u001b[0;34m)\u001b[0m\u001b[0;34m\u001b[0m\u001b[0;34m\u001b[0m\u001b[0m\n\u001b[0m\u001b[1;32m     30\u001b[0m \u001b[0;34m\u001b[0m\u001b[0m\n\u001b[1;32m     31\u001b[0m \u001b[0;34m\u001b[0m\u001b[0m\n",
      "\u001b[0;32m<ipython-input-27-dba3c028e42a>\u001b[0m in \u001b[0;36mdivide_chunks\u001b[0;34m(lst, n)\u001b[0m\n\u001b[1;32m      1\u001b[0m \u001b[0;32mdef\u001b[0m \u001b[0mdivide_chunks\u001b[0m\u001b[0;34m(\u001b[0m\u001b[0mlst\u001b[0m\u001b[0;34m,\u001b[0m \u001b[0mn\u001b[0m\u001b[0;34m)\u001b[0m\u001b[0;34m:\u001b[0m\u001b[0;34m\u001b[0m\u001b[0;34m\u001b[0m\u001b[0m\n\u001b[1;32m      2\u001b[0m     \u001b[0;31m#Yield successive n-sized chunks from lst.\u001b[0m\u001b[0;34m\u001b[0m\u001b[0;34m\u001b[0m\u001b[0;34m\u001b[0m\u001b[0m\n\u001b[0;32m----> 3\u001b[0;31m     \u001b[0;32mfor\u001b[0m \u001b[0mi\u001b[0m \u001b[0;32min\u001b[0m \u001b[0mrange\u001b[0m\u001b[0;34m(\u001b[0m\u001b[0;36m0\u001b[0m\u001b[0;34m,\u001b[0m \u001b[0mlen\u001b[0m\u001b[0;34m(\u001b[0m\u001b[0mlst\u001b[0m\u001b[0;34m)\u001b[0m\u001b[0;34m,\u001b[0m \u001b[0mn\u001b[0m\u001b[0;34m)\u001b[0m\u001b[0;34m:\u001b[0m\u001b[0;34m\u001b[0m\u001b[0;34m\u001b[0m\u001b[0m\n\u001b[0m\u001b[1;32m      4\u001b[0m         \u001b[0;32myield\u001b[0m \u001b[0mlst\u001b[0m\u001b[0;34m[\u001b[0m\u001b[0mi\u001b[0m\u001b[0;34m:\u001b[0m\u001b[0mi\u001b[0m \u001b[0;34m+\u001b[0m \u001b[0mn\u001b[0m\u001b[0;34m]\u001b[0m\u001b[0;34m\u001b[0m\u001b[0;34m\u001b[0m\u001b[0m\n",
      "\u001b[0;31mValueError\u001b[0m: range() arg 3 must not be zero"
     ]
    }
   ],
   "source": [
    "mean_wind_tb4= block_mean(indep_wind_tb4, sbi_start_tb4, impact_start_tb4)"
   ]
  },
  {
   "cell_type": "code",
   "execution_count": 106,
   "id": "1b1296d3",
   "metadata": {},
   "outputs": [
    {
     "ename": "ValueError",
     "evalue": "range() arg 3 must not be zero",
     "output_type": "error",
     "traceback": [
      "\u001b[0;31m---------------------------------------------------------------------------\u001b[0m",
      "\u001b[0;31mValueError\u001b[0m                                Traceback (most recent call last)",
      "\u001b[0;32m<ipython-input-106-193a58613322>\u001b[0m in \u001b[0;36m<module>\u001b[0;34m\u001b[0m\n\u001b[0;32m----> 1\u001b[0;31m \u001b[0mmean_wind_tb5\u001b[0m\u001b[0;34m=\u001b[0m \u001b[0mblock_mean\u001b[0m\u001b[0;34m(\u001b[0m\u001b[0mindep_wind_tb5\u001b[0m\u001b[0;34m,\u001b[0m \u001b[0msbi_start_tb5\u001b[0m\u001b[0;34m,\u001b[0m \u001b[0mimpact_start_tb5\u001b[0m\u001b[0;34m)\u001b[0m\u001b[0;34m\u001b[0m\u001b[0;34m\u001b[0m\u001b[0m\n\u001b[0m",
      "\u001b[0;32m<ipython-input-31-dc7d5b529270>\u001b[0m in \u001b[0;36mblock_mean\u001b[0;34m(data, sbi_indices_start, first_impacts_start)\u001b[0m\n\u001b[1;32m     27\u001b[0m     \u001b[0mindep_blocks_wind\u001b[0m \u001b[0;34m=\u001b[0m \u001b[0;34m[\u001b[0m\u001b[0;34m]\u001b[0m\u001b[0;34m\u001b[0m\u001b[0;34m\u001b[0m\u001b[0m\n\u001b[1;32m     28\u001b[0m     \u001b[0;32mfor\u001b[0m \u001b[0mi\u001b[0m \u001b[0;32min\u001b[0m \u001b[0mrange\u001b[0m\u001b[0;34m(\u001b[0m\u001b[0mlen\u001b[0m\u001b[0;34m(\u001b[0m\u001b[0msbi_indices_start\u001b[0m\u001b[0;34m)\u001b[0m\u001b[0;34m)\u001b[0m\u001b[0;34m:\u001b[0m\u001b[0;34m\u001b[0m\u001b[0;34m\u001b[0m\u001b[0m\n\u001b[0;32m---> 29\u001b[0;31m         \u001b[0mindep_blocks_wind\u001b[0m\u001b[0;34m.\u001b[0m\u001b[0mappend\u001b[0m\u001b[0;34m(\u001b[0m\u001b[0mlist\u001b[0m\u001b[0;34m(\u001b[0m\u001b[0mdivide_chunks\u001b[0m\u001b[0;34m(\u001b[0m\u001b[0mdata\u001b[0m\u001b[0;34m[\u001b[0m\u001b[0mi\u001b[0m\u001b[0;34m]\u001b[0m\u001b[0;34m,\u001b[0m \u001b[0mchunk_size_wind\u001b[0m\u001b[0;34m)\u001b[0m\u001b[0;34m)\u001b[0m\u001b[0;34m)\u001b[0m\u001b[0;34m\u001b[0m\u001b[0;34m\u001b[0m\u001b[0m\n\u001b[0m\u001b[1;32m     30\u001b[0m \u001b[0;34m\u001b[0m\u001b[0m\n\u001b[1;32m     31\u001b[0m \u001b[0;34m\u001b[0m\u001b[0m\n",
      "\u001b[0;32m<ipython-input-27-dba3c028e42a>\u001b[0m in \u001b[0;36mdivide_chunks\u001b[0;34m(lst, n)\u001b[0m\n\u001b[1;32m      1\u001b[0m \u001b[0;32mdef\u001b[0m \u001b[0mdivide_chunks\u001b[0m\u001b[0;34m(\u001b[0m\u001b[0mlst\u001b[0m\u001b[0;34m,\u001b[0m \u001b[0mn\u001b[0m\u001b[0;34m)\u001b[0m\u001b[0;34m:\u001b[0m\u001b[0;34m\u001b[0m\u001b[0;34m\u001b[0m\u001b[0m\n\u001b[1;32m      2\u001b[0m     \u001b[0;31m#Yield successive n-sized chunks from lst.\u001b[0m\u001b[0;34m\u001b[0m\u001b[0;34m\u001b[0m\u001b[0;34m\u001b[0m\u001b[0m\n\u001b[0;32m----> 3\u001b[0;31m     \u001b[0;32mfor\u001b[0m \u001b[0mi\u001b[0m \u001b[0;32min\u001b[0m \u001b[0mrange\u001b[0m\u001b[0;34m(\u001b[0m\u001b[0;36m0\u001b[0m\u001b[0;34m,\u001b[0m \u001b[0mlen\u001b[0m\u001b[0;34m(\u001b[0m\u001b[0mlst\u001b[0m\u001b[0;34m)\u001b[0m\u001b[0;34m,\u001b[0m \u001b[0mn\u001b[0m\u001b[0;34m)\u001b[0m\u001b[0;34m:\u001b[0m\u001b[0;34m\u001b[0m\u001b[0;34m\u001b[0m\u001b[0m\n\u001b[0m\u001b[1;32m      4\u001b[0m         \u001b[0;32myield\u001b[0m \u001b[0mlst\u001b[0m\u001b[0;34m[\u001b[0m\u001b[0mi\u001b[0m\u001b[0;34m:\u001b[0m\u001b[0mi\u001b[0m \u001b[0;34m+\u001b[0m \u001b[0mn\u001b[0m\u001b[0;34m]\u001b[0m\u001b[0;34m\u001b[0m\u001b[0;34m\u001b[0m\u001b[0m\n",
      "\u001b[0;31mValueError\u001b[0m: range() arg 3 must not be zero"
     ]
    }
   ],
   "source": [
    "mean_wind_tb5= block_mean(indep_wind_tb5, sbi_start_tb5, impact_start_tb5)"
   ]
  },
  {
   "cell_type": "code",
   "execution_count": 107,
   "id": "e6be97f2",
   "metadata": {},
   "outputs": [
    {
     "ename": "ValueError",
     "evalue": "range() arg 3 must not be zero",
     "output_type": "error",
     "traceback": [
      "\u001b[0;31m---------------------------------------------------------------------------\u001b[0m",
      "\u001b[0;31mValueError\u001b[0m                                Traceback (most recent call last)",
      "\u001b[0;32m<ipython-input-107-751edffe4d33>\u001b[0m in \u001b[0;36m<module>\u001b[0;34m\u001b[0m\n\u001b[0;32m----> 1\u001b[0;31m \u001b[0mmean_wind_tb6\u001b[0m\u001b[0;34m=\u001b[0m \u001b[0mblock_mean\u001b[0m\u001b[0;34m(\u001b[0m\u001b[0mindep_wind_tb6\u001b[0m\u001b[0;34m,\u001b[0m \u001b[0msbi_start_tb6\u001b[0m\u001b[0;34m,\u001b[0m \u001b[0mimpact_start_tb6\u001b[0m\u001b[0;34m)\u001b[0m\u001b[0;34m\u001b[0m\u001b[0;34m\u001b[0m\u001b[0m\n\u001b[0m",
      "\u001b[0;32m<ipython-input-31-dc7d5b529270>\u001b[0m in \u001b[0;36mblock_mean\u001b[0;34m(data, sbi_indices_start, first_impacts_start)\u001b[0m\n\u001b[1;32m     27\u001b[0m     \u001b[0mindep_blocks_wind\u001b[0m \u001b[0;34m=\u001b[0m \u001b[0;34m[\u001b[0m\u001b[0;34m]\u001b[0m\u001b[0;34m\u001b[0m\u001b[0;34m\u001b[0m\u001b[0m\n\u001b[1;32m     28\u001b[0m     \u001b[0;32mfor\u001b[0m \u001b[0mi\u001b[0m \u001b[0;32min\u001b[0m \u001b[0mrange\u001b[0m\u001b[0;34m(\u001b[0m\u001b[0mlen\u001b[0m\u001b[0;34m(\u001b[0m\u001b[0msbi_indices_start\u001b[0m\u001b[0;34m)\u001b[0m\u001b[0;34m)\u001b[0m\u001b[0;34m:\u001b[0m\u001b[0;34m\u001b[0m\u001b[0;34m\u001b[0m\u001b[0m\n\u001b[0;32m---> 29\u001b[0;31m         \u001b[0mindep_blocks_wind\u001b[0m\u001b[0;34m.\u001b[0m\u001b[0mappend\u001b[0m\u001b[0;34m(\u001b[0m\u001b[0mlist\u001b[0m\u001b[0;34m(\u001b[0m\u001b[0mdivide_chunks\u001b[0m\u001b[0;34m(\u001b[0m\u001b[0mdata\u001b[0m\u001b[0;34m[\u001b[0m\u001b[0mi\u001b[0m\u001b[0;34m]\u001b[0m\u001b[0;34m,\u001b[0m \u001b[0mchunk_size_wind\u001b[0m\u001b[0;34m)\u001b[0m\u001b[0;34m)\u001b[0m\u001b[0;34m)\u001b[0m\u001b[0;34m\u001b[0m\u001b[0;34m\u001b[0m\u001b[0m\n\u001b[0m\u001b[1;32m     30\u001b[0m \u001b[0;34m\u001b[0m\u001b[0m\n\u001b[1;32m     31\u001b[0m \u001b[0;34m\u001b[0m\u001b[0m\n",
      "\u001b[0;32m<ipython-input-27-dba3c028e42a>\u001b[0m in \u001b[0;36mdivide_chunks\u001b[0;34m(lst, n)\u001b[0m\n\u001b[1;32m      1\u001b[0m \u001b[0;32mdef\u001b[0m \u001b[0mdivide_chunks\u001b[0m\u001b[0;34m(\u001b[0m\u001b[0mlst\u001b[0m\u001b[0;34m,\u001b[0m \u001b[0mn\u001b[0m\u001b[0;34m)\u001b[0m\u001b[0;34m:\u001b[0m\u001b[0;34m\u001b[0m\u001b[0;34m\u001b[0m\u001b[0m\n\u001b[1;32m      2\u001b[0m     \u001b[0;31m#Yield successive n-sized chunks from lst.\u001b[0m\u001b[0;34m\u001b[0m\u001b[0;34m\u001b[0m\u001b[0;34m\u001b[0m\u001b[0m\n\u001b[0;32m----> 3\u001b[0;31m     \u001b[0;32mfor\u001b[0m \u001b[0mi\u001b[0m \u001b[0;32min\u001b[0m \u001b[0mrange\u001b[0m\u001b[0;34m(\u001b[0m\u001b[0;36m0\u001b[0m\u001b[0;34m,\u001b[0m \u001b[0mlen\u001b[0m\u001b[0;34m(\u001b[0m\u001b[0mlst\u001b[0m\u001b[0;34m)\u001b[0m\u001b[0;34m,\u001b[0m \u001b[0mn\u001b[0m\u001b[0;34m)\u001b[0m\u001b[0;34m:\u001b[0m\u001b[0;34m\u001b[0m\u001b[0;34m\u001b[0m\u001b[0m\n\u001b[0m\u001b[1;32m      4\u001b[0m         \u001b[0;32myield\u001b[0m \u001b[0mlst\u001b[0m\u001b[0;34m[\u001b[0m\u001b[0mi\u001b[0m\u001b[0;34m:\u001b[0m\u001b[0mi\u001b[0m \u001b[0;34m+\u001b[0m \u001b[0mn\u001b[0m\u001b[0;34m]\u001b[0m\u001b[0;34m\u001b[0m\u001b[0;34m\u001b[0m\u001b[0m\n",
      "\u001b[0;31mValueError\u001b[0m: range() arg 3 must not be zero"
     ]
    }
   ],
   "source": [
    "mean_wind_tb6= block_mean(indep_wind_tb6, sbi_start_tb6, impact_start_tb6)"
   ]
  },
  {
   "cell_type": "code",
   "execution_count": 108,
   "id": "107fa927",
   "metadata": {},
   "outputs": [
    {
     "ename": "IndexError",
     "evalue": "tuple index out of range",
     "output_type": "error",
     "traceback": [
      "\u001b[0;31m---------------------------------------------------------------------------\u001b[0m",
      "\u001b[0;31mIndexError\u001b[0m                                Traceback (most recent call last)",
      "\u001b[0;32m<ipython-input-108-25d417a15030>\u001b[0m in \u001b[0;36m<module>\u001b[0;34m\u001b[0m\n\u001b[0;32m----> 1\u001b[0;31m \u001b[0mmean_wind_tb8\u001b[0m\u001b[0;34m=\u001b[0m \u001b[0mblock_mean\u001b[0m\u001b[0;34m(\u001b[0m\u001b[0mindep_wind_tb8\u001b[0m\u001b[0;34m,\u001b[0m \u001b[0msbi_start_tb8\u001b[0m\u001b[0;34m,\u001b[0m \u001b[0mimpact_start_tb8\u001b[0m\u001b[0;34m)\u001b[0m\u001b[0;34m\u001b[0m\u001b[0;34m\u001b[0m\u001b[0m\n\u001b[0m",
      "\u001b[0;32m<ipython-input-31-dc7d5b529270>\u001b[0m in \u001b[0;36mblock_mean\u001b[0;34m(data, sbi_indices_start, first_impacts_start)\u001b[0m\n\u001b[1;32m     15\u001b[0m     \u001b[0mchunk_size_wind\u001b[0m \u001b[0;34m=\u001b[0m \u001b[0;34m[\u001b[0m\u001b[0;34m]\u001b[0m\u001b[0;34m\u001b[0m\u001b[0;34m\u001b[0m\u001b[0m\n\u001b[1;32m     16\u001b[0m     \u001b[0;32mfor\u001b[0m \u001b[0mi\u001b[0m \u001b[0;32min\u001b[0m \u001b[0mrange\u001b[0m\u001b[0;34m(\u001b[0m\u001b[0mlen\u001b[0m\u001b[0;34m(\u001b[0m\u001b[0msbi_indices_start\u001b[0m\u001b[0;34m)\u001b[0m\u001b[0;34m)\u001b[0m\u001b[0;34m:\u001b[0m\u001b[0;34m\u001b[0m\u001b[0;34m\u001b[0m\u001b[0m\n\u001b[0;32m---> 17\u001b[0;31m         \u001b[0mchunk_size_wind\u001b[0m\u001b[0;34m.\u001b[0m\u001b[0mappend\u001b[0m\u001b[0;34m(\u001b[0m\u001b[0mlen\u001b[0m\u001b[0;34m(\u001b[0m\u001b[0mdata\u001b[0m\u001b[0;34m[\u001b[0m\u001b[0mi\u001b[0m\u001b[0;34m]\u001b[0m\u001b[0;34m)\u001b[0m\u001b[0;34m/\u001b[0m \u001b[0mnum_chunks\u001b[0m\u001b[0;34m[\u001b[0m\u001b[0mi\u001b[0m\u001b[0;34m]\u001b[0m\u001b[0;34m)\u001b[0m\u001b[0;34m\u001b[0m\u001b[0;34m\u001b[0m\u001b[0m\n\u001b[0m\u001b[1;32m     18\u001b[0m         \u001b[0mchunk_size_wind\u001b[0m\u001b[0;34m[\u001b[0m\u001b[0mi\u001b[0m\u001b[0;34m]\u001b[0m \u001b[0;34m=\u001b[0m \u001b[0mmath\u001b[0m\u001b[0;34m.\u001b[0m\u001b[0mfloor\u001b[0m\u001b[0;34m(\u001b[0m\u001b[0mchunk_size_wind\u001b[0m\u001b[0;34m[\u001b[0m\u001b[0mi\u001b[0m\u001b[0;34m]\u001b[0m\u001b[0;34m)\u001b[0m\u001b[0;34m\u001b[0m\u001b[0;34m\u001b[0m\u001b[0m\n\u001b[1;32m     19\u001b[0m         \u001b[0;31m#chunk_size_wind[i] = math.ceil(chunk_size_wind[i])\u001b[0m\u001b[0;34m\u001b[0m\u001b[0;34m\u001b[0m\u001b[0;34m\u001b[0m\u001b[0m\n",
      "\u001b[0;31mIndexError\u001b[0m: tuple index out of range"
     ]
    }
   ],
   "source": [
    "mean_wind_tb8= block_mean(indep_wind_tb8, sbi_start_tb8, impact_start_tb8)"
   ]
  },
  {
   "cell_type": "code",
   "execution_count": 109,
   "id": "d8c7c1c8",
   "metadata": {},
   "outputs": [
    {
     "ename": "ValueError",
     "evalue": "range() arg 3 must not be zero",
     "output_type": "error",
     "traceback": [
      "\u001b[0;31m---------------------------------------------------------------------------\u001b[0m",
      "\u001b[0;31mValueError\u001b[0m                                Traceback (most recent call last)",
      "\u001b[0;32m<ipython-input-109-b6298afdf9c0>\u001b[0m in \u001b[0;36m<module>\u001b[0;34m\u001b[0m\n\u001b[0;32m----> 1\u001b[0;31m \u001b[0mmean_wind_tb10\u001b[0m\u001b[0;34m=\u001b[0m \u001b[0mblock_mean\u001b[0m\u001b[0;34m(\u001b[0m\u001b[0mindep_wind_tb10\u001b[0m\u001b[0;34m,\u001b[0m \u001b[0msbi_start_tb10\u001b[0m\u001b[0;34m,\u001b[0m \u001b[0mimpact_start_tb10\u001b[0m\u001b[0;34m)\u001b[0m\u001b[0;34m\u001b[0m\u001b[0;34m\u001b[0m\u001b[0m\n\u001b[0m",
      "\u001b[0;32m<ipython-input-31-dc7d5b529270>\u001b[0m in \u001b[0;36mblock_mean\u001b[0;34m(data, sbi_indices_start, first_impacts_start)\u001b[0m\n\u001b[1;32m     27\u001b[0m     \u001b[0mindep_blocks_wind\u001b[0m \u001b[0;34m=\u001b[0m \u001b[0;34m[\u001b[0m\u001b[0;34m]\u001b[0m\u001b[0;34m\u001b[0m\u001b[0;34m\u001b[0m\u001b[0m\n\u001b[1;32m     28\u001b[0m     \u001b[0;32mfor\u001b[0m \u001b[0mi\u001b[0m \u001b[0;32min\u001b[0m \u001b[0mrange\u001b[0m\u001b[0;34m(\u001b[0m\u001b[0mlen\u001b[0m\u001b[0;34m(\u001b[0m\u001b[0msbi_indices_start\u001b[0m\u001b[0;34m)\u001b[0m\u001b[0;34m)\u001b[0m\u001b[0;34m:\u001b[0m\u001b[0;34m\u001b[0m\u001b[0;34m\u001b[0m\u001b[0m\n\u001b[0;32m---> 29\u001b[0;31m         \u001b[0mindep_blocks_wind\u001b[0m\u001b[0;34m.\u001b[0m\u001b[0mappend\u001b[0m\u001b[0;34m(\u001b[0m\u001b[0mlist\u001b[0m\u001b[0;34m(\u001b[0m\u001b[0mdivide_chunks\u001b[0m\u001b[0;34m(\u001b[0m\u001b[0mdata\u001b[0m\u001b[0;34m[\u001b[0m\u001b[0mi\u001b[0m\u001b[0;34m]\u001b[0m\u001b[0;34m,\u001b[0m \u001b[0mchunk_size_wind\u001b[0m\u001b[0;34m)\u001b[0m\u001b[0;34m)\u001b[0m\u001b[0;34m)\u001b[0m\u001b[0;34m\u001b[0m\u001b[0;34m\u001b[0m\u001b[0m\n\u001b[0m\u001b[1;32m     30\u001b[0m \u001b[0;34m\u001b[0m\u001b[0m\n\u001b[1;32m     31\u001b[0m \u001b[0;34m\u001b[0m\u001b[0m\n",
      "\u001b[0;32m<ipython-input-27-dba3c028e42a>\u001b[0m in \u001b[0;36mdivide_chunks\u001b[0;34m(lst, n)\u001b[0m\n\u001b[1;32m      1\u001b[0m \u001b[0;32mdef\u001b[0m \u001b[0mdivide_chunks\u001b[0m\u001b[0;34m(\u001b[0m\u001b[0mlst\u001b[0m\u001b[0;34m,\u001b[0m \u001b[0mn\u001b[0m\u001b[0;34m)\u001b[0m\u001b[0;34m:\u001b[0m\u001b[0;34m\u001b[0m\u001b[0;34m\u001b[0m\u001b[0m\n\u001b[1;32m      2\u001b[0m     \u001b[0;31m#Yield successive n-sized chunks from lst.\u001b[0m\u001b[0;34m\u001b[0m\u001b[0;34m\u001b[0m\u001b[0;34m\u001b[0m\u001b[0m\n\u001b[0;32m----> 3\u001b[0;31m     \u001b[0;32mfor\u001b[0m \u001b[0mi\u001b[0m \u001b[0;32min\u001b[0m \u001b[0mrange\u001b[0m\u001b[0;34m(\u001b[0m\u001b[0;36m0\u001b[0m\u001b[0;34m,\u001b[0m \u001b[0mlen\u001b[0m\u001b[0;34m(\u001b[0m\u001b[0mlst\u001b[0m\u001b[0;34m)\u001b[0m\u001b[0;34m,\u001b[0m \u001b[0mn\u001b[0m\u001b[0;34m)\u001b[0m\u001b[0;34m:\u001b[0m\u001b[0;34m\u001b[0m\u001b[0;34m\u001b[0m\u001b[0m\n\u001b[0m\u001b[1;32m      4\u001b[0m         \u001b[0;32myield\u001b[0m \u001b[0mlst\u001b[0m\u001b[0;34m[\u001b[0m\u001b[0mi\u001b[0m\u001b[0;34m:\u001b[0m\u001b[0mi\u001b[0m \u001b[0;34m+\u001b[0m \u001b[0mn\u001b[0m\u001b[0;34m]\u001b[0m\u001b[0;34m\u001b[0m\u001b[0;34m\u001b[0m\u001b[0m\n",
      "\u001b[0;31mValueError\u001b[0m: range() arg 3 must not be zero"
     ]
    }
   ],
   "source": [
    "mean_wind_tb10= block_mean(indep_wind_tb10, sbi_start_tb10, impact_start_tb10)"
   ]
  },
  {
   "cell_type": "code",
   "execution_count": 110,
   "id": "952047c3",
   "metadata": {},
   "outputs": [
    {
     "ename": "ValueError",
     "evalue": "range() arg 3 must not be zero",
     "output_type": "error",
     "traceback": [
      "\u001b[0;31m---------------------------------------------------------------------------\u001b[0m",
      "\u001b[0;31mValueError\u001b[0m                                Traceback (most recent call last)",
      "\u001b[0;32m<ipython-input-110-73cc4197c58e>\u001b[0m in \u001b[0;36m<module>\u001b[0;34m\u001b[0m\n\u001b[0;32m----> 1\u001b[0;31m \u001b[0mmean_wind_tb11\u001b[0m\u001b[0;34m=\u001b[0m \u001b[0mblock_mean\u001b[0m\u001b[0;34m(\u001b[0m\u001b[0mindep_wind_tb11\u001b[0m\u001b[0;34m,\u001b[0m \u001b[0msbi_start_tb11\u001b[0m\u001b[0;34m,\u001b[0m \u001b[0mimpact_start_tb11\u001b[0m\u001b[0;34m)\u001b[0m\u001b[0;34m\u001b[0m\u001b[0;34m\u001b[0m\u001b[0m\n\u001b[0m",
      "\u001b[0;32m<ipython-input-31-dc7d5b529270>\u001b[0m in \u001b[0;36mblock_mean\u001b[0;34m(data, sbi_indices_start, first_impacts_start)\u001b[0m\n\u001b[1;32m     27\u001b[0m     \u001b[0mindep_blocks_wind\u001b[0m \u001b[0;34m=\u001b[0m \u001b[0;34m[\u001b[0m\u001b[0;34m]\u001b[0m\u001b[0;34m\u001b[0m\u001b[0;34m\u001b[0m\u001b[0m\n\u001b[1;32m     28\u001b[0m     \u001b[0;32mfor\u001b[0m \u001b[0mi\u001b[0m \u001b[0;32min\u001b[0m \u001b[0mrange\u001b[0m\u001b[0;34m(\u001b[0m\u001b[0mlen\u001b[0m\u001b[0;34m(\u001b[0m\u001b[0msbi_indices_start\u001b[0m\u001b[0;34m)\u001b[0m\u001b[0;34m)\u001b[0m\u001b[0;34m:\u001b[0m\u001b[0;34m\u001b[0m\u001b[0;34m\u001b[0m\u001b[0m\n\u001b[0;32m---> 29\u001b[0;31m         \u001b[0mindep_blocks_wind\u001b[0m\u001b[0;34m.\u001b[0m\u001b[0mappend\u001b[0m\u001b[0;34m(\u001b[0m\u001b[0mlist\u001b[0m\u001b[0;34m(\u001b[0m\u001b[0mdivide_chunks\u001b[0m\u001b[0;34m(\u001b[0m\u001b[0mdata\u001b[0m\u001b[0;34m[\u001b[0m\u001b[0mi\u001b[0m\u001b[0;34m]\u001b[0m\u001b[0;34m,\u001b[0m \u001b[0mchunk_size_wind\u001b[0m\u001b[0;34m)\u001b[0m\u001b[0;34m)\u001b[0m\u001b[0;34m)\u001b[0m\u001b[0;34m\u001b[0m\u001b[0;34m\u001b[0m\u001b[0m\n\u001b[0m\u001b[1;32m     30\u001b[0m \u001b[0;34m\u001b[0m\u001b[0m\n\u001b[1;32m     31\u001b[0m \u001b[0;34m\u001b[0m\u001b[0m\n",
      "\u001b[0;32m<ipython-input-27-dba3c028e42a>\u001b[0m in \u001b[0;36mdivide_chunks\u001b[0;34m(lst, n)\u001b[0m\n\u001b[1;32m      1\u001b[0m \u001b[0;32mdef\u001b[0m \u001b[0mdivide_chunks\u001b[0m\u001b[0;34m(\u001b[0m\u001b[0mlst\u001b[0m\u001b[0;34m,\u001b[0m \u001b[0mn\u001b[0m\u001b[0;34m)\u001b[0m\u001b[0;34m:\u001b[0m\u001b[0;34m\u001b[0m\u001b[0;34m\u001b[0m\u001b[0m\n\u001b[1;32m      2\u001b[0m     \u001b[0;31m#Yield successive n-sized chunks from lst.\u001b[0m\u001b[0;34m\u001b[0m\u001b[0;34m\u001b[0m\u001b[0;34m\u001b[0m\u001b[0m\n\u001b[0;32m----> 3\u001b[0;31m     \u001b[0;32mfor\u001b[0m \u001b[0mi\u001b[0m \u001b[0;32min\u001b[0m \u001b[0mrange\u001b[0m\u001b[0;34m(\u001b[0m\u001b[0;36m0\u001b[0m\u001b[0;34m,\u001b[0m \u001b[0mlen\u001b[0m\u001b[0;34m(\u001b[0m\u001b[0mlst\u001b[0m\u001b[0;34m)\u001b[0m\u001b[0;34m,\u001b[0m \u001b[0mn\u001b[0m\u001b[0;34m)\u001b[0m\u001b[0;34m:\u001b[0m\u001b[0;34m\u001b[0m\u001b[0;34m\u001b[0m\u001b[0m\n\u001b[0m\u001b[1;32m      4\u001b[0m         \u001b[0;32myield\u001b[0m \u001b[0mlst\u001b[0m\u001b[0;34m[\u001b[0m\u001b[0mi\u001b[0m\u001b[0;34m:\u001b[0m\u001b[0mi\u001b[0m \u001b[0;34m+\u001b[0m \u001b[0mn\u001b[0m\u001b[0;34m]\u001b[0m\u001b[0;34m\u001b[0m\u001b[0;34m\u001b[0m\u001b[0m\n",
      "\u001b[0;31mValueError\u001b[0m: range() arg 3 must not be zero"
     ]
    }
   ],
   "source": [
    "mean_wind_tb11= block_mean(indep_wind_tb11, sbi_start_tb11, impact_start_tb11)"
   ]
  },
  {
   "cell_type": "code",
   "execution_count": 111,
   "id": "79ba18fd",
   "metadata": {},
   "outputs": [
    {
     "ename": "ValueError",
     "evalue": "range() arg 3 must not be zero",
     "output_type": "error",
     "traceback": [
      "\u001b[0;31m---------------------------------------------------------------------------\u001b[0m",
      "\u001b[0;31mValueError\u001b[0m                                Traceback (most recent call last)",
      "\u001b[0;32m<ipython-input-111-ff438ad5c8de>\u001b[0m in \u001b[0;36m<module>\u001b[0;34m\u001b[0m\n\u001b[0;32m----> 1\u001b[0;31m \u001b[0mmean_wind_tb12\u001b[0m\u001b[0;34m=\u001b[0m \u001b[0mblock_mean\u001b[0m\u001b[0;34m(\u001b[0m\u001b[0mindep_wind_tb12\u001b[0m\u001b[0;34m,\u001b[0m \u001b[0msbi_start_tb12\u001b[0m\u001b[0;34m,\u001b[0m \u001b[0mimpact_start_tb12\u001b[0m\u001b[0;34m)\u001b[0m\u001b[0;34m\u001b[0m\u001b[0;34m\u001b[0m\u001b[0m\n\u001b[0m",
      "\u001b[0;32m<ipython-input-31-dc7d5b529270>\u001b[0m in \u001b[0;36mblock_mean\u001b[0;34m(data, sbi_indices_start, first_impacts_start)\u001b[0m\n\u001b[1;32m     27\u001b[0m     \u001b[0mindep_blocks_wind\u001b[0m \u001b[0;34m=\u001b[0m \u001b[0;34m[\u001b[0m\u001b[0;34m]\u001b[0m\u001b[0;34m\u001b[0m\u001b[0;34m\u001b[0m\u001b[0m\n\u001b[1;32m     28\u001b[0m     \u001b[0;32mfor\u001b[0m \u001b[0mi\u001b[0m \u001b[0;32min\u001b[0m \u001b[0mrange\u001b[0m\u001b[0;34m(\u001b[0m\u001b[0mlen\u001b[0m\u001b[0;34m(\u001b[0m\u001b[0msbi_indices_start\u001b[0m\u001b[0;34m)\u001b[0m\u001b[0;34m)\u001b[0m\u001b[0;34m:\u001b[0m\u001b[0;34m\u001b[0m\u001b[0;34m\u001b[0m\u001b[0m\n\u001b[0;32m---> 29\u001b[0;31m         \u001b[0mindep_blocks_wind\u001b[0m\u001b[0;34m.\u001b[0m\u001b[0mappend\u001b[0m\u001b[0;34m(\u001b[0m\u001b[0mlist\u001b[0m\u001b[0;34m(\u001b[0m\u001b[0mdivide_chunks\u001b[0m\u001b[0;34m(\u001b[0m\u001b[0mdata\u001b[0m\u001b[0;34m[\u001b[0m\u001b[0mi\u001b[0m\u001b[0;34m]\u001b[0m\u001b[0;34m,\u001b[0m \u001b[0mchunk_size_wind\u001b[0m\u001b[0;34m)\u001b[0m\u001b[0;34m)\u001b[0m\u001b[0;34m)\u001b[0m\u001b[0;34m\u001b[0m\u001b[0;34m\u001b[0m\u001b[0m\n\u001b[0m\u001b[1;32m     30\u001b[0m \u001b[0;34m\u001b[0m\u001b[0m\n\u001b[1;32m     31\u001b[0m \u001b[0;34m\u001b[0m\u001b[0m\n",
      "\u001b[0;32m<ipython-input-27-dba3c028e42a>\u001b[0m in \u001b[0;36mdivide_chunks\u001b[0;34m(lst, n)\u001b[0m\n\u001b[1;32m      1\u001b[0m \u001b[0;32mdef\u001b[0m \u001b[0mdivide_chunks\u001b[0m\u001b[0;34m(\u001b[0m\u001b[0mlst\u001b[0m\u001b[0;34m,\u001b[0m \u001b[0mn\u001b[0m\u001b[0;34m)\u001b[0m\u001b[0;34m:\u001b[0m\u001b[0;34m\u001b[0m\u001b[0;34m\u001b[0m\u001b[0m\n\u001b[1;32m      2\u001b[0m     \u001b[0;31m#Yield successive n-sized chunks from lst.\u001b[0m\u001b[0;34m\u001b[0m\u001b[0;34m\u001b[0m\u001b[0;34m\u001b[0m\u001b[0m\n\u001b[0;32m----> 3\u001b[0;31m     \u001b[0;32mfor\u001b[0m \u001b[0mi\u001b[0m \u001b[0;32min\u001b[0m \u001b[0mrange\u001b[0m\u001b[0;34m(\u001b[0m\u001b[0;36m0\u001b[0m\u001b[0;34m,\u001b[0m \u001b[0mlen\u001b[0m\u001b[0;34m(\u001b[0m\u001b[0mlst\u001b[0m\u001b[0;34m)\u001b[0m\u001b[0;34m,\u001b[0m \u001b[0mn\u001b[0m\u001b[0;34m)\u001b[0m\u001b[0;34m:\u001b[0m\u001b[0;34m\u001b[0m\u001b[0;34m\u001b[0m\u001b[0m\n\u001b[0m\u001b[1;32m      4\u001b[0m         \u001b[0;32myield\u001b[0m \u001b[0mlst\u001b[0m\u001b[0;34m[\u001b[0m\u001b[0mi\u001b[0m\u001b[0;34m:\u001b[0m\u001b[0mi\u001b[0m \u001b[0;34m+\u001b[0m \u001b[0mn\u001b[0m\u001b[0;34m]\u001b[0m\u001b[0;34m\u001b[0m\u001b[0;34m\u001b[0m\u001b[0m\n",
      "\u001b[0;31mValueError\u001b[0m: range() arg 3 must not be zero"
     ]
    }
   ],
   "source": [
    "mean_wind_tb12= block_mean(indep_wind_tb12, sbi_start_tb12, impact_start_tb12)"
   ]
  },
  {
   "cell_type": "code",
   "execution_count": 112,
   "id": "b0c404f0",
   "metadata": {},
   "outputs": [
    {
     "ename": "ValueError",
     "evalue": "range() arg 3 must not be zero",
     "output_type": "error",
     "traceback": [
      "\u001b[0;31m---------------------------------------------------------------------------\u001b[0m",
      "\u001b[0;31mValueError\u001b[0m                                Traceback (most recent call last)",
      "\u001b[0;32m<ipython-input-112-c9ebe922fae3>\u001b[0m in \u001b[0;36m<module>\u001b[0;34m\u001b[0m\n\u001b[0;32m----> 1\u001b[0;31m \u001b[0mmean_wind_tb14\u001b[0m\u001b[0;34m=\u001b[0m \u001b[0mblock_mean\u001b[0m\u001b[0;34m(\u001b[0m\u001b[0mindep_wind_tb14\u001b[0m\u001b[0;34m,\u001b[0m \u001b[0msbi_start_tb14\u001b[0m\u001b[0;34m,\u001b[0m \u001b[0mimpact_start_tb14\u001b[0m\u001b[0;34m)\u001b[0m\u001b[0;34m\u001b[0m\u001b[0;34m\u001b[0m\u001b[0m\n\u001b[0m",
      "\u001b[0;32m<ipython-input-31-dc7d5b529270>\u001b[0m in \u001b[0;36mblock_mean\u001b[0;34m(data, sbi_indices_start, first_impacts_start)\u001b[0m\n\u001b[1;32m     27\u001b[0m     \u001b[0mindep_blocks_wind\u001b[0m \u001b[0;34m=\u001b[0m \u001b[0;34m[\u001b[0m\u001b[0;34m]\u001b[0m\u001b[0;34m\u001b[0m\u001b[0;34m\u001b[0m\u001b[0m\n\u001b[1;32m     28\u001b[0m     \u001b[0;32mfor\u001b[0m \u001b[0mi\u001b[0m \u001b[0;32min\u001b[0m \u001b[0mrange\u001b[0m\u001b[0;34m(\u001b[0m\u001b[0mlen\u001b[0m\u001b[0;34m(\u001b[0m\u001b[0msbi_indices_start\u001b[0m\u001b[0;34m)\u001b[0m\u001b[0;34m)\u001b[0m\u001b[0;34m:\u001b[0m\u001b[0;34m\u001b[0m\u001b[0;34m\u001b[0m\u001b[0m\n\u001b[0;32m---> 29\u001b[0;31m         \u001b[0mindep_blocks_wind\u001b[0m\u001b[0;34m.\u001b[0m\u001b[0mappend\u001b[0m\u001b[0;34m(\u001b[0m\u001b[0mlist\u001b[0m\u001b[0;34m(\u001b[0m\u001b[0mdivide_chunks\u001b[0m\u001b[0;34m(\u001b[0m\u001b[0mdata\u001b[0m\u001b[0;34m[\u001b[0m\u001b[0mi\u001b[0m\u001b[0;34m]\u001b[0m\u001b[0;34m,\u001b[0m \u001b[0mchunk_size_wind\u001b[0m\u001b[0;34m)\u001b[0m\u001b[0;34m)\u001b[0m\u001b[0;34m)\u001b[0m\u001b[0;34m\u001b[0m\u001b[0;34m\u001b[0m\u001b[0m\n\u001b[0m\u001b[1;32m     30\u001b[0m \u001b[0;34m\u001b[0m\u001b[0m\n\u001b[1;32m     31\u001b[0m \u001b[0;34m\u001b[0m\u001b[0m\n",
      "\u001b[0;32m<ipython-input-27-dba3c028e42a>\u001b[0m in \u001b[0;36mdivide_chunks\u001b[0;34m(lst, n)\u001b[0m\n\u001b[1;32m      1\u001b[0m \u001b[0;32mdef\u001b[0m \u001b[0mdivide_chunks\u001b[0m\u001b[0;34m(\u001b[0m\u001b[0mlst\u001b[0m\u001b[0;34m,\u001b[0m \u001b[0mn\u001b[0m\u001b[0;34m)\u001b[0m\u001b[0;34m:\u001b[0m\u001b[0;34m\u001b[0m\u001b[0;34m\u001b[0m\u001b[0m\n\u001b[1;32m      2\u001b[0m     \u001b[0;31m#Yield successive n-sized chunks from lst.\u001b[0m\u001b[0;34m\u001b[0m\u001b[0;34m\u001b[0m\u001b[0;34m\u001b[0m\u001b[0m\n\u001b[0;32m----> 3\u001b[0;31m     \u001b[0;32mfor\u001b[0m \u001b[0mi\u001b[0m \u001b[0;32min\u001b[0m \u001b[0mrange\u001b[0m\u001b[0;34m(\u001b[0m\u001b[0;36m0\u001b[0m\u001b[0;34m,\u001b[0m \u001b[0mlen\u001b[0m\u001b[0;34m(\u001b[0m\u001b[0mlst\u001b[0m\u001b[0;34m)\u001b[0m\u001b[0;34m,\u001b[0m \u001b[0mn\u001b[0m\u001b[0;34m)\u001b[0m\u001b[0;34m:\u001b[0m\u001b[0;34m\u001b[0m\u001b[0;34m\u001b[0m\u001b[0m\n\u001b[0m\u001b[1;32m      4\u001b[0m         \u001b[0;32myield\u001b[0m \u001b[0mlst\u001b[0m\u001b[0;34m[\u001b[0m\u001b[0mi\u001b[0m\u001b[0;34m:\u001b[0m\u001b[0mi\u001b[0m \u001b[0;34m+\u001b[0m \u001b[0mn\u001b[0m\u001b[0;34m]\u001b[0m\u001b[0;34m\u001b[0m\u001b[0;34m\u001b[0m\u001b[0m\n",
      "\u001b[0;31mValueError\u001b[0m: range() arg 3 must not be zero"
     ]
    }
   ],
   "source": [
    "mean_wind_tb14= block_mean(indep_wind_tb14, sbi_start_tb14, impact_start_tb14)"
   ]
  },
  {
   "cell_type": "markdown",
   "id": "421dd92f",
   "metadata": {},
   "source": [
    "# Response Emulator"
   ]
  },
  {
   "cell_type": "code",
   "execution_count": null,
   "id": "2297c239",
   "metadata": {},
   "outputs": [],
   "source": [
    "maxima_deflection= maxima_values_tb4+ maxima_values_tb5+ maxima_values_tb6+ maxima_values_tb8+ maxima_values_tb10+ maxima_values_tb11+ maxima_values_tb12+ maxima_values_tb14"
   ]
  },
  {
   "cell_type": "code",
   "execution_count": null,
   "id": "9e723a96",
   "metadata": {},
   "outputs": [],
   "source": [
    "mean_wind= mean_wind_tb4 + mean_wind_tb5+ mean_wind_tb6+ mean_wind_tb8+ mean_wind_tb10+ mean_wind_tb11+ mean_wind_tb12+ mean_wind_tb14"
   ]
  },
  {
   "cell_type": "code",
   "execution_count": null,
   "id": "8dac76ea",
   "metadata": {},
   "outputs": [],
   "source": [
    "print(len(maxima_deflection))\n",
    "print(len(mean_wind))"
   ]
  },
  {
   "cell_type": "markdown",
   "id": "272701ef",
   "metadata": {},
   "source": [
    "## Data"
   ]
  },
  {
   "cell_type": "code",
   "execution_count": null,
   "id": "9ea08e0c",
   "metadata": {},
   "outputs": [],
   "source": [
    "data_unsorted = {'windspeed':mean_wind,'deflection':maxima_deflection}\n",
    "data_unsorted = pd.DataFrame(data_unsorted)\n",
    "data_unsorted[\"deflection\"] = 100 * data_unsorted[\"deflection\"] # convert deflection into cm\n",
    "data_unsorted.to_csv('/Users/lenastroer/Python_Lokal/MasterThese/data_unsorted.csv')"
   ]
  },
  {
   "cell_type": "code",
   "execution_count": null,
   "id": "cff3b16b",
   "metadata": {},
   "outputs": [],
   "source": [
    "mean_wind.sort()\n",
    "maxima_deflection.sort()\n",
    "\n",
    "data_sorted = {'windspeed':mean_wind,'deflection':maxima_deflection}\n",
    "data_sorted = pd.DataFrame(data_sorted)\n",
    "data_sorted[\"deflection\"] = 100 * data_sorted[\"deflection\"] # convert deflection into cm\n",
    "data_sorted.to_csv('/Users/lenastroer/Python_Lokal/MasterThese/data_sorted.csv')"
   ]
  },
  {
   "cell_type": "code",
   "execution_count": null,
   "id": "420fb31a",
   "metadata": {},
   "outputs": [],
   "source": []
  }
 ],
 "metadata": {
  "kernelspec": {
   "display_name": "Python 3",
   "language": "python",
   "name": "python3"
  },
  "language_info": {
   "codemirror_mode": {
    "name": "ipython",
    "version": 3
   },
   "file_extension": ".py",
   "mimetype": "text/x-python",
   "name": "python",
   "nbconvert_exporter": "python",
   "pygments_lexer": "ipython3",
   "version": "3.8.8"
  }
 },
 "nbformat": 4,
 "nbformat_minor": 5
}
