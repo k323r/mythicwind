{
 "cells": [
  {
   "cell_type": "markdown",
   "metadata": {},
   "source": [
    "# 1D and 2D Driven Dampened Harmonic Oscillator\n",
    "\n",
    "\n",
    "## Theory\n",
    "\n",
    "Read about the theory of harmonic oscillators on [Wikipedia](https://en.wikipedia.org/wiki/Harmonic_oscillator) and on https://www.youtube.com/watch?v=JHF_UA0j5bg&t=294s \n",
    "\n",
    "### Mechanical oscillator\n",
    "\n",
    "The case of the two dimensional mechanical oscillator leads to the following equation:\n",
    "\n",
    "$$\n",
    "m \\ddot y + \\mu_y \\dot y + k_y y = m_y \\ddot y_d\n",
    "$$\n",
    "\n",
    "$$\n",
    "m \\ddot x + \\mu_x \\dot x + k_x x = m_x \\ddot x_d\n",
    "$$\n",
    "\n",
    "Where:\n",
    "\n",
    "* $x$, $y$ is the position,\n",
    "* $\\dot x$ and $\\ddot x$, $\\dot y$ and $\\ddot y$  are respectively the speed and acceleration,\n",
    "* $m_x$ and $m_y$ are the mass,\n",
    "* $\\mu_x$, $\\mu_y$ the Damping ratio\n",
    "* $k_x$, $k_y$ the stiffness,\n",
    "* and $\\ddot x_d$, $\\ddot y_d$ the driving acceleration which is null if the oscillator is free.\n",
    "\n",
    "### Canonical equation \n",
    "\n",
    "Most oscilators in 1D follow the same canonical equation:\n",
    "\n",
    "$$\n",
    "\\ddot x + 2 \\zeta \\omega_0 \\dot x + \\omega_0^2 x = \\ddot x_d\n",
    "$$\n",
    "\n",
    "Where:\n",
    "\n",
    "* $\\omega_0$ is the undamped pulsation,\n",
    "* $\\zeta$ is damping ratio,\n",
    "* $\\ddot x_d = a_d\\sin(\\omega_d t)$ is the imposed acceleration.\n",
    "* $F_m$ = $a_d$ here\n",
    "\n",
    "In the case of the mechanical oscillator:\n",
    "\n",
    "$$\n",
    "\\omega_0 = \\sqrt{\\dfrac{k}{m}}\n",
    "$$\n",
    "\n",
    "$$\n",
    "\\zeta = \\dfrac{\\mu}{2\\sqrt{mk}} \n",
    "$$\n",
    "\n"
   ]
  },
  {
   "cell_type": "code",
   "execution_count": 1,
   "metadata": {},
   "outputs": [],
   "source": [
    "# Imports\n",
    "\n",
    "%matplotlib widget\n",
    "import numpy as np\n",
    "import pandas as pd\n",
    "import matplotlib.pyplot as plt\n",
    "from scipy import integrate\n",
    "import ipywidgets as ipw"
   ]
  },
  {
   "cell_type": "markdown",
   "metadata": {},
   "source": [
    "## Coding with sinusoidal excitation force in 1D (X Axis)\n",
    "\n",
    "$$\\ddot{x}_d = F_m \\sin(\\omega_d t)$$\n",
    "\n",
    "First, you need to code: the harmonic oscillator using the standarde ODE formulation:\n",
    "\n",
    "$$\\ddot{x} = - 2 \\zeta \\omega_0 \\dot{x} - \\omega_0^2 x  + F_m \\sin(\\omega_d t)$$\n",
    "\n",
    "We define $$\\left\\{ \n",
    "             \\begin{array}{ll}\n",
    "             x_1 = x \\\\\n",
    "             x_2 = \\dot{x}\n",
    "             \\end{array}\n",
    "             \\right.\n",
    "          $$\n",
    "\n",
    "\n"
   ]
  },
  {
   "cell_type": "markdown",
   "metadata": {},
   "source": [
    "Like above, we can write this equation as for all $t$,\n",
    "\n",
    "$$\\dot{X}(t) = \\begin{pmatrix} \\dot{x} \\\\ \n",
    "                              - 2 \\zeta \\omega_0 \\dot{x} - \\omega_0^2 x + F_m \\sin(\\omega_d t) \\end{pmatrix} = f\\left(X, t\\right)$$"
   ]
  },
  {
   "cell_type": "markdown",
   "metadata": {},
   "source": [
    "# Aktuell angepasst auf Basis der TU GRAZ Simulation"
   ]
  },
  {
   "cell_type": "markdown",
   "metadata": {},
   "source": [
    "http://lampx.tugraz.at/~hadley/num/apps/numerical_integration/pendulum.en.php"
   ]
  },
  {
   "cell_type": "code",
   "execution_count": 38,
   "metadata": {},
   "outputs": [
    {
     "data": {
      "application/vnd.jupyter.widget-view+json": {
       "model_id": "980371e995b042b6a8c4a049877c6619",
       "version_major": 2,
       "version_minor": 0
      },
      "text/plain": [
       "interactive(children=(FloatSlider(value=2.0, description='zeta', max=3.0, step=0.01), FloatSlider(value=0.67, …"
      ]
     },
     "metadata": {},
     "output_type": "display_data"
    }
   ],
   "source": [
    "def odeDrive(X, t, zeta, omega0, omegad_omega0):\n",
    "    \"\"\"\n",
    "    Driven Harmonic Oscillator ODE\n",
    "    \"\"\"\n",
    "    x, dotx = X  #Input\n",
    "    omegad = omegad_omega0 * omega0 #w_d besteht aus W_0 und w_0d(inputparameter)\n",
    "    #ddotx = -2*zeta*omega0*dotx - omega0**2*x + F_m * np.sin(omegad * t) #DGL Gleichung\n",
    "    ddotx = - 1/zeta *dotx - np.sin(x) + F_m * np.cos(omega0 * t)\n",
    "    return [dotx, ddotx] #return eine Liste von x' und x''\n",
    "\n",
    "def update(zeta = 2, omega0 = 0.67, omegad_omega0 = 1.):\n",
    "    \"\"\"\n",
    "    Update function and calc with odeint\n",
    "    \"\"\"\n",
    "    X0_undamped = np.zeros(2) # Anfangswerte für ungedämpften Osz. \n",
    "    X0 =  [1., 0.] # Anfangswerte für gedämpften Osz. -> initial conditions\n",
    "    \n",
    "    \n",
    "    # The solution is an array with shape (1000 (n_t variable), 2)\n",
    "    # The first column is amplitude, and the second is velocity\n",
    "    sol = integrate.odeint(odeDrive, X0_undamped, t, args = (zeta, omega0, omegad_omega0)) \n",
    "    \n",
    "    \n",
    "    #Plotting Stuff für Osz.\n",
    "    dummy = np.zeros_like(t)\n",
    "    fig = plt.figure()\n",
    "    line0, = plt.plot(t, dummy, label = \"position\")\n",
    "    line0.set_ydata(sol[:, 1]) #plots the theta\n",
    "    plt.grid()\n",
    "    plt.ylim(-10., 10.)\n",
    "    plt.xlabel(\"Time, $t$\")\n",
    "    plt.ylabel(\"Amplitude, $a$\")\n",
    "    plt.legend()\n",
    "    \n",
    "    # The Poincare section\n",
    "    fig, ax = plt.subplots(figsize=(6, 6))\n",
    "    # We will generate a solution at 16000000(4000*4000) evenly spaced samples in the interval \n",
    "    # 0 <= t <= 4000\n",
    "    t_pm = np.linspace(0, 4000 * (2*np.pi) / omega0, num= 16000000) \n",
    "    \n",
    "    \n",
    "    #Poincare calc (4000, because of t_pm)\n",
    "    xs = integrate.odeint(odeDrive, X0, t_pm, args = (zeta, omega0, omegad_omega0) )\n",
    "    x = [xs[4000*i, 0] for i in range(4000)] #poincare over position\n",
    "    y = [xs[4000*i, 1] for i in range(4000)] #poincare over velocity\n",
    "    \n",
    "    \n",
    "    #Plotting Poincare map\n",
    "    ax.scatter(x, y, color='blue', s=0.1)\n",
    "    plt.xlabel('x', fontsize=15)\n",
    "    plt.ylabel('y', fontsize=15)\n",
    "    plt.tick_params(labelsize=15)\n",
    "    plt.title('The Poincare section')\n",
    "\n",
    "    plt.show()\n",
    "    \n",
    "    \n",
    "# Parameter Antriebskraft\n",
    "F_m = 0.6\n",
    "\n",
    "\n",
    "# We will generate a solution at 1000 evenly spaced samples in the interval \n",
    "# 0 <= t <= 10\n",
    "Nt = 1000\n",
    "t = np.linspace(0., 10., Nt)\n",
    "\n",
    "\n",
    "#Interactive Jupyter\n",
    "ipw.interact(update, zeta = (0., 3, 0.01), \n",
    "             omega0 = (0, 2.*np.pi*5, 2.*np.pi*0.01),\n",
    "             omegad_omega0 = (0.0, 10., 0.05));"
   ]
  },
  {
   "cell_type": "code",
   "execution_count": 42,
   "metadata": {},
   "outputs": [
    {
     "data": {
      "application/vnd.jupyter.widget-view+json": {
       "model_id": "5039622a3f5244ab804da52764acf563",
       "version_major": 2,
       "version_minor": 0
      },
      "text/plain": [
       "Canvas(toolbar=Toolbar(toolitems=[('Home', 'Reset original view', 'home', 'home'), ('Back', 'Back to previous …"
      ]
     },
     "metadata": {},
     "output_type": "display_data"
    }
   ],
   "source": [
    "## Phase portrait without excitation\n",
    "\n",
    "# Parameter canonical DGL\n",
    "#omega0 = 2. * np.pi * 1.\n",
    "omega0 = 0.67\n",
    "#zeta   = .1\n",
    "zeta = 2\n",
    "ad = 1.\n",
    "omegad = 2. * np.pi * 1.2\n",
    "\n",
    "#plotting params\n",
    "Nt = 1000\n",
    "tf = 10.\n",
    "t = np.linspace(0., tf, Nt+1)\n",
    "\n",
    "\n",
    "X0_undamped = np.zeros(2) # ungedämpft\n",
    "#X0 =  [1., 0.] #gedämpft\n",
    "X = integrate.odeint(odeDrive, X0_undamped, t, args = (zeta, omega0, 0))\n",
    "\n",
    "\n",
    "\n",
    "#Plotting\n",
    "plt.figure()\n",
    "plt.title(\"Phase plane \")\n",
    "plt.plot(X[:,0], X[:,1])\n",
    "plt.grid()\n",
    "plt.xlabel(\"$x$, [$m$]\")\n",
    "plt.ylabel(\"$\\dot{x}$, [$m.s^{-1}$] \")\n",
    "plt.show();"
   ]
  },
  {
   "cell_type": "markdown",
   "metadata": {},
   "source": [
    "## Adding Axis Y"
   ]
  },
  {
   "cell_type": "markdown",
   "metadata": {},
   "source": [
    "Equations:\n",
    "\n",
    "$$\\ddot{y}_d = F_my \\sin(\\omega_d t)$$\n",
    "\n",
    "$$\\ddot{y} = - 2 \\zeta_y \\omega_0 \\dot{y} - \\omega_0^2 y  + F_my \\sin(\\omega_d t)$$\n",
    "\n",
    "We define $$\\left\\{ \n",
    "             \\begin{array}{ll}\n",
    "             y_1 = y \\\\\n",
    "             y_2 = \\dot{y}\n",
    "             \\end{array}\n",
    "           \\right.\n",
    "          $$\n",
    "\n",
    "Like above, we can write this equation as for all $t$,\n",
    "\n",
    "$$\\dot{Y}(t) = \\begin{pmatrix} \\dot{y} \\\\ \n",
    "                              - 2 \\zeta \\omega_0 \\dot{y} - \\omega_0^2 y + F_my \\sin(\\omega_d t) \\end{pmatrix} = f\\left(Y, t\\right)$$\n",
    "                              \n"
   ]
  },
  {
   "cell_type": "code",
   "execution_count": 4,
   "metadata": {},
   "outputs": [
    {
     "data": {
      "application/vnd.jupyter.widget-view+json": {
       "model_id": "1f3f43b837f3492b964fe5b07f86de59",
       "version_major": 2,
       "version_minor": 0
      },
      "text/plain": [
       "interactive(children=(FloatSlider(value=0.05, description='zeta', max=0.2, step=0.01), FloatSlider(value=6.283…"
      ]
     },
     "metadata": {},
     "output_type": "display_data"
    }
   ],
   "source": [
    "def odeDrive_Y(Y, t, zeta, omega0, omegad_omega0_y):\n",
    "    \"\"\"\n",
    "    Driven Harmonic Oscillator ODE\n",
    "    \"\"\"\n",
    "    y, doty = Y\n",
    "    omegad_y = omegad_omega0_y * omega0\n",
    "    ddoty = -2*zeta*omega0*doty - omega0**2*y + F_m_y * np.sin(omegad_y * t)\n",
    "    return [doty, ddoty]\n",
    "\n",
    "def update_Y(zeta = 0.05, omega0 = 2.*np.pi, omegad_omega0_y = 1.):\n",
    "    \"\"\"\n",
    "    Update function and calc with odeint\n",
    "    \"\"\"\n",
    "    Y0 = np.zeros(2) # ungedämpft\n",
    "    #Y0 =  [1., 0.] #gedämpft\n",
    "    sol = integrate.odeint(odeDrive_Y, Y0, t, args = (zeta, omega0, omegad_omega0_y))\n",
    "    \n",
    "    #Plotting\n",
    "    dummy = np.zeros_like(t)\n",
    "    fig = plt.figure()\n",
    "    line0, = plt.plot(t, dummy, label = \"position\")\n",
    "    line0.set_ydata(sol[:, 0])\n",
    "    plt.grid()\n",
    "    plt.ylim(-1., 1.)\n",
    "    plt.xlabel(\"Time, $t$\")\n",
    "    plt.ylabel(\"Amplitude, $a$\")\n",
    "    plt.legend()\n",
    "      # The Poincare section.\n",
    "    fig, ax = plt.subplots(figsize=(6, 6))\n",
    "    t_pm = np.linspace(0, 4000 * (2*np.pi) / omega0, 16000000)\n",
    "    xs = integrate.odeint(odeDrive_Y, Y0, t_pm, args = (zeta, omega0, omegad_omega0_y) )\n",
    "\n",
    "    x = [xs[4000*i, 0] for i in range(4000)]\n",
    "    y = [xs[4000*i, 1] for i in range(4000)]\n",
    "\n",
    "    ax.scatter(x, y, color='blue', s=0.1)\n",
    "    plt.xlabel('x', fontsize=15)\n",
    "    plt.ylabel('y', fontsize=15)\n",
    "    plt.tick_params(labelsize=15)\n",
    "    plt.title('The Poincare section')\n",
    "\n",
    "    plt.show()\n",
    "    \n",
    "    \n",
    "    \n",
    "    \n",
    "#Driven parameter\n",
    "F_m_y = 1.\n",
    "\n",
    "#For plotting\n",
    "Nt = 1000\n",
    "t = np.linspace(0., 10., Nt)\n",
    "\n",
    "#Interactive\n",
    "ipw.interact(update_Y, zeta = (0., .2, 0.01), \n",
    "             omega0 = (2.*np.pi*0.5, 2.*np.pi*5, 2.*np.pi*0.01),\n",
    "             omegad_omega0_y = (0.0, 10., 0.05));"
   ]
  },
  {
   "cell_type": "code",
   "execution_count": 5,
   "metadata": {},
   "outputs": [
    {
     "data": {
      "application/vnd.jupyter.widget-view+json": {
       "model_id": "01099977fc7b47c0831b2c90c40129ba",
       "version_major": 2,
       "version_minor": 0
      },
      "text/plain": [
       "Canvas(toolbar=Toolbar(toolitems=[('Home', 'Reset original view', 'home', 'home'), ('Back', 'Back to previous …"
      ]
     },
     "metadata": {},
     "output_type": "display_data"
    }
   ],
   "source": [
    "omegad_omega0 = 1.\n",
    "Y0 = np.zeros(2) # ungedämpft\n",
    "#Y0 =  [1., 0.] #gedämpft\n",
    "Y = integrate.odeint(odeDrive_Y, Y0, t, args = (zeta, omega0, omegad_omega0))\n",
    "\n",
    "plt.figure()\n",
    "plt.title(\"Phase plane with $\\zeta =$ \"+str(zeta))\n",
    "plt.plot(Y[:,0], Y[:,1])\n",
    "plt.grid()\n",
    "plt.xlabel(\"$y$, [$m$]\")\n",
    "plt.ylabel(\"$\\dot{y}$, [$m.s^{-1}$] \")\n",
    "plt.show();"
   ]
  },
  {
   "cell_type": "markdown",
   "metadata": {},
   "source": [
    " # Literatur und Ideen\n",
    " \n",
    " http://lampx.tugraz.at/~hadley/num/apps/numerical_integration/pendulum.en.php\n",
    " http://www.databookuw.com/page-2/page-21/\n",
    " PCA FFT Wavelets SINDy\n",
    " AR,ARMA, ARIMA etc"
   ]
  },
  {
   "cell_type": "code",
   "execution_count": null,
   "metadata": {},
   "outputs": [],
   "source": []
  }
 ],
 "metadata": {
  "anaconda-cloud": {},
  "celltoolbar": "Slideshow",
  "kernelspec": {
   "display_name": "Python 3",
   "language": "python",
   "name": "python3"
  },
  "language_info": {
   "codemirror_mode": {
    "name": "ipython",
    "version": 3
   },
   "file_extension": ".py",
   "mimetype": "text/x-python",
   "name": "python",
   "nbconvert_exporter": "python",
   "pygments_lexer": "ipython3",
   "version": "3.8.5"
  }
 },
 "nbformat": 4,
 "nbformat_minor": 4
}
